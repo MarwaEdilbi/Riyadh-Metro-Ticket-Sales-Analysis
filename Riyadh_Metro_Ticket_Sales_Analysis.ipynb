{
  "nbformat": 4,
  "nbformat_minor": 0,
  "metadata": {
    "colab": {
      "provenance": [],
      "collapsed_sections": [
        "IOjeUVO4XASl",
        "AecygqinXJHn",
        "fCIa1fzeXb8Q",
        "qCqEnFJeXvr1",
        "bBWKi84-nd2w",
        "FH8ln7aBTcuF",
        "D_AC2wlN8GTY",
        "dRDue7xmgbLz",
        "ZIb0dEHStFsB",
        "j9g2sBJps-4z",
        "_GWw-MfJuTIM",
        "AayV7AxSudHs",
        "rXy3xiZAuk4T",
        "W00KOosjuuRU",
        "xBCRmt-gvDyK",
        "GcJWrobpvFsy",
        "sN4K3ZxAvZvK",
        "Fzzxa0aivhF8",
        "D3JsJYXlIlHx",
        "ThKTWYNav6uU",
        "d26_hm9UwFVu"
      ]
    },
    "kernelspec": {
      "name": "python3",
      "display_name": "Python 3"
    },
    "language_info": {
      "name": "python"
    }
  },
  "cells": [
    {
      "cell_type": "markdown",
      "source": [
        "# Libraries:"
      ],
      "metadata": {
        "id": "IOjeUVO4XASl"
      }
    },
    {
      "cell_type": "code",
      "source": [
        "pip install pywaffle"
      ],
      "metadata": {
        "colab": {
          "base_uri": "https://localhost:8080/"
        },
        "id": "UWfg_e-GHS9N",
        "outputId": "10f26409-2c2f-40c9-e4c7-a492a31e9845"
      },
      "execution_count": null,
      "outputs": [
        {
          "output_type": "stream",
          "name": "stdout",
          "text": [
            "Collecting pywaffle\n",
            "  Downloading pywaffle-1.1.1-py2.py3-none-any.whl.metadata (2.6 kB)\n",
            "Collecting fontawesomefree (from pywaffle)\n",
            "  Downloading fontawesomefree-6.6.0-py3-none-any.whl.metadata (853 bytes)\n",
            "Requirement already satisfied: matplotlib in /usr/local/lib/python3.11/dist-packages (from pywaffle) (3.10.0)\n",
            "Requirement already satisfied: contourpy>=1.0.1 in /usr/local/lib/python3.11/dist-packages (from matplotlib->pywaffle) (1.3.2)\n",
            "Requirement already satisfied: cycler>=0.10 in /usr/local/lib/python3.11/dist-packages (from matplotlib->pywaffle) (0.12.1)\n",
            "Requirement already satisfied: fonttools>=4.22.0 in /usr/local/lib/python3.11/dist-packages (from matplotlib->pywaffle) (4.58.0)\n",
            "Requirement already satisfied: kiwisolver>=1.3.1 in /usr/local/lib/python3.11/dist-packages (from matplotlib->pywaffle) (1.4.8)\n",
            "Requirement already satisfied: numpy>=1.23 in /usr/local/lib/python3.11/dist-packages (from matplotlib->pywaffle) (2.0.2)\n",
            "Requirement already satisfied: packaging>=20.0 in /usr/local/lib/python3.11/dist-packages (from matplotlib->pywaffle) (24.2)\n",
            "Requirement already satisfied: pillow>=8 in /usr/local/lib/python3.11/dist-packages (from matplotlib->pywaffle) (11.2.1)\n",
            "Requirement already satisfied: pyparsing>=2.3.1 in /usr/local/lib/python3.11/dist-packages (from matplotlib->pywaffle) (3.2.3)\n",
            "Requirement already satisfied: python-dateutil>=2.7 in /usr/local/lib/python3.11/dist-packages (from matplotlib->pywaffle) (2.9.0.post0)\n",
            "Requirement already satisfied: six>=1.5 in /usr/local/lib/python3.11/dist-packages (from python-dateutil>=2.7->matplotlib->pywaffle) (1.17.0)\n",
            "Downloading pywaffle-1.1.1-py2.py3-none-any.whl (30 kB)\n",
            "Downloading fontawesomefree-6.6.0-py3-none-any.whl (25.6 MB)\n",
            "\u001b[2K   \u001b[90m━━━━━━━━━━━━━━━━━━━━━━━━━━━━━━━━━━━━━━━━\u001b[0m \u001b[32m25.6/25.6 MB\u001b[0m \u001b[31m98.4 MB/s\u001b[0m eta \u001b[36m0:00:00\u001b[0m\n",
            "\u001b[?25hInstalling collected packages: fontawesomefree, pywaffle\n",
            "Successfully installed fontawesomefree-6.6.0 pywaffle-1.1.1\n"
          ]
        }
      ]
    },
    {
      "cell_type": "code",
      "execution_count": null,
      "metadata": {
        "id": "Pny72WQCCzDf"
      },
      "outputs": [],
      "source": [
        "# import libraries\n",
        "import pandas as pd\n",
        "import numpy as np\n",
        "import seaborn as sns\n",
        "import matplotlib as plt\n",
        "import matplotlib.pyplot as plt\n",
        "from pywaffle import Waffle\n",
        "import plotly.express as px\n",
        "import warnings\n",
        "warnings.filterwarnings(\"ignore\", category=FutureWarning)"
      ]
    },
    {
      "cell_type": "markdown",
      "source": [
        "# Data"
      ],
      "metadata": {
        "id": "AecygqinXJHn"
      }
    },
    {
      "cell_type": "code",
      "source": [
        "#Read Riyadh Metro data from CSV file and convert to DataFrame\n",
        "df = pd.read_csv(\"riyadh_metro_data.csv\")"
      ],
      "metadata": {
        "id": "T_a_O6uIC5ab"
      },
      "execution_count": null,
      "outputs": []
    },
    {
      "cell_type": "code",
      "source": [
        "# Show first 5 columns\n",
        "df.head()"
      ],
      "metadata": {
        "colab": {
          "base_uri": "https://localhost:8080/",
          "height": 365
        },
        "id": "fL0L-MxmDJ2W",
        "outputId": "5b2220dd-623c-4e65-ac63-bdd6f47599d6"
      },
      "execution_count": null,
      "outputs": [
        {
          "output_type": "execute_result",
          "data": {
            "text/plain": [
              "    Ticket ID Ticket Type Ticket Class  Base Price  Age   Discount Category  \\\n",
              "0  TKT1000000     1 Month     Standard         140   79              Senior   \n",
              "1  TKT1000001      7 Days  First Class         100   13      School Student   \n",
              "2  TKT1000002      3 Days  First Class          50   25  University Student   \n",
              "3  TKT1000003     2 Hours     Standard           4    8      School Student   \n",
              "4  TKT1000004     2 Hours     Standard           4   68              Senior   \n",
              "\n",
              "   Final Price Journey Status Refund Request Delay Reason Payment Method  \\\n",
              "0         70.0        On Time             No          NaN      Apple Pay   \n",
              "1         50.0      Cancelled            Yes          NaN           Card   \n",
              "2         25.0        Delayed             No  Maintenance      Apple Pay   \n",
              "3          2.0        On Time             No          NaN      Apple Pay   \n",
              "4          2.0        On Time             No          NaN      Apple Pay   \n",
              "\n",
              "         Method        Start Station      End Station Journey Date  Gender  \n",
              "0      Darb App   King Fahad Library  Imam University   2025-01-23  Female  \n",
              "1  Gate Payment  King Fahad District     Qasr Al Hokm   2025-04-14    Male  \n",
              "2      Darb App             Ghornata     Qasr Al Hokm   2024-12-23  Female  \n",
              "3           TVM               Alinma             KKIA   2025-04-06  Female  \n",
              "4      Darb App      National Museum             SABB   2024-12-22  Female  "
            ],
            "text/html": [
              "\n",
              "  <div id=\"df-b1be70de-6b9a-43c6-8db9-dca324f72a5b\" class=\"colab-df-container\">\n",
              "    <div>\n",
              "<style scoped>\n",
              "    .dataframe tbody tr th:only-of-type {\n",
              "        vertical-align: middle;\n",
              "    }\n",
              "\n",
              "    .dataframe tbody tr th {\n",
              "        vertical-align: top;\n",
              "    }\n",
              "\n",
              "    .dataframe thead th {\n",
              "        text-align: right;\n",
              "    }\n",
              "</style>\n",
              "<table border=\"1\" class=\"dataframe\">\n",
              "  <thead>\n",
              "    <tr style=\"text-align: right;\">\n",
              "      <th></th>\n",
              "      <th>Ticket ID</th>\n",
              "      <th>Ticket Type</th>\n",
              "      <th>Ticket Class</th>\n",
              "      <th>Base Price</th>\n",
              "      <th>Age</th>\n",
              "      <th>Discount Category</th>\n",
              "      <th>Final Price</th>\n",
              "      <th>Journey Status</th>\n",
              "      <th>Refund Request</th>\n",
              "      <th>Delay Reason</th>\n",
              "      <th>Payment Method</th>\n",
              "      <th>Method</th>\n",
              "      <th>Start Station</th>\n",
              "      <th>End Station</th>\n",
              "      <th>Journey Date</th>\n",
              "      <th>Gender</th>\n",
              "    </tr>\n",
              "  </thead>\n",
              "  <tbody>\n",
              "    <tr>\n",
              "      <th>0</th>\n",
              "      <td>TKT1000000</td>\n",
              "      <td>1 Month</td>\n",
              "      <td>Standard</td>\n",
              "      <td>140</td>\n",
              "      <td>79</td>\n",
              "      <td>Senior</td>\n",
              "      <td>70.0</td>\n",
              "      <td>On Time</td>\n",
              "      <td>No</td>\n",
              "      <td>NaN</td>\n",
              "      <td>Apple Pay</td>\n",
              "      <td>Darb App</td>\n",
              "      <td>King Fahad Library</td>\n",
              "      <td>Imam University</td>\n",
              "      <td>2025-01-23</td>\n",
              "      <td>Female</td>\n",
              "    </tr>\n",
              "    <tr>\n",
              "      <th>1</th>\n",
              "      <td>TKT1000001</td>\n",
              "      <td>7 Days</td>\n",
              "      <td>First Class</td>\n",
              "      <td>100</td>\n",
              "      <td>13</td>\n",
              "      <td>School Student</td>\n",
              "      <td>50.0</td>\n",
              "      <td>Cancelled</td>\n",
              "      <td>Yes</td>\n",
              "      <td>NaN</td>\n",
              "      <td>Card</td>\n",
              "      <td>Gate Payment</td>\n",
              "      <td>King Fahad District</td>\n",
              "      <td>Qasr Al Hokm</td>\n",
              "      <td>2025-04-14</td>\n",
              "      <td>Male</td>\n",
              "    </tr>\n",
              "    <tr>\n",
              "      <th>2</th>\n",
              "      <td>TKT1000002</td>\n",
              "      <td>3 Days</td>\n",
              "      <td>First Class</td>\n",
              "      <td>50</td>\n",
              "      <td>25</td>\n",
              "      <td>University Student</td>\n",
              "      <td>25.0</td>\n",
              "      <td>Delayed</td>\n",
              "      <td>No</td>\n",
              "      <td>Maintenance</td>\n",
              "      <td>Apple Pay</td>\n",
              "      <td>Darb App</td>\n",
              "      <td>Ghornata</td>\n",
              "      <td>Qasr Al Hokm</td>\n",
              "      <td>2024-12-23</td>\n",
              "      <td>Female</td>\n",
              "    </tr>\n",
              "    <tr>\n",
              "      <th>3</th>\n",
              "      <td>TKT1000003</td>\n",
              "      <td>2 Hours</td>\n",
              "      <td>Standard</td>\n",
              "      <td>4</td>\n",
              "      <td>8</td>\n",
              "      <td>School Student</td>\n",
              "      <td>2.0</td>\n",
              "      <td>On Time</td>\n",
              "      <td>No</td>\n",
              "      <td>NaN</td>\n",
              "      <td>Apple Pay</td>\n",
              "      <td>TVM</td>\n",
              "      <td>Alinma</td>\n",
              "      <td>KKIA</td>\n",
              "      <td>2025-04-06</td>\n",
              "      <td>Female</td>\n",
              "    </tr>\n",
              "    <tr>\n",
              "      <th>4</th>\n",
              "      <td>TKT1000004</td>\n",
              "      <td>2 Hours</td>\n",
              "      <td>Standard</td>\n",
              "      <td>4</td>\n",
              "      <td>68</td>\n",
              "      <td>Senior</td>\n",
              "      <td>2.0</td>\n",
              "      <td>On Time</td>\n",
              "      <td>No</td>\n",
              "      <td>NaN</td>\n",
              "      <td>Apple Pay</td>\n",
              "      <td>Darb App</td>\n",
              "      <td>National Museum</td>\n",
              "      <td>SABB</td>\n",
              "      <td>2024-12-22</td>\n",
              "      <td>Female</td>\n",
              "    </tr>\n",
              "  </tbody>\n",
              "</table>\n",
              "</div>\n",
              "    <div class=\"colab-df-buttons\">\n",
              "\n",
              "  <div class=\"colab-df-container\">\n",
              "    <button class=\"colab-df-convert\" onclick=\"convertToInteractive('df-b1be70de-6b9a-43c6-8db9-dca324f72a5b')\"\n",
              "            title=\"Convert this dataframe to an interactive table.\"\n",
              "            style=\"display:none;\">\n",
              "\n",
              "  <svg xmlns=\"http://www.w3.org/2000/svg\" height=\"24px\" viewBox=\"0 -960 960 960\">\n",
              "    <path d=\"M120-120v-720h720v720H120Zm60-500h600v-160H180v160Zm220 220h160v-160H400v160Zm0 220h160v-160H400v160ZM180-400h160v-160H180v160Zm440 0h160v-160H620v160ZM180-180h160v-160H180v160Zm440 0h160v-160H620v160Z\"/>\n",
              "  </svg>\n",
              "    </button>\n",
              "\n",
              "  <style>\n",
              "    .colab-df-container {\n",
              "      display:flex;\n",
              "      gap: 12px;\n",
              "    }\n",
              "\n",
              "    .colab-df-convert {\n",
              "      background-color: #E8F0FE;\n",
              "      border: none;\n",
              "      border-radius: 50%;\n",
              "      cursor: pointer;\n",
              "      display: none;\n",
              "      fill: #1967D2;\n",
              "      height: 32px;\n",
              "      padding: 0 0 0 0;\n",
              "      width: 32px;\n",
              "    }\n",
              "\n",
              "    .colab-df-convert:hover {\n",
              "      background-color: #E2EBFA;\n",
              "      box-shadow: 0px 1px 2px rgba(60, 64, 67, 0.3), 0px 1px 3px 1px rgba(60, 64, 67, 0.15);\n",
              "      fill: #174EA6;\n",
              "    }\n",
              "\n",
              "    .colab-df-buttons div {\n",
              "      margin-bottom: 4px;\n",
              "    }\n",
              "\n",
              "    [theme=dark] .colab-df-convert {\n",
              "      background-color: #3B4455;\n",
              "      fill: #D2E3FC;\n",
              "    }\n",
              "\n",
              "    [theme=dark] .colab-df-convert:hover {\n",
              "      background-color: #434B5C;\n",
              "      box-shadow: 0px 1px 3px 1px rgba(0, 0, 0, 0.15);\n",
              "      filter: drop-shadow(0px 1px 2px rgba(0, 0, 0, 0.3));\n",
              "      fill: #FFFFFF;\n",
              "    }\n",
              "  </style>\n",
              "\n",
              "    <script>\n",
              "      const buttonEl =\n",
              "        document.querySelector('#df-b1be70de-6b9a-43c6-8db9-dca324f72a5b button.colab-df-convert');\n",
              "      buttonEl.style.display =\n",
              "        google.colab.kernel.accessAllowed ? 'block' : 'none';\n",
              "\n",
              "      async function convertToInteractive(key) {\n",
              "        const element = document.querySelector('#df-b1be70de-6b9a-43c6-8db9-dca324f72a5b');\n",
              "        const dataTable =\n",
              "          await google.colab.kernel.invokeFunction('convertToInteractive',\n",
              "                                                    [key], {});\n",
              "        if (!dataTable) return;\n",
              "\n",
              "        const docLinkHtml = 'Like what you see? Visit the ' +\n",
              "          '<a target=\"_blank\" href=https://colab.research.google.com/notebooks/data_table.ipynb>data table notebook</a>'\n",
              "          + ' to learn more about interactive tables.';\n",
              "        element.innerHTML = '';\n",
              "        dataTable['output_type'] = 'display_data';\n",
              "        await google.colab.output.renderOutput(dataTable, element);\n",
              "        const docLink = document.createElement('div');\n",
              "        docLink.innerHTML = docLinkHtml;\n",
              "        element.appendChild(docLink);\n",
              "      }\n",
              "    </script>\n",
              "  </div>\n",
              "\n",
              "\n",
              "    <div id=\"df-fec3c6d8-7cd7-4e70-bde5-82c32f424b8f\">\n",
              "      <button class=\"colab-df-quickchart\" onclick=\"quickchart('df-fec3c6d8-7cd7-4e70-bde5-82c32f424b8f')\"\n",
              "                title=\"Suggest charts\"\n",
              "                style=\"display:none;\">\n",
              "\n",
              "<svg xmlns=\"http://www.w3.org/2000/svg\" height=\"24px\"viewBox=\"0 0 24 24\"\n",
              "     width=\"24px\">\n",
              "    <g>\n",
              "        <path d=\"M19 3H5c-1.1 0-2 .9-2 2v14c0 1.1.9 2 2 2h14c1.1 0 2-.9 2-2V5c0-1.1-.9-2-2-2zM9 17H7v-7h2v7zm4 0h-2V7h2v10zm4 0h-2v-4h2v4z\"/>\n",
              "    </g>\n",
              "</svg>\n",
              "      </button>\n",
              "\n",
              "<style>\n",
              "  .colab-df-quickchart {\n",
              "      --bg-color: #E8F0FE;\n",
              "      --fill-color: #1967D2;\n",
              "      --hover-bg-color: #E2EBFA;\n",
              "      --hover-fill-color: #174EA6;\n",
              "      --disabled-fill-color: #AAA;\n",
              "      --disabled-bg-color: #DDD;\n",
              "  }\n",
              "\n",
              "  [theme=dark] .colab-df-quickchart {\n",
              "      --bg-color: #3B4455;\n",
              "      --fill-color: #D2E3FC;\n",
              "      --hover-bg-color: #434B5C;\n",
              "      --hover-fill-color: #FFFFFF;\n",
              "      --disabled-bg-color: #3B4455;\n",
              "      --disabled-fill-color: #666;\n",
              "  }\n",
              "\n",
              "  .colab-df-quickchart {\n",
              "    background-color: var(--bg-color);\n",
              "    border: none;\n",
              "    border-radius: 50%;\n",
              "    cursor: pointer;\n",
              "    display: none;\n",
              "    fill: var(--fill-color);\n",
              "    height: 32px;\n",
              "    padding: 0;\n",
              "    width: 32px;\n",
              "  }\n",
              "\n",
              "  .colab-df-quickchart:hover {\n",
              "    background-color: var(--hover-bg-color);\n",
              "    box-shadow: 0 1px 2px rgba(60, 64, 67, 0.3), 0 1px 3px 1px rgba(60, 64, 67, 0.15);\n",
              "    fill: var(--button-hover-fill-color);\n",
              "  }\n",
              "\n",
              "  .colab-df-quickchart-complete:disabled,\n",
              "  .colab-df-quickchart-complete:disabled:hover {\n",
              "    background-color: var(--disabled-bg-color);\n",
              "    fill: var(--disabled-fill-color);\n",
              "    box-shadow: none;\n",
              "  }\n",
              "\n",
              "  .colab-df-spinner {\n",
              "    border: 2px solid var(--fill-color);\n",
              "    border-color: transparent;\n",
              "    border-bottom-color: var(--fill-color);\n",
              "    animation:\n",
              "      spin 1s steps(1) infinite;\n",
              "  }\n",
              "\n",
              "  @keyframes spin {\n",
              "    0% {\n",
              "      border-color: transparent;\n",
              "      border-bottom-color: var(--fill-color);\n",
              "      border-left-color: var(--fill-color);\n",
              "    }\n",
              "    20% {\n",
              "      border-color: transparent;\n",
              "      border-left-color: var(--fill-color);\n",
              "      border-top-color: var(--fill-color);\n",
              "    }\n",
              "    30% {\n",
              "      border-color: transparent;\n",
              "      border-left-color: var(--fill-color);\n",
              "      border-top-color: var(--fill-color);\n",
              "      border-right-color: var(--fill-color);\n",
              "    }\n",
              "    40% {\n",
              "      border-color: transparent;\n",
              "      border-right-color: var(--fill-color);\n",
              "      border-top-color: var(--fill-color);\n",
              "    }\n",
              "    60% {\n",
              "      border-color: transparent;\n",
              "      border-right-color: var(--fill-color);\n",
              "    }\n",
              "    80% {\n",
              "      border-color: transparent;\n",
              "      border-right-color: var(--fill-color);\n",
              "      border-bottom-color: var(--fill-color);\n",
              "    }\n",
              "    90% {\n",
              "      border-color: transparent;\n",
              "      border-bottom-color: var(--fill-color);\n",
              "    }\n",
              "  }\n",
              "</style>\n",
              "\n",
              "      <script>\n",
              "        async function quickchart(key) {\n",
              "          const quickchartButtonEl =\n",
              "            document.querySelector('#' + key + ' button');\n",
              "          quickchartButtonEl.disabled = true;  // To prevent multiple clicks.\n",
              "          quickchartButtonEl.classList.add('colab-df-spinner');\n",
              "          try {\n",
              "            const charts = await google.colab.kernel.invokeFunction(\n",
              "                'suggestCharts', [key], {});\n",
              "          } catch (error) {\n",
              "            console.error('Error during call to suggestCharts:', error);\n",
              "          }\n",
              "          quickchartButtonEl.classList.remove('colab-df-spinner');\n",
              "          quickchartButtonEl.classList.add('colab-df-quickchart-complete');\n",
              "        }\n",
              "        (() => {\n",
              "          let quickchartButtonEl =\n",
              "            document.querySelector('#df-fec3c6d8-7cd7-4e70-bde5-82c32f424b8f button');\n",
              "          quickchartButtonEl.style.display =\n",
              "            google.colab.kernel.accessAllowed ? 'block' : 'none';\n",
              "        })();\n",
              "      </script>\n",
              "    </div>\n",
              "\n",
              "    </div>\n",
              "  </div>\n"
            ],
            "application/vnd.google.colaboratory.intrinsic+json": {
              "type": "dataframe",
              "variable_name": "df",
              "summary": "{\n  \"name\": \"df\",\n  \"rows\": 10000,\n  \"fields\": [\n    {\n      \"column\": \"Ticket ID\",\n      \"properties\": {\n        \"dtype\": \"string\",\n        \"num_unique_values\": 10000,\n        \"samples\": [\n          \"TKT1006252\",\n          \"TKT1004684\",\n          \"TKT1001731\"\n        ],\n        \"semantic_type\": \"\",\n        \"description\": \"\"\n      }\n    },\n    {\n      \"column\": \"Ticket Type\",\n      \"properties\": {\n        \"dtype\": \"category\",\n        \"num_unique_values\": 4,\n        \"samples\": [\n          \"7 Days\",\n          \"2 Hours\",\n          \"1 Month\"\n        ],\n        \"semantic_type\": \"\",\n        \"description\": \"\"\n      }\n    },\n    {\n      \"column\": \"Ticket Class\",\n      \"properties\": {\n        \"dtype\": \"category\",\n        \"num_unique_values\": 2,\n        \"samples\": [\n          \"First Class\",\n          \"Standard\"\n        ],\n        \"semantic_type\": \"\",\n        \"description\": \"\"\n      }\n    },\n    {\n      \"column\": \"Base Price\",\n      \"properties\": {\n        \"dtype\": \"number\",\n        \"std\": 109,\n        \"min\": 4,\n        \"max\": 350,\n        \"num_unique_values\": 8,\n        \"samples\": [\n          100,\n          20\n        ],\n        \"semantic_type\": \"\",\n        \"description\": \"\"\n      }\n    },\n    {\n      \"column\": \"Age\",\n      \"properties\": {\n        \"dtype\": \"number\",\n        \"std\": 22,\n        \"min\": 1,\n        \"max\": 80,\n        \"num_unique_values\": 80,\n        \"samples\": [\n          66,\n          79\n        ],\n        \"semantic_type\": \"\",\n        \"description\": \"\"\n      }\n    },\n    {\n      \"column\": \"Discount Category\",\n      \"properties\": {\n        \"dtype\": \"category\",\n        \"num_unique_values\": 5,\n        \"samples\": [\n          \"School Student\",\n          \"Child\"\n        ],\n        \"semantic_type\": \"\",\n        \"description\": \"\"\n      }\n    },\n    {\n      \"column\": \"Final Price\",\n      \"properties\": {\n        \"dtype\": \"number\",\n        \"std\": 82.43876415724328,\n        \"min\": 0.0,\n        \"max\": 350.0,\n        \"num_unique_values\": 14,\n        \"samples\": [\n          5.0,\n          10.0\n        ],\n        \"semantic_type\": \"\",\n        \"description\": \"\"\n      }\n    },\n    {\n      \"column\": \"Journey Status\",\n      \"properties\": {\n        \"dtype\": \"category\",\n        \"num_unique_values\": 3,\n        \"samples\": [\n          \"On Time\",\n          \"Cancelled\"\n        ],\n        \"semantic_type\": \"\",\n        \"description\": \"\"\n      }\n    },\n    {\n      \"column\": \"Refund Request\",\n      \"properties\": {\n        \"dtype\": \"category\",\n        \"num_unique_values\": 2,\n        \"samples\": [\n          \"Yes\",\n          \"No\"\n        ],\n        \"semantic_type\": \"\",\n        \"description\": \"\"\n      }\n    },\n    {\n      \"column\": \"Delay Reason\",\n      \"properties\": {\n        \"dtype\": \"category\",\n        \"num_unique_values\": 2,\n        \"samples\": [\n          \"Technical Issue\",\n          \"Maintenance\"\n        ],\n        \"semantic_type\": \"\",\n        \"description\": \"\"\n      }\n    },\n    {\n      \"column\": \"Payment Method\",\n      \"properties\": {\n        \"dtype\": \"category\",\n        \"num_unique_values\": 3,\n        \"samples\": [\n          \"Apple Pay\",\n          \"Card\"\n        ],\n        \"semantic_type\": \"\",\n        \"description\": \"\"\n      }\n    },\n    {\n      \"column\": \"Method\",\n      \"properties\": {\n        \"dtype\": \"category\",\n        \"num_unique_values\": 4,\n        \"samples\": [\n          \"Gate Payment\",\n          \"Ticket Office\"\n        ],\n        \"semantic_type\": \"\",\n        \"description\": \"\"\n      }\n    },\n    {\n      \"column\": \"Start Station\",\n      \"properties\": {\n        \"dtype\": \"category\",\n        \"num_unique_values\": 33,\n        \"samples\": [\n          \"Olaya\",\n          \"SABB\"\n        ],\n        \"semantic_type\": \"\",\n        \"description\": \"\"\n      }\n    },\n    {\n      \"column\": \"End Station\",\n      \"properties\": {\n        \"dtype\": \"category\",\n        \"num_unique_values\": 33,\n        \"samples\": [\n          \"National Museum\",\n          \"Ghornata\"\n        ],\n        \"semantic_type\": \"\",\n        \"description\": \"\"\n      }\n    },\n    {\n      \"column\": \"Journey Date\",\n      \"properties\": {\n        \"dtype\": \"object\",\n        \"num_unique_values\": 156,\n        \"samples\": [\n          \"2025-04-30\",\n          \"2025-04-27\"\n        ],\n        \"semantic_type\": \"\",\n        \"description\": \"\"\n      }\n    },\n    {\n      \"column\": \"Gender\",\n      \"properties\": {\n        \"dtype\": \"category\",\n        \"num_unique_values\": 2,\n        \"samples\": [\n          \"Male\",\n          \"Female\"\n        ],\n        \"semantic_type\": \"\",\n        \"description\": \"\"\n      }\n    }\n  ]\n}"
            }
          },
          "metadata": {},
          "execution_count": 4
        }
      ]
    },
    {
      "cell_type": "markdown",
      "source": [
        "#Explore the data:"
      ],
      "metadata": {
        "id": "fCIa1fzeXb8Q"
      }
    },
    {
      "cell_type": "code",
      "source": [
        "# get the shape and size of the DataFrame\n",
        "print(f\"The shape is :{df.shape}\")\n",
        "print(f\"The size is :{df.size} \")"
      ],
      "metadata": {
        "colab": {
          "base_uri": "https://localhost:8080/"
        },
        "id": "d4yaff5fMCeF",
        "outputId": "7a779087-2e57-47a0-ac87-8652c7b99341"
      },
      "execution_count": null,
      "outputs": [
        {
          "output_type": "stream",
          "name": "stdout",
          "text": [
            "The shape is :(10000, 16)\n",
            "The size is :160000 \n"
          ]
        }
      ]
    },
    {
      "cell_type": "code",
      "source": [
        "# get the columns\n",
        "print(df.columns)"
      ],
      "metadata": {
        "colab": {
          "base_uri": "https://localhost:8080/"
        },
        "id": "u9qQJaWbMWRo",
        "outputId": "21e347ae-5864-47e1-d3ad-9bd4caf291b7"
      },
      "execution_count": null,
      "outputs": [
        {
          "output_type": "stream",
          "name": "stdout",
          "text": [
            "Index(['Ticket ID', 'Ticket Type', 'Ticket Class', 'Base Price', 'Age',\n",
            "       'Discount Category', 'Final Price', 'Journey Status', 'Refund Request',\n",
            "       'Delay Reason', 'Payment Method', 'Method', 'Start Station',\n",
            "       'End Station', 'Journey Date', 'Gender'],\n",
            "      dtype='object')\n"
          ]
        }
      ]
    },
    {
      "cell_type": "code",
      "source": [
        "# get the informations\n",
        "df.info()"
      ],
      "metadata": {
        "colab": {
          "base_uri": "https://localhost:8080/"
        },
        "id": "tmzPaClgM5bg",
        "outputId": "6155f639-209b-478d-aba3-df520533f80c"
      },
      "execution_count": null,
      "outputs": [
        {
          "output_type": "stream",
          "name": "stdout",
          "text": [
            "<class 'pandas.core.frame.DataFrame'>\n",
            "RangeIndex: 10000 entries, 0 to 9999\n",
            "Data columns (total 16 columns):\n",
            " #   Column             Non-Null Count  Dtype  \n",
            "---  ------             --------------  -----  \n",
            " 0   Ticket ID          10000 non-null  object \n",
            " 1   Ticket Type        10000 non-null  object \n",
            " 2   Ticket Class       10000 non-null  object \n",
            " 3   Base Price         10000 non-null  int64  \n",
            " 4   Age                10000 non-null  int64  \n",
            " 5   Discount Category  10000 non-null  object \n",
            " 6   Final Price        10000 non-null  float64\n",
            " 7   Journey Status     10000 non-null  object \n",
            " 8   Refund Request     10000 non-null  object \n",
            " 9   Delay Reason       3348 non-null   object \n",
            " 10  Payment Method     10000 non-null  object \n",
            " 11  Method             10000 non-null  object \n",
            " 12  Start Station      10000 non-null  object \n",
            " 13  End Station        10000 non-null  object \n",
            " 14  Journey Date       10000 non-null  object \n",
            " 15  Gender             9900 non-null   object \n",
            "dtypes: float64(1), int64(2), object(13)\n",
            "memory usage: 1.2+ MB\n"
          ]
        }
      ]
    },
    {
      "cell_type": "code",
      "source": [
        "# get Journey Date type\n",
        "df['Journey Date'].dtype"
      ],
      "metadata": {
        "colab": {
          "base_uri": "https://localhost:8080/"
        },
        "id": "KZ851mCcPWl8",
        "outputId": "d131d601-de51-4393-d7c1-fec0d7fe04cc"
      },
      "execution_count": null,
      "outputs": [
        {
          "output_type": "execute_result",
          "data": {
            "text/plain": [
              "dtype('O')"
            ]
          },
          "metadata": {},
          "execution_count": 8
        }
      ]
    },
    {
      "cell_type": "code",
      "source": [
        "#Display the statistical description of the numerical columns\n",
        "print(df.describe())"
      ],
      "metadata": {
        "colab": {
          "base_uri": "https://localhost:8080/"
        },
        "id": "LGhmo_u5O1bg",
        "outputId": "ed69187a-23c9-4171-c619-833ec7be43b9"
      },
      "execution_count": null,
      "outputs": [
        {
          "output_type": "stream",
          "name": "stdout",
          "text": [
            "         Base Price           Age   Final Price\n",
            "count  10000.000000  10000.000000  10000.000000\n",
            "mean      90.862800     40.613100     58.991100\n",
            "std      109.127236     22.965556     82.438764\n",
            "min        4.000000      1.000000      0.000000\n",
            "25%       20.000000     21.000000      5.000000\n",
            "50%       50.000000     41.000000     25.000000\n",
            "75%      140.000000     61.000000     70.000000\n",
            "max      350.000000     80.000000    350.000000\n"
          ]
        }
      ]
    },
    {
      "cell_type": "code",
      "source": [
        "# Count the null values\n",
        "df.isnull().sum()"
      ],
      "metadata": {
        "colab": {
          "base_uri": "https://localhost:8080/",
          "height": 585
        },
        "id": "QPzvIEGBPNsa",
        "outputId": "03ea020c-8573-4141-aa31-a1211c6770a6"
      },
      "execution_count": null,
      "outputs": [
        {
          "output_type": "execute_result",
          "data": {
            "text/plain": [
              "Ticket ID               0\n",
              "Ticket Type             0\n",
              "Ticket Class            0\n",
              "Base Price              0\n",
              "Age                     0\n",
              "Discount Category       0\n",
              "Final Price             0\n",
              "Journey Status          0\n",
              "Refund Request          0\n",
              "Delay Reason         6652\n",
              "Payment Method          0\n",
              "Method                  0\n",
              "Start Station           0\n",
              "End Station             0\n",
              "Journey Date            0\n",
              "Gender                100\n",
              "dtype: int64"
            ],
            "text/html": [
              "<div>\n",
              "<style scoped>\n",
              "    .dataframe tbody tr th:only-of-type {\n",
              "        vertical-align: middle;\n",
              "    }\n",
              "\n",
              "    .dataframe tbody tr th {\n",
              "        vertical-align: top;\n",
              "    }\n",
              "\n",
              "    .dataframe thead th {\n",
              "        text-align: right;\n",
              "    }\n",
              "</style>\n",
              "<table border=\"1\" class=\"dataframe\">\n",
              "  <thead>\n",
              "    <tr style=\"text-align: right;\">\n",
              "      <th></th>\n",
              "      <th>0</th>\n",
              "    </tr>\n",
              "  </thead>\n",
              "  <tbody>\n",
              "    <tr>\n",
              "      <th>Ticket ID</th>\n",
              "      <td>0</td>\n",
              "    </tr>\n",
              "    <tr>\n",
              "      <th>Ticket Type</th>\n",
              "      <td>0</td>\n",
              "    </tr>\n",
              "    <tr>\n",
              "      <th>Ticket Class</th>\n",
              "      <td>0</td>\n",
              "    </tr>\n",
              "    <tr>\n",
              "      <th>Base Price</th>\n",
              "      <td>0</td>\n",
              "    </tr>\n",
              "    <tr>\n",
              "      <th>Age</th>\n",
              "      <td>0</td>\n",
              "    </tr>\n",
              "    <tr>\n",
              "      <th>Discount Category</th>\n",
              "      <td>0</td>\n",
              "    </tr>\n",
              "    <tr>\n",
              "      <th>Final Price</th>\n",
              "      <td>0</td>\n",
              "    </tr>\n",
              "    <tr>\n",
              "      <th>Journey Status</th>\n",
              "      <td>0</td>\n",
              "    </tr>\n",
              "    <tr>\n",
              "      <th>Refund Request</th>\n",
              "      <td>0</td>\n",
              "    </tr>\n",
              "    <tr>\n",
              "      <th>Delay Reason</th>\n",
              "      <td>6652</td>\n",
              "    </tr>\n",
              "    <tr>\n",
              "      <th>Payment Method</th>\n",
              "      <td>0</td>\n",
              "    </tr>\n",
              "    <tr>\n",
              "      <th>Method</th>\n",
              "      <td>0</td>\n",
              "    </tr>\n",
              "    <tr>\n",
              "      <th>Start Station</th>\n",
              "      <td>0</td>\n",
              "    </tr>\n",
              "    <tr>\n",
              "      <th>End Station</th>\n",
              "      <td>0</td>\n",
              "    </tr>\n",
              "    <tr>\n",
              "      <th>Journey Date</th>\n",
              "      <td>0</td>\n",
              "    </tr>\n",
              "    <tr>\n",
              "      <th>Gender</th>\n",
              "      <td>100</td>\n",
              "    </tr>\n",
              "  </tbody>\n",
              "</table>\n",
              "</div><br><label><b>dtype:</b> int64</label>"
            ]
          },
          "metadata": {},
          "execution_count": 10
        }
      ]
    },
    {
      "cell_type": "code",
      "source": [
        "# Show if there is any duplicated rows\n",
        "print(df.duplicated().sum())"
      ],
      "metadata": {
        "colab": {
          "base_uri": "https://localhost:8080/"
        },
        "id": "WzyBkbjWP1Yc",
        "outputId": "baa7b543-d23a-4179-90a9-bdb8efaf192f"
      },
      "execution_count": null,
      "outputs": [
        {
          "output_type": "stream",
          "name": "stdout",
          "text": [
            "0\n"
          ]
        }
      ]
    },
    {
      "cell_type": "code",
      "source": [
        "df['Delay Reason'].value_counts()"
      ],
      "metadata": {
        "colab": {
          "base_uri": "https://localhost:8080/",
          "height": 178
        },
        "id": "4nrgizKnQaU5",
        "outputId": "a853223a-d461-4f97-b013-8a3a00f26f0c"
      },
      "execution_count": null,
      "outputs": [
        {
          "output_type": "execute_result",
          "data": {
            "text/plain": [
              "Delay Reason\n",
              "Maintenance        1682\n",
              "Technical Issue    1666\n",
              "Name: count, dtype: int64"
            ],
            "text/html": [
              "<div>\n",
              "<style scoped>\n",
              "    .dataframe tbody tr th:only-of-type {\n",
              "        vertical-align: middle;\n",
              "    }\n",
              "\n",
              "    .dataframe tbody tr th {\n",
              "        vertical-align: top;\n",
              "    }\n",
              "\n",
              "    .dataframe thead th {\n",
              "        text-align: right;\n",
              "    }\n",
              "</style>\n",
              "<table border=\"1\" class=\"dataframe\">\n",
              "  <thead>\n",
              "    <tr style=\"text-align: right;\">\n",
              "      <th></th>\n",
              "      <th>count</th>\n",
              "    </tr>\n",
              "    <tr>\n",
              "      <th>Delay Reason</th>\n",
              "      <th></th>\n",
              "    </tr>\n",
              "  </thead>\n",
              "  <tbody>\n",
              "    <tr>\n",
              "      <th>Maintenance</th>\n",
              "      <td>1682</td>\n",
              "    </tr>\n",
              "    <tr>\n",
              "      <th>Technical Issue</th>\n",
              "      <td>1666</td>\n",
              "    </tr>\n",
              "  </tbody>\n",
              "</table>\n",
              "</div><br><label><b>dtype:</b> int64</label>"
            ]
          },
          "metadata": {},
          "execution_count": 12
        }
      ]
    },
    {
      "cell_type": "code",
      "source": [
        "# show the sum of null values for each category in Delay Reason\n",
        "df['Delay Reason'].isna().groupby(df['Journey Status']).sum()"
      ],
      "metadata": {
        "colab": {
          "base_uri": "https://localhost:8080/",
          "height": 209
        },
        "id": "g5NJF_zWR9uL",
        "outputId": "860fa223-b67b-4dd0-ff2f-f60f53130914"
      },
      "execution_count": null,
      "outputs": [
        {
          "output_type": "execute_result",
          "data": {
            "text/plain": [
              "Journey Status\n",
              "Cancelled    3320\n",
              "Delayed         0\n",
              "On Time      3332\n",
              "Name: Delay Reason, dtype: int64"
            ],
            "text/html": [
              "<div>\n",
              "<style scoped>\n",
              "    .dataframe tbody tr th:only-of-type {\n",
              "        vertical-align: middle;\n",
              "    }\n",
              "\n",
              "    .dataframe tbody tr th {\n",
              "        vertical-align: top;\n",
              "    }\n",
              "\n",
              "    .dataframe thead th {\n",
              "        text-align: right;\n",
              "    }\n",
              "</style>\n",
              "<table border=\"1\" class=\"dataframe\">\n",
              "  <thead>\n",
              "    <tr style=\"text-align: right;\">\n",
              "      <th></th>\n",
              "      <th>Delay Reason</th>\n",
              "    </tr>\n",
              "    <tr>\n",
              "      <th>Journey Status</th>\n",
              "      <th></th>\n",
              "    </tr>\n",
              "  </thead>\n",
              "  <tbody>\n",
              "    <tr>\n",
              "      <th>Cancelled</th>\n",
              "      <td>3320</td>\n",
              "    </tr>\n",
              "    <tr>\n",
              "      <th>Delayed</th>\n",
              "      <td>0</td>\n",
              "    </tr>\n",
              "    <tr>\n",
              "      <th>On Time</th>\n",
              "      <td>3332</td>\n",
              "    </tr>\n",
              "  </tbody>\n",
              "</table>\n",
              "</div><br><label><b>dtype:</b> int64</label>"
            ]
          },
          "metadata": {},
          "execution_count": 13
        }
      ]
    },
    {
      "cell_type": "code",
      "source": [
        "# Show the percentage of missing values in Gender column\n",
        "gender_null_per = df['Gender'].isnull().mean() * 100\n",
        "print(f\"Gender Missing Percentage: {gender_null_per} %\")"
      ],
      "metadata": {
        "colab": {
          "base_uri": "https://localhost:8080/"
        },
        "id": "ihn2b3AFUFAt",
        "outputId": "4ada0ed9-3b9f-4f99-b25a-6a94f458726b"
      },
      "execution_count": null,
      "outputs": [
        {
          "output_type": "stream",
          "name": "stdout",
          "text": [
            "Gender Missing Percentage: 1.0 %\n"
          ]
        }
      ]
    },
    {
      "cell_type": "code",
      "source": [
        "#get the unique values in coulumns\n",
        "columns = ['Ticket Type','Ticket Class','Discount Category','Journey Status','Delay Reason','Gender','Refund Request']\n",
        "for col in columns:\n",
        "  print(f\"{col} : {df[col].unique()}\")\n"
      ],
      "metadata": {
        "colab": {
          "base_uri": "https://localhost:8080/"
        },
        "id": "vIyw2ub-R9rE",
        "outputId": "45c96710-3b85-4482-a0b1-96b4b30073af"
      },
      "execution_count": null,
      "outputs": [
        {
          "output_type": "stream",
          "name": "stdout",
          "text": [
            "Ticket Type : ['1 Month' '7 Days' '3 Days' '2 Hours']\n",
            "Ticket Class : ['Standard' 'First Class']\n",
            "Discount Category : ['Senior' 'School Student' 'University Student' 'Adult' 'Child']\n",
            "Journey Status : ['On Time' 'Cancelled' 'Delayed']\n",
            "Delay Reason : [nan 'Maintenance' 'Technical Issue']\n",
            "Gender : ['Female' 'Male' nan]\n",
            "Refund Request : ['No' 'Yes']\n"
          ]
        }
      ]
    },
    {
      "cell_type": "code",
      "source": [
        "  # find The age column outliers\n",
        "  Q1 = df['Age'].quantile(0.25)\n",
        "  Q3 = df['Age'].quantile(0.75)\n",
        "  IQR = Q3 - Q1\n",
        "  lower_bound = Q1 - 1.5 * IQR\n",
        "  upper_bound = Q3 + 1.5 * IQR\n",
        "  age_outliers = df[(df['Age'] < lower_bound) | (df['Age'] > upper_bound)]\n",
        "  print(f\"Age Outliers : {len(age_outliers)}\")"
      ],
      "metadata": {
        "colab": {
          "base_uri": "https://localhost:8080/"
        },
        "id": "GlLfW48BOEuc",
        "outputId": "3261ad2b-7df7-4370-ddad-64f6380f7bc3"
      },
      "execution_count": null,
      "outputs": [
        {
          "output_type": "stream",
          "name": "stdout",
          "text": [
            "Age Outliers : 0\n"
          ]
        }
      ]
    },
    {
      "cell_type": "code",
      "source": [
        "# show the boxplot\n",
        "sns.boxplot(x = df['Age'])"
      ],
      "metadata": {
        "colab": {
          "base_uri": "https://localhost:8080/",
          "height": 467
        },
        "id": "eeMDTGPxKwdv",
        "outputId": "2a6ea1ce-187a-4c70-f0f9-99ed8a181f98"
      },
      "execution_count": null,
      "outputs": [
        {
          "output_type": "execute_result",
          "data": {
            "text/plain": [
              "<Axes: xlabel='Age'>"
            ]
          },
          "metadata": {},
          "execution_count": 17
        },
        {
          "output_type": "display_data",
          "data": {
            "text/plain": [
              "<Figure size 640x480 with 1 Axes>"
            ],
            "image/png": "[encoded data removed]"
          },
          "metadata": {}
        }
      ]
    },
    {
      "cell_type": "code",
      "source": [
        "# get the minimum and maximum age\n",
        "print(f\"The minimum age is: {df['Age'].min()}\")\n",
        "print(f\"The maximim age is: {df['Age'].max()}\")"
      ],
      "metadata": {
        "colab": {
          "base_uri": "https://localhost:8080/"
        },
        "id": "Auz1t8EVk-fr",
        "outputId": "0b6c0c05-2f7a-4cf7-eeb3-28e9a1cc3fb9"
      },
      "execution_count": null,
      "outputs": [
        {
          "output_type": "stream",
          "name": "stdout",
          "text": [
            "The minimum age is: 1\n",
            "The maximim age is: 80\n"
          ]
        }
      ]
    },
    {
      "cell_type": "markdown",
      "source": [
        "# Data Cleaning:"
      ],
      "metadata": {
        "id": "qCqEnFJeXvr1"
      }
    },
    {
      "cell_type": "code",
      "source": [
        "# Drop Ticket Id column\n",
        "df.drop('Ticket ID',axis=1 , inplace= True)"
      ],
      "metadata": {
        "id": "AeO1vo8gWkkN"
      },
      "execution_count": null,
      "outputs": []
    },
    {
      "cell_type": "code",
      "source": [
        "df.head()"
      ],
      "metadata": {
        "colab": {
          "base_uri": "https://localhost:8080/",
          "height": 345
        },
        "id": "r58eHvacWcv1",
        "outputId": "8d37e9db-4f64-4b56-d55d-e91537378941"
      },
      "execution_count": null,
      "outputs": [
        {
          "output_type": "execute_result",
          "data": {
            "text/plain": [
              "  Ticket Type Ticket Class  Base Price  Age   Discount Category  Final Price  \\\n",
              "0     1 Month     Standard         140   79              Senior         70.0   \n",
              "1      7 Days  First Class         100   13      School Student         50.0   \n",
              "2      3 Days  First Class          50   25  University Student         25.0   \n",
              "3     2 Hours     Standard           4    8      School Student          2.0   \n",
              "4     2 Hours     Standard           4   68              Senior          2.0   \n",
              "\n",
              "  Journey Status Refund Request Delay Reason Payment Method        Method  \\\n",
              "0        On Time             No          NaN      Apple Pay      Darb App   \n",
              "1      Cancelled            Yes          NaN           Card  Gate Payment   \n",
              "2        Delayed             No  Maintenance      Apple Pay      Darb App   \n",
              "3        On Time             No          NaN      Apple Pay           TVM   \n",
              "4        On Time             No          NaN      Apple Pay      Darb App   \n",
              "\n",
              "         Start Station      End Station Journey Date  Gender  \n",
              "0   King Fahad Library  Imam University   2025-01-23  Female  \n",
              "1  King Fahad District     Qasr Al Hokm   2025-04-14    Male  \n",
              "2             Ghornata     Qasr Al Hokm   2024-12-23  Female  \n",
              "3               Alinma             KKIA   2025-04-06  Female  \n",
              "4      National Museum             SABB   2024-12-22  Female  "
            ],
            "text/html": [
              "\n",
              "  <div id=\"df-af728743-8a6b-41a6-acf4-769f3c581f7a\" class=\"colab-df-container\">\n",
              "    <div>\n",
              "<style scoped>\n",
              "    .dataframe tbody tr th:only-of-type {\n",
              "        vertical-align: middle;\n",
              "    }\n",
              "\n",
              "    .dataframe tbody tr th {\n",
              "        vertical-align: top;\n",
              "    }\n",
              "\n",
              "    .dataframe thead th {\n",
              "        text-align: right;\n",
              "    }\n",
              "</style>\n",
              "<table border=\"1\" class=\"dataframe\">\n",
              "  <thead>\n",
              "    <tr style=\"text-align: right;\">\n",
              "      <th></th>\n",
              "      <th>Ticket Type</th>\n",
              "      <th>Ticket Class</th>\n",
              "      <th>Base Price</th>\n",
              "      <th>Age</th>\n",
              "      <th>Discount Category</th>\n",
              "      <th>Final Price</th>\n",
              "      <th>Journey Status</th>\n",
              "      <th>Refund Request</th>\n",
              "      <th>Delay Reason</th>\n",
              "      <th>Payment Method</th>\n",
              "      <th>Method</th>\n",
              "      <th>Start Station</th>\n",
              "      <th>End Station</th>\n",
              "      <th>Journey Date</th>\n",
              "      <th>Gender</th>\n",
              "    </tr>\n",
              "  </thead>\n",
              "  <tbody>\n",
              "    <tr>\n",
              "      <th>0</th>\n",
              "      <td>1 Month</td>\n",
              "      <td>Standard</td>\n",
              "      <td>140</td>\n",
              "      <td>79</td>\n",
              "      <td>Senior</td>\n",
              "      <td>70.0</td>\n",
              "      <td>On Time</td>\n",
              "      <td>No</td>\n",
              "      <td>NaN</td>\n",
              "      <td>Apple Pay</td>\n",
              "      <td>Darb App</td>\n",
              "      <td>King Fahad Library</td>\n",
              "      <td>Imam University</td>\n",
              "      <td>2025-01-23</td>\n",
              "      <td>Female</td>\n",
              "    </tr>\n",
              "    <tr>\n",
              "      <th>1</th>\n",
              "      <td>7 Days</td>\n",
              "      <td>First Class</td>\n",
              "      <td>100</td>\n",
              "      <td>13</td>\n",
              "      <td>School Student</td>\n",
              "      <td>50.0</td>\n",
              "      <td>Cancelled</td>\n",
              "      <td>Yes</td>\n",
              "      <td>NaN</td>\n",
              "      <td>Card</td>\n",
              "      <td>Gate Payment</td>\n",
              "      <td>King Fahad District</td>\n",
              "      <td>Qasr Al Hokm</td>\n",
              "      <td>2025-04-14</td>\n",
              "      <td>Male</td>\n",
              "    </tr>\n",
              "    <tr>\n",
              "      <th>2</th>\n",
              "      <td>3 Days</td>\n",
              "      <td>First Class</td>\n",
              "      <td>50</td>\n",
              "      <td>25</td>\n",
              "      <td>University Student</td>\n",
              "      <td>25.0</td>\n",
              "      <td>Delayed</td>\n",
              "      <td>No</td>\n",
              "      <td>Maintenance</td>\n",
              "      <td>Apple Pay</td>\n",
              "      <td>Darb App</td>\n",
              "      <td>Ghornata</td>\n",
              "      <td>Qasr Al Hokm</td>\n",
              "      <td>2024-12-23</td>\n",
              "      <td>Female</td>\n",
              "    </tr>\n",
              "    <tr>\n",
              "      <th>3</th>\n",
              "      <td>2 Hours</td>\n",
              "      <td>Standard</td>\n",
              "      <td>4</td>\n",
              "      <td>8</td>\n",
              "      <td>School Student</td>\n",
              "      <td>2.0</td>\n",
              "      <td>On Time</td>\n",
              "      <td>No</td>\n",
              "      <td>NaN</td>\n",
              "      <td>Apple Pay</td>\n",
              "      <td>TVM</td>\n",
              "      <td>Alinma</td>\n",
              "      <td>KKIA</td>\n",
              "      <td>2025-04-06</td>\n",
              "      <td>Female</td>\n",
              "    </tr>\n",
              "    <tr>\n",
              "      <th>4</th>\n",
              "      <td>2 Hours</td>\n",
              "      <td>Standard</td>\n",
              "      <td>4</td>\n",
              "      <td>68</td>\n",
              "      <td>Senior</td>\n",
              "      <td>2.0</td>\n",
              "      <td>On Time</td>\n",
              "      <td>No</td>\n",
              "      <td>NaN</td>\n",
              "      <td>Apple Pay</td>\n",
              "      <td>Darb App</td>\n",
              "      <td>National Museum</td>\n",
              "      <td>SABB</td>\n",
              "      <td>2024-12-22</td>\n",
              "      <td>Female</td>\n",
              "    </tr>\n",
              "  </tbody>\n",
              "</table>\n",
              "</div>\n",
              "    <div class=\"colab-df-buttons\">\n",
              "\n",
              "  <div class=\"colab-df-container\">\n",
              "    <button class=\"colab-df-convert\" onclick=\"convertToInteractive('df-af728743-8a6b-41a6-acf4-769f3c581f7a')\"\n",
              "            title=\"Convert this dataframe to an interactive table.\"\n",
              "            style=\"display:none;\">\n",
              "\n",
              "  <svg xmlns=\"http://www.w3.org/2000/svg\" height=\"24px\" viewBox=\"0 -960 960 960\">\n",
              "    <path d=\"M120-120v-720h720v720H120Zm60-500h600v-160H180v160Zm220 220h160v-160H400v160Zm0 220h160v-160H400v160ZM180-400h160v-160H180v160Zm440 0h160v-160H620v160ZM180-180h160v-160H180v160Zm440 0h160v-160H620v160Z\"/>\n",
              "  </svg>\n",
              "    </button>\n",
              "\n",
              "  <style>\n",
              "    .colab-df-container {\n",
              "      display:flex;\n",
              "      gap: 12px;\n",
              "    }\n",
              "\n",
              "    .colab-df-convert {\n",
              "      background-color: #E8F0FE;\n",
              "      border: none;\n",
              "      border-radius: 50%;\n",
              "      cursor: pointer;\n",
              "      display: none;\n",
              "      fill: #1967D2;\n",
              "      height: 32px;\n",
              "      padding: 0 0 0 0;\n",
              "      width: 32px;\n",
              "    }\n",
              "\n",
              "    .colab-df-convert:hover {\n",
              "      background-color: #E2EBFA;\n",
              "      box-shadow: 0px 1px 2px rgba(60, 64, 67, 0.3), 0px 1px 3px 1px rgba(60, 64, 67, 0.15);\n",
              "      fill: #174EA6;\n",
              "    }\n",
              "\n",
              "    .colab-df-buttons div {\n",
              "      margin-bottom: 4px;\n",
              "    }\n",
              "\n",
              "    [theme=dark] .colab-df-convert {\n",
              "      background-color: #3B4455;\n",
              "      fill: #D2E3FC;\n",
              "    }\n",
              "\n",
              "    [theme=dark] .colab-df-convert:hover {\n",
              "      background-color: #434B5C;\n",
              "      box-shadow: 0px 1px 3px 1px rgba(0, 0, 0, 0.15);\n",
              "      filter: drop-shadow(0px 1px 2px rgba(0, 0, 0, 0.3));\n",
              "      fill: #FFFFFF;\n",
              "    }\n",
              "  </style>\n",
              "\n",
              "    <script>\n",
              "      const buttonEl =\n",
              "        document.querySelector('#df-af728743-8a6b-41a6-acf4-769f3c581f7a button.colab-df-convert');\n",
              "      buttonEl.style.display =\n",
              "        google.colab.kernel.accessAllowed ? 'block' : 'none';\n",
              "\n",
              "      async function convertToInteractive(key) {\n",
              "        const element = document.querySelector('#df-af728743-8a6b-41a6-acf4-769f3c581f7a');\n",
              "        const dataTable =\n",
              "          await google.colab.kernel.invokeFunction('convertToInteractive',\n",
              "                                                    [key], {});\n",
              "        if (!dataTable) return;\n",
              "\n",
              "        const docLinkHtml = 'Like what you see? Visit the ' +\n",
              "          '<a target=\"_blank\" href=https://colab.research.google.com/notebooks/data_table.ipynb>data table notebook</a>'\n",
              "          + ' to learn more about interactive tables.';\n",
              "        element.innerHTML = '';\n",
              "        dataTable['output_type'] = 'display_data';\n",
              "        await google.colab.output.renderOutput(dataTable, element);\n",
              "        const docLink = document.createElement('div');\n",
              "        docLink.innerHTML = docLinkHtml;\n",
              "        element.appendChild(docLink);\n",
              "      }\n",
              "    </script>\n",
              "  </div>\n",
              "\n",
              "\n",
              "    <div id=\"df-015dd904-956c-48a3-9738-374ed0a49b76\">\n",
              "      <button class=\"colab-df-quickchart\" onclick=\"quickchart('df-015dd904-956c-48a3-9738-374ed0a49b76')\"\n",
              "                title=\"Suggest charts\"\n",
              "                style=\"display:none;\">\n",
              "\n",
              "<svg xmlns=\"http://www.w3.org/2000/svg\" height=\"24px\"viewBox=\"0 0 24 24\"\n",
              "     width=\"24px\">\n",
              "    <g>\n",
              "        <path d=\"M19 3H5c-1.1 0-2 .9-2 2v14c0 1.1.9 2 2 2h14c1.1 0 2-.9 2-2V5c0-1.1-.9-2-2-2zM9 17H7v-7h2v7zm4 0h-2V7h2v10zm4 0h-2v-4h2v4z\"/>\n",
              "    </g>\n",
              "</svg>\n",
              "      </button>\n",
              "\n",
              "<style>\n",
              "  .colab-df-quickchart {\n",
              "      --bg-color: #E8F0FE;\n",
              "      --fill-color: #1967D2;\n",
              "      --hover-bg-color: #E2EBFA;\n",
              "      --hover-fill-color: #174EA6;\n",
              "      --disabled-fill-color: #AAA;\n",
              "      --disabled-bg-color: #DDD;\n",
              "  }\n",
              "\n",
              "  [theme=dark] .colab-df-quickchart {\n",
              "      --bg-color: #3B4455;\n",
              "      --fill-color: #D2E3FC;\n",
              "      --hover-bg-color: #434B5C;\n",
              "      --hover-fill-color: #FFFFFF;\n",
              "      --disabled-bg-color: #3B4455;\n",
              "      --disabled-fill-color: #666;\n",
              "  }\n",
              "\n",
              "  .colab-df-quickchart {\n",
              "    background-color: var(--bg-color);\n",
              "    border: none;\n",
              "    border-radius: 50%;\n",
              "    cursor: pointer;\n",
              "    display: none;\n",
              "    fill: var(--fill-color);\n",
              "    height: 32px;\n",
              "    padding: 0;\n",
              "    width: 32px;\n",
              "  }\n",
              "\n",
              "  .colab-df-quickchart:hover {\n",
              "    background-color: var(--hover-bg-color);\n",
              "    box-shadow: 0 1px 2px rgba(60, 64, 67, 0.3), 0 1px 3px 1px rgba(60, 64, 67, 0.15);\n",
              "    fill: var(--button-hover-fill-color);\n",
              "  }\n",
              "\n",
              "  .colab-df-quickchart-complete:disabled,\n",
              "  .colab-df-quickchart-complete:disabled:hover {\n",
              "    background-color: var(--disabled-bg-color);\n",
              "    fill: var(--disabled-fill-color);\n",
              "    box-shadow: none;\n",
              "  }\n",
              "\n",
              "  .colab-df-spinner {\n",
              "    border: 2px solid var(--fill-color);\n",
              "    border-color: transparent;\n",
              "    border-bottom-color: var(--fill-color);\n",
              "    animation:\n",
              "      spin 1s steps(1) infinite;\n",
              "  }\n",
              "\n",
              "  @keyframes spin {\n",
              "    0% {\n",
              "      border-color: transparent;\n",
              "      border-bottom-color: var(--fill-color);\n",
              "      border-left-color: var(--fill-color);\n",
              "    }\n",
              "    20% {\n",
              "      border-color: transparent;\n",
              "      border-left-color: var(--fill-color);\n",
              "      border-top-color: var(--fill-color);\n",
              "    }\n",
              "    30% {\n",
              "      border-color: transparent;\n",
              "      border-left-color: var(--fill-color);\n",
              "      border-top-color: var(--fill-color);\n",
              "      border-right-color: var(--fill-color);\n",
              "    }\n",
              "    40% {\n",
              "      border-color: transparent;\n",
              "      border-right-color: var(--fill-color);\n",
              "      border-top-color: var(--fill-color);\n",
              "    }\n",
              "    60% {\n",
              "      border-color: transparent;\n",
              "      border-right-color: var(--fill-color);\n",
              "    }\n",
              "    80% {\n",
              "      border-color: transparent;\n",
              "      border-right-color: var(--fill-color);\n",
              "      border-bottom-color: var(--fill-color);\n",
              "    }\n",
              "    90% {\n",
              "      border-color: transparent;\n",
              "      border-bottom-color: var(--fill-color);\n",
              "    }\n",
              "  }\n",
              "</style>\n",
              "\n",
              "      <script>\n",
              "        async function quickchart(key) {\n",
              "          const quickchartButtonEl =\n",
              "            document.querySelector('#' + key + ' button');\n",
              "          quickchartButtonEl.disabled = true;  // To prevent multiple clicks.\n",
              "          quickchartButtonEl.classList.add('colab-df-spinner');\n",
              "          try {\n",
              "            const charts = await google.colab.kernel.invokeFunction(\n",
              "                'suggestCharts', [key], {});\n",
              "          } catch (error) {\n",
              "            console.error('Error during call to suggestCharts:', error);\n",
              "          }\n",
              "          quickchartButtonEl.classList.remove('colab-df-spinner');\n",
              "          quickchartButtonEl.classList.add('colab-df-quickchart-complete');\n",
              "        }\n",
              "        (() => {\n",
              "          let quickchartButtonEl =\n",
              "            document.querySelector('#df-015dd904-956c-48a3-9738-374ed0a49b76 button');\n",
              "          quickchartButtonEl.style.display =\n",
              "            google.colab.kernel.accessAllowed ? 'block' : 'none';\n",
              "        })();\n",
              "      </script>\n",
              "    </div>\n",
              "\n",
              "    </div>\n",
              "  </div>\n"
            ],
            "application/vnd.google.colaboratory.intrinsic+json": {
              "type": "dataframe",
              "variable_name": "df",
              "summary": "{\n  \"name\": \"df\",\n  \"rows\": 10000,\n  \"fields\": [\n    {\n      \"column\": \"Ticket Type\",\n      \"properties\": {\n        \"dtype\": \"category\",\n        \"num_unique_values\": 4,\n        \"samples\": [\n          \"7 Days\",\n          \"2 Hours\",\n          \"1 Month\"\n        ],\n        \"semantic_type\": \"\",\n        \"description\": \"\"\n      }\n    },\n    {\n      \"column\": \"Ticket Class\",\n      \"properties\": {\n        \"dtype\": \"category\",\n        \"num_unique_values\": 2,\n        \"samples\": [\n          \"First Class\",\n          \"Standard\"\n        ],\n        \"semantic_type\": \"\",\n        \"description\": \"\"\n      }\n    },\n    {\n      \"column\": \"Base Price\",\n      \"properties\": {\n        \"dtype\": \"number\",\n        \"std\": 109,\n        \"min\": 4,\n        \"max\": 350,\n        \"num_unique_values\": 8,\n        \"samples\": [\n          100,\n          20\n        ],\n        \"semantic_type\": \"\",\n        \"description\": \"\"\n      }\n    },\n    {\n      \"column\": \"Age\",\n      \"properties\": {\n        \"dtype\": \"number\",\n        \"std\": 22,\n        \"min\": 1,\n        \"max\": 80,\n        \"num_unique_values\": 80,\n        \"samples\": [\n          66,\n          79\n        ],\n        \"semantic_type\": \"\",\n        \"description\": \"\"\n      }\n    },\n    {\n      \"column\": \"Discount Category\",\n      \"properties\": {\n        \"dtype\": \"category\",\n        \"num_unique_values\": 5,\n        \"samples\": [\n          \"School Student\",\n          \"Child\"\n        ],\n        \"semantic_type\": \"\",\n        \"description\": \"\"\n      }\n    },\n    {\n      \"column\": \"Final Price\",\n      \"properties\": {\n        \"dtype\": \"number\",\n        \"std\": 82.43876415724328,\n        \"min\": 0.0,\n        \"max\": 350.0,\n        \"num_unique_values\": 14,\n        \"samples\": [\n          5.0,\n          10.0\n        ],\n        \"semantic_type\": \"\",\n        \"description\": \"\"\n      }\n    },\n    {\n      \"column\": \"Journey Status\",\n      \"properties\": {\n        \"dtype\": \"category\",\n        \"num_unique_values\": 3,\n        \"samples\": [\n          \"On Time\",\n          \"Cancelled\"\n        ],\n        \"semantic_type\": \"\",\n        \"description\": \"\"\n      }\n    },\n    {\n      \"column\": \"Refund Request\",\n      \"properties\": {\n        \"dtype\": \"category\",\n        \"num_unique_values\": 2,\n        \"samples\": [\n          \"Yes\",\n          \"No\"\n        ],\n        \"semantic_type\": \"\",\n        \"description\": \"\"\n      }\n    },\n    {\n      \"column\": \"Delay Reason\",\n      \"properties\": {\n        \"dtype\": \"category\",\n        \"num_unique_values\": 2,\n        \"samples\": [\n          \"Technical Issue\",\n          \"Maintenance\"\n        ],\n        \"semantic_type\": \"\",\n        \"description\": \"\"\n      }\n    },\n    {\n      \"column\": \"Payment Method\",\n      \"properties\": {\n        \"dtype\": \"category\",\n        \"num_unique_values\": 3,\n        \"samples\": [\n          \"Apple Pay\",\n          \"Card\"\n        ],\n        \"semantic_type\": \"\",\n        \"description\": \"\"\n      }\n    },\n    {\n      \"column\": \"Method\",\n      \"properties\": {\n        \"dtype\": \"category\",\n        \"num_unique_values\": 4,\n        \"samples\": [\n          \"Gate Payment\",\n          \"Ticket Office\"\n        ],\n        \"semantic_type\": \"\",\n        \"description\": \"\"\n      }\n    },\n    {\n      \"column\": \"Start Station\",\n      \"properties\": {\n        \"dtype\": \"category\",\n        \"num_unique_values\": 33,\n        \"samples\": [\n          \"Olaya\",\n          \"SABB\"\n        ],\n        \"semantic_type\": \"\",\n        \"description\": \"\"\n      }\n    },\n    {\n      \"column\": \"End Station\",\n      \"properties\": {\n        \"dtype\": \"category\",\n        \"num_unique_values\": 33,\n        \"samples\": [\n          \"National Museum\",\n          \"Ghornata\"\n        ],\n        \"semantic_type\": \"\",\n        \"description\": \"\"\n      }\n    },\n    {\n      \"column\": \"Journey Date\",\n      \"properties\": {\n        \"dtype\": \"object\",\n        \"num_unique_values\": 156,\n        \"samples\": [\n          \"2025-04-30\",\n          \"2025-04-27\"\n        ],\n        \"semantic_type\": \"\",\n        \"description\": \"\"\n      }\n    },\n    {\n      \"column\": \"Gender\",\n      \"properties\": {\n        \"dtype\": \"category\",\n        \"num_unique_values\": 2,\n        \"samples\": [\n          \"Male\",\n          \"Female\"\n        ],\n        \"semantic_type\": \"\",\n        \"description\": \"\"\n      }\n    }\n  ]\n}"
            }
          },
          "metadata": {},
          "execution_count": 20
        }
      ]
    },
    {
      "cell_type": "code",
      "source": [
        "# Get the most common value in Gender column\n",
        "mode_gender = df['Gender'].mode()[0]\n",
        "print(f\"Mode Gender: {mode_gender}\")"
      ],
      "metadata": {
        "id": "--WyDOaXR9lA",
        "colab": {
          "base_uri": "https://localhost:8080/"
        },
        "outputId": "43726bc6-a987-4dc7-e4f8-b18d9f18b030"
      },
      "execution_count": null,
      "outputs": [
        {
          "output_type": "stream",
          "name": "stdout",
          "text": [
            "Mode Gender: Male\n"
          ]
        }
      ]
    },
    {
      "cell_type": "code",
      "source": [
        "# Fill the missing values for the 'Gender' feature with the most common port\n",
        "df['Gender'].fillna(mode_gender, inplace= True)"
      ],
      "metadata": {
        "id": "88VnaCUzR9hg"
      },
      "execution_count": null,
      "outputs": []
    },
    {
      "cell_type": "code",
      "source": [
        "# just for check\n",
        "print(f\"The number of missing Values in Gender col is: {df['Gender'].isna().sum()}\")"
      ],
      "metadata": {
        "id": "gbYc3VRGR9b8",
        "colab": {
          "base_uri": "https://localhost:8080/"
        },
        "outputId": "e19b4009-7d2f-4446-c6d1-ed0a976c3ad0"
      },
      "execution_count": null,
      "outputs": [
        {
          "output_type": "stream",
          "name": "stdout",
          "text": [
            "The number of missing Values in Gender col is: 0\n"
          ]
        }
      ]
    },
    {
      "cell_type": "code",
      "source": [
        "df['Gender'].value_counts()"
      ],
      "metadata": {
        "colab": {
          "base_uri": "https://localhost:8080/",
          "height": 178
        },
        "id": "7REVOD-pZ3bN",
        "outputId": "34382f83-9358-4a15-e99d-ca04ca81ff6c"
      },
      "execution_count": null,
      "outputs": [
        {
          "output_type": "execute_result",
          "data": {
            "text/plain": [
              "Gender\n",
              "Male      5060\n",
              "Female    4940\n",
              "Name: count, dtype: int64"
            ],
            "text/html": [
              "<div>\n",
              "<style scoped>\n",
              "    .dataframe tbody tr th:only-of-type {\n",
              "        vertical-align: middle;\n",
              "    }\n",
              "\n",
              "    .dataframe tbody tr th {\n",
              "        vertical-align: top;\n",
              "    }\n",
              "\n",
              "    .dataframe thead th {\n",
              "        text-align: right;\n",
              "    }\n",
              "</style>\n",
              "<table border=\"1\" class=\"dataframe\">\n",
              "  <thead>\n",
              "    <tr style=\"text-align: right;\">\n",
              "      <th></th>\n",
              "      <th>count</th>\n",
              "    </tr>\n",
              "    <tr>\n",
              "      <th>Gender</th>\n",
              "      <th></th>\n",
              "    </tr>\n",
              "  </thead>\n",
              "  <tbody>\n",
              "    <tr>\n",
              "      <th>Male</th>\n",
              "      <td>5060</td>\n",
              "    </tr>\n",
              "    <tr>\n",
              "      <th>Female</th>\n",
              "      <td>4940</td>\n",
              "    </tr>\n",
              "  </tbody>\n",
              "</table>\n",
              "</div><br><label><b>dtype:</b> int64</label>"
            ]
          },
          "metadata": {},
          "execution_count": 24
        }
      ]
    },
    {
      "cell_type": "code",
      "source": [
        "# Fill the missing values for the 'Dealy Reason' feature with the value 'No Delay'\n",
        "df['Delay Reason'].fillna('No Delay', inplace= True)"
      ],
      "metadata": {
        "id": "XrDAFHwKR9Zv"
      },
      "execution_count": null,
      "outputs": []
    },
    {
      "cell_type": "code",
      "source": [
        "# just for check\n",
        "print(f\"The number of missing Values in Dealy Reason col is: {df['Delay Reason'].isna().sum()}\")"
      ],
      "metadata": {
        "id": "-qkEelPBR9XF",
        "colab": {
          "base_uri": "https://localhost:8080/"
        },
        "outputId": "58ef0b82-3c36-4c44-bab8-1613116ae633"
      },
      "execution_count": null,
      "outputs": [
        {
          "output_type": "stream",
          "name": "stdout",
          "text": [
            "The number of missing Values in Dealy Reason col is: 0\n"
          ]
        }
      ]
    },
    {
      "cell_type": "code",
      "source": [
        "# Convert Journey Date to datetime\n",
        "df['Journey Date'] = pd.to_datetime(df['Journey Date'])"
      ],
      "metadata": {
        "id": "wppQbZU0R9OE"
      },
      "execution_count": null,
      "outputs": []
    },
    {
      "cell_type": "markdown",
      "source": [
        "#Feature Engineering"
      ],
      "metadata": {
        "id": "bBWKi84-nd2w"
      }
    },
    {
      "cell_type": "code",
      "source": [
        "# add column Journey Day\n",
        "df['Journey Day'] = df['Journey Date'].dt.day_name()"
      ],
      "metadata": {
        "id": "uD80ucNjkKet"
      },
      "execution_count": null,
      "outputs": []
    },
    {
      "cell_type": "code",
      "source": [
        "# add column Age Group\n",
        "def categorize_age(age):\n",
        "    if age <= 12:\n",
        "        return 'Child'\n",
        "    elif 13 <= age <= 17:\n",
        "        return 'Teen'\n",
        "    elif 18 <= age <= 24:\n",
        "        return 'Young Adult'\n",
        "    elif 25 <= age <= 59:\n",
        "        return 'Adult'\n",
        "    else:\n",
        "        return 'Senior'\n",
        "\n",
        "df['Age Group'] = df['Age'].apply(categorize_age)\n"
      ],
      "metadata": {
        "id": "mwKqgeygoH9H"
      },
      "execution_count": null,
      "outputs": []
    },
    {
      "cell_type": "code",
      "source": [
        "# Rename the column Method with Ticket Source\n",
        "df.rename(columns= {'Method': 'Ticket Source','Base Price': 'Base Price (SAR)','Final Price':'Final Price (SAR)'},inplace=True)"
      ],
      "metadata": {
        "id": "7Oei4_0rs01z"
      },
      "execution_count": null,
      "outputs": []
    },
    {
      "cell_type": "code",
      "source": [
        "df.head()"
      ],
      "metadata": {
        "colab": {
          "base_uri": "https://localhost:8080/",
          "height": 382
        },
        "id": "Q9CK4VXci2Lq",
        "outputId": "565d2286-ca33-4888-e7f2-48865a8d35e1"
      },
      "execution_count": null,
      "outputs": [
        {
          "output_type": "execute_result",
          "data": {
            "text/plain": [
              "  Ticket Type Ticket Class  Base Price (SAR)  Age   Discount Category  \\\n",
              "0     1 Month     Standard               140   79              Senior   \n",
              "1      7 Days  First Class               100   13      School Student   \n",
              "2      3 Days  First Class                50   25  University Student   \n",
              "3     2 Hours     Standard                 4    8      School Student   \n",
              "4     2 Hours     Standard                 4   68              Senior   \n",
              "\n",
              "   Final Price (SAR) Journey Status Refund Request Delay Reason  \\\n",
              "0               70.0        On Time             No     No Delay   \n",
              "1               50.0      Cancelled            Yes     No Delay   \n",
              "2               25.0        Delayed             No  Maintenance   \n",
              "3                2.0        On Time             No     No Delay   \n",
              "4                2.0        On Time             No     No Delay   \n",
              "\n",
              "  Payment Method Ticket Source        Start Station      End Station  \\\n",
              "0      Apple Pay      Darb App   King Fahad Library  Imam University   \n",
              "1           Card  Gate Payment  King Fahad District     Qasr Al Hokm   \n",
              "2      Apple Pay      Darb App             Ghornata     Qasr Al Hokm   \n",
              "3      Apple Pay           TVM               Alinma             KKIA   \n",
              "4      Apple Pay      Darb App      National Museum             SABB   \n",
              "\n",
              "  Journey Date  Gender Journey Day Age Group  \n",
              "0   2025-01-23  Female    Thursday    Senior  \n",
              "1   2025-04-14    Male      Monday      Teen  \n",
              "2   2024-12-23  Female      Monday     Adult  \n",
              "3   2025-04-06  Female      Sunday     Child  \n",
              "4   2024-12-22  Female      Sunday    Senior  "
            ],
            "text/html": [
              "\n",
              "  <div id=\"df-a2cba331-87a5-4d01-bb45-7abc7be28691\" class=\"colab-df-container\">\n",
              "    <div>\n",
              "<style scoped>\n",
              "    .dataframe tbody tr th:only-of-type {\n",
              "        vertical-align: middle;\n",
              "    }\n",
              "\n",
              "    .dataframe tbody tr th {\n",
              "        vertical-align: top;\n",
              "    }\n",
              "\n",
              "    .dataframe thead th {\n",
              "        text-align: right;\n",
              "    }\n",
              "</style>\n",
              "<table border=\"1\" class=\"dataframe\">\n",
              "  <thead>\n",
              "    <tr style=\"text-align: right;\">\n",
              "      <th></th>\n",
              "      <th>Ticket Type</th>\n",
              "      <th>Ticket Class</th>\n",
              "      <th>Base Price (SAR)</th>\n",
              "      <th>Age</th>\n",
              "      <th>Discount Category</th>\n",
              "      <th>Final Price (SAR)</th>\n",
              "      <th>Journey Status</th>\n",
              "      <th>Refund Request</th>\n",
              "      <th>Delay Reason</th>\n",
              "      <th>Payment Method</th>\n",
              "      <th>Ticket Source</th>\n",
              "      <th>Start Station</th>\n",
              "      <th>End Station</th>\n",
              "      <th>Journey Date</th>\n",
              "      <th>Gender</th>\n",
              "      <th>Journey Day</th>\n",
              "      <th>Age Group</th>\n",
              "    </tr>\n",
              "  </thead>\n",
              "  <tbody>\n",
              "    <tr>\n",
              "      <th>0</th>\n",
              "      <td>1 Month</td>\n",
              "      <td>Standard</td>\n",
              "      <td>140</td>\n",
              "      <td>79</td>\n",
              "      <td>Senior</td>\n",
              "      <td>70.0</td>\n",
              "      <td>On Time</td>\n",
              "      <td>No</td>\n",
              "      <td>No Delay</td>\n",
              "      <td>Apple Pay</td>\n",
              "      <td>Darb App</td>\n",
              "      <td>King Fahad Library</td>\n",
              "      <td>Imam University</td>\n",
              "      <td>2025-01-23</td>\n",
              "      <td>Female</td>\n",
              "      <td>Thursday</td>\n",
              "      <td>Senior</td>\n",
              "    </tr>\n",
              "    <tr>\n",
              "      <th>1</th>\n",
              "      <td>7 Days</td>\n",
              "      <td>First Class</td>\n",
              "      <td>100</td>\n",
              "      <td>13</td>\n",
              "      <td>School Student</td>\n",
              "      <td>50.0</td>\n",
              "      <td>Cancelled</td>\n",
              "      <td>Yes</td>\n",
              "      <td>No Delay</td>\n",
              "      <td>Card</td>\n",
              "      <td>Gate Payment</td>\n",
              "      <td>King Fahad District</td>\n",
              "      <td>Qasr Al Hokm</td>\n",
              "      <td>2025-04-14</td>\n",
              "      <td>Male</td>\n",
              "      <td>Monday</td>\n",
              "      <td>Teen</td>\n",
              "    </tr>\n",
              "    <tr>\n",
              "      <th>2</th>\n",
              "      <td>3 Days</td>\n",
              "      <td>First Class</td>\n",
              "      <td>50</td>\n",
              "      <td>25</td>\n",
              "      <td>University Student</td>\n",
              "      <td>25.0</td>\n",
              "      <td>Delayed</td>\n",
              "      <td>No</td>\n",
              "      <td>Maintenance</td>\n",
              "      <td>Apple Pay</td>\n",
              "      <td>Darb App</td>\n",
              "      <td>Ghornata</td>\n",
              "      <td>Qasr Al Hokm</td>\n",
              "      <td>2024-12-23</td>\n",
              "      <td>Female</td>\n",
              "      <td>Monday</td>\n",
              "      <td>Adult</td>\n",
              "    </tr>\n",
              "    <tr>\n",
              "      <th>3</th>\n",
              "      <td>2 Hours</td>\n",
              "      <td>Standard</td>\n",
              "      <td>4</td>\n",
              "      <td>8</td>\n",
              "      <td>School Student</td>\n",
              "      <td>2.0</td>\n",
              "      <td>On Time</td>\n",
              "      <td>No</td>\n",
              "      <td>No Delay</td>\n",
              "      <td>Apple Pay</td>\n",
              "      <td>TVM</td>\n",
              "      <td>Alinma</td>\n",
              "      <td>KKIA</td>\n",
              "      <td>2025-04-06</td>\n",
              "      <td>Female</td>\n",
              "      <td>Sunday</td>\n",
              "      <td>Child</td>\n",
              "    </tr>\n",
              "    <tr>\n",
              "      <th>4</th>\n",
              "      <td>2 Hours</td>\n",
              "      <td>Standard</td>\n",
              "      <td>4</td>\n",
              "      <td>68</td>\n",
              "      <td>Senior</td>\n",
              "      <td>2.0</td>\n",
              "      <td>On Time</td>\n",
              "      <td>No</td>\n",
              "      <td>No Delay</td>\n",
              "      <td>Apple Pay</td>\n",
              "      <td>Darb App</td>\n",
              "      <td>National Museum</td>\n",
              "      <td>SABB</td>\n",
              "      <td>2024-12-22</td>\n",
              "      <td>Female</td>\n",
              "      <td>Sunday</td>\n",
              "      <td>Senior</td>\n",
              "    </tr>\n",
              "  </tbody>\n",
              "</table>\n",
              "</div>\n",
              "    <div class=\"colab-df-buttons\">\n",
              "\n",
              "  <div class=\"colab-df-container\">\n",
              "    <button class=\"colab-df-convert\" onclick=\"convertToInteractive('df-a2cba331-87a5-4d01-bb45-7abc7be28691')\"\n",
              "            title=\"Convert this dataframe to an interactive table.\"\n",
              "            style=\"display:none;\">\n",
              "\n",
              "  <svg xmlns=\"http://www.w3.org/2000/svg\" height=\"24px\" viewBox=\"0 -960 960 960\">\n",
              "    <path d=\"M120-120v-720h720v720H120Zm60-500h600v-160H180v160Zm220 220h160v-160H400v160Zm0 220h160v-160H400v160ZM180-400h160v-160H180v160Zm440 0h160v-160H620v160ZM180-180h160v-160H180v160Zm440 0h160v-160H620v160Z\"/>\n",
              "  </svg>\n",
              "    </button>\n",
              "\n",
              "  <style>\n",
              "    .colab-df-container {\n",
              "      display:flex;\n",
              "      gap: 12px;\n",
              "    }\n",
              "\n",
              "    .colab-df-convert {\n",
              "      background-color: #E8F0FE;\n",
              "      border: none;\n",
              "      border-radius: 50%;\n",
              "      cursor: pointer;\n",
              "      display: none;\n",
              "      fill: #1967D2;\n",
              "      height: 32px;\n",
              "      padding: 0 0 0 0;\n",
              "      width: 32px;\n",
              "    }\n",
              "\n",
              "    .colab-df-convert:hover {\n",
              "      background-color: #E2EBFA;\n",
              "      box-shadow: 0px 1px 2px rgba(60, 64, 67, 0.3), 0px 1px 3px 1px rgba(60, 64, 67, 0.15);\n",
              "      fill: #174EA6;\n",
              "    }\n",
              "\n",
              "    .colab-df-buttons div {\n",
              "      margin-bottom: 4px;\n",
              "    }\n",
              "\n",
              "    [theme=dark] .colab-df-convert {\n",
              "      background-color: #3B4455;\n",
              "      fill: #D2E3FC;\n",
              "    }\n",
              "\n",
              "    [theme=dark] .colab-df-convert:hover {\n",
              "      background-color: #434B5C;\n",
              "      box-shadow: 0px 1px 3px 1px rgba(0, 0, 0, 0.15);\n",
              "      filter: drop-shadow(0px 1px 2px rgba(0, 0, 0, 0.3));\n",
              "      fill: #FFFFFF;\n",
              "    }\n",
              "  </style>\n",
              "\n",
              "    <script>\n",
              "      const buttonEl =\n",
              "        document.querySelector('#df-a2cba331-87a5-4d01-bb45-7abc7be28691 button.colab-df-convert');\n",
              "      buttonEl.style.display =\n",
              "        google.colab.kernel.accessAllowed ? 'block' : 'none';\n",
              "\n",
              "      async function convertToInteractive(key) {\n",
              "        const element = document.querySelector('#df-a2cba331-87a5-4d01-bb45-7abc7be28691');\n",
              "        const dataTable =\n",
              "          await google.colab.kernel.invokeFunction('convertToInteractive',\n",
              "                                                    [key], {});\n",
              "        if (!dataTable) return;\n",
              "\n",
              "        const docLinkHtml = 'Like what you see? Visit the ' +\n",
              "          '<a target=\"_blank\" href=https://colab.research.google.com/notebooks/data_table.ipynb>data table notebook</a>'\n",
              "          + ' to learn more about interactive tables.';\n",
              "        element.innerHTML = '';\n",
              "        dataTable['output_type'] = 'display_data';\n",
              "        await google.colab.output.renderOutput(dataTable, element);\n",
              "        const docLink = document.createElement('div');\n",
              "        docLink.innerHTML = docLinkHtml;\n",
              "        element.appendChild(docLink);\n",
              "      }\n",
              "    </script>\n",
              "  </div>\n",
              "\n",
              "\n",
              "    <div id=\"df-9d651d23-4fec-432b-87fe-8bbe4f3df39e\">\n",
              "      <button class=\"colab-df-quickchart\" onclick=\"quickchart('df-9d651d23-4fec-432b-87fe-8bbe4f3df39e')\"\n",
              "                title=\"Suggest charts\"\n",
              "                style=\"display:none;\">\n",
              "\n",
              "<svg xmlns=\"http://www.w3.org/2000/svg\" height=\"24px\"viewBox=\"0 0 24 24\"\n",
              "     width=\"24px\">\n",
              "    <g>\n",
              "        <path d=\"M19 3H5c-1.1 0-2 .9-2 2v14c0 1.1.9 2 2 2h14c1.1 0 2-.9 2-2V5c0-1.1-.9-2-2-2zM9 17H7v-7h2v7zm4 0h-2V7h2v10zm4 0h-2v-4h2v4z\"/>\n",
              "    </g>\n",
              "</svg>\n",
              "      </button>\n",
              "\n",
              "<style>\n",
              "  .colab-df-quickchart {\n",
              "      --bg-color: #E8F0FE;\n",
              "      --fill-color: #1967D2;\n",
              "      --hover-bg-color: #E2EBFA;\n",
              "      --hover-fill-color: #174EA6;\n",
              "      --disabled-fill-color: #AAA;\n",
              "      --disabled-bg-color: #DDD;\n",
              "  }\n",
              "\n",
              "  [theme=dark] .colab-df-quickchart {\n",
              "      --bg-color: #3B4455;\n",
              "      --fill-color: #D2E3FC;\n",
              "      --hover-bg-color: #434B5C;\n",
              "      --hover-fill-color: #FFFFFF;\n",
              "      --disabled-bg-color: #3B4455;\n",
              "      --disabled-fill-color: #666;\n",
              "  }\n",
              "\n",
              "  .colab-df-quickchart {\n",
              "    background-color: var(--bg-color);\n",
              "    border: none;\n",
              "    border-radius: 50%;\n",
              "    cursor: pointer;\n",
              "    display: none;\n",
              "    fill: var(--fill-color);\n",
              "    height: 32px;\n",
              "    padding: 0;\n",
              "    width: 32px;\n",
              "  }\n",
              "\n",
              "  .colab-df-quickchart:hover {\n",
              "    background-color: var(--hover-bg-color);\n",
              "    box-shadow: 0 1px 2px rgba(60, 64, 67, 0.3), 0 1px 3px 1px rgba(60, 64, 67, 0.15);\n",
              "    fill: var(--button-hover-fill-color);\n",
              "  }\n",
              "\n",
              "  .colab-df-quickchart-complete:disabled,\n",
              "  .colab-df-quickchart-complete:disabled:hover {\n",
              "    background-color: var(--disabled-bg-color);\n",
              "    fill: var(--disabled-fill-color);\n",
              "    box-shadow: none;\n",
              "  }\n",
              "\n",
              "  .colab-df-spinner {\n",
              "    border: 2px solid var(--fill-color);\n",
              "    border-color: transparent;\n",
              "    border-bottom-color: var(--fill-color);\n",
              "    animation:\n",
              "      spin 1s steps(1) infinite;\n",
              "  }\n",
              "\n",
              "  @keyframes spin {\n",
              "    0% {\n",
              "      border-color: transparent;\n",
              "      border-bottom-color: var(--fill-color);\n",
              "      border-left-color: var(--fill-color);\n",
              "    }\n",
              "    20% {\n",
              "      border-color: transparent;\n",
              "      border-left-color: var(--fill-color);\n",
              "      border-top-color: var(--fill-color);\n",
              "    }\n",
              "    30% {\n",
              "      border-color: transparent;\n",
              "      border-left-color: var(--fill-color);\n",
              "      border-top-color: var(--fill-color);\n",
              "      border-right-color: var(--fill-color);\n",
              "    }\n",
              "    40% {\n",
              "      border-color: transparent;\n",
              "      border-right-color: var(--fill-color);\n",
              "      border-top-color: var(--fill-color);\n",
              "    }\n",
              "    60% {\n",
              "      border-color: transparent;\n",
              "      border-right-color: var(--fill-color);\n",
              "    }\n",
              "    80% {\n",
              "      border-color: transparent;\n",
              "      border-right-color: var(--fill-color);\n",
              "      border-bottom-color: var(--fill-color);\n",
              "    }\n",
              "    90% {\n",
              "      border-color: transparent;\n",
              "      border-bottom-color: var(--fill-color);\n",
              "    }\n",
              "  }\n",
              "</style>\n",
              "\n",
              "      <script>\n",
              "        async function quickchart(key) {\n",
              "          const quickchartButtonEl =\n",
              "            document.querySelector('#' + key + ' button');\n",
              "          quickchartButtonEl.disabled = true;  // To prevent multiple clicks.\n",
              "          quickchartButtonEl.classList.add('colab-df-spinner');\n",
              "          try {\n",
              "            const charts = await google.colab.kernel.invokeFunction(\n",
              "                'suggestCharts', [key], {});\n",
              "          } catch (error) {\n",
              "            console.error('Error during call to suggestCharts:', error);\n",
              "          }\n",
              "          quickchartButtonEl.classList.remove('colab-df-spinner');\n",
              "          quickchartButtonEl.classList.add('colab-df-quickchart-complete');\n",
              "        }\n",
              "        (() => {\n",
              "          let quickchartButtonEl =\n",
              "            document.querySelector('#df-9d651d23-4fec-432b-87fe-8bbe4f3df39e button');\n",
              "          quickchartButtonEl.style.display =\n",
              "            google.colab.kernel.accessAllowed ? 'block' : 'none';\n",
              "        })();\n",
              "      </script>\n",
              "    </div>\n",
              "\n",
              "    </div>\n",
              "  </div>\n"
            ],
            "application/vnd.google.colaboratory.intrinsic+json": {
              "type": "dataframe",
              "variable_name": "df",
              "summary": "{\n  \"name\": \"df\",\n  \"rows\": 10000,\n  \"fields\": [\n    {\n      \"column\": \"Ticket Type\",\n      \"properties\": {\n        \"dtype\": \"category\",\n        \"num_unique_values\": 4,\n        \"samples\": [\n          \"7 Days\",\n          \"2 Hours\",\n          \"1 Month\"\n        ],\n        \"semantic_type\": \"\",\n        \"description\": \"\"\n      }\n    },\n    {\n      \"column\": \"Ticket Class\",\n      \"properties\": {\n        \"dtype\": \"category\",\n        \"num_unique_values\": 2,\n        \"samples\": [\n          \"First Class\",\n          \"Standard\"\n        ],\n        \"semantic_type\": \"\",\n        \"description\": \"\"\n      }\n    },\n    {\n      \"column\": \"Base Price (SAR)\",\n      \"properties\": {\n        \"dtype\": \"number\",\n        \"std\": 109,\n        \"min\": 4,\n        \"max\": 350,\n        \"num_unique_values\": 8,\n        \"samples\": [\n          100,\n          20\n        ],\n        \"semantic_type\": \"\",\n        \"description\": \"\"\n      }\n    },\n    {\n      \"column\": \"Age\",\n      \"properties\": {\n        \"dtype\": \"number\",\n        \"std\": 22,\n        \"min\": 1,\n        \"max\": 80,\n        \"num_unique_values\": 80,\n        \"samples\": [\n          66,\n          79\n        ],\n        \"semantic_type\": \"\",\n        \"description\": \"\"\n      }\n    },\n    {\n      \"column\": \"Discount Category\",\n      \"properties\": {\n        \"dtype\": \"category\",\n        \"num_unique_values\": 5,\n        \"samples\": [\n          \"School Student\",\n          \"Child\"\n        ],\n        \"semantic_type\": \"\",\n        \"description\": \"\"\n      }\n    },\n    {\n      \"column\": \"Final Price (SAR)\",\n      \"properties\": {\n        \"dtype\": \"number\",\n        \"std\": 82.43876415724328,\n        \"min\": 0.0,\n        \"max\": 350.0,\n        \"num_unique_values\": 14,\n        \"samples\": [\n          5.0,\n          10.0\n        ],\n        \"semantic_type\": \"\",\n        \"description\": \"\"\n      }\n    },\n    {\n      \"column\": \"Journey Status\",\n      \"properties\": {\n        \"dtype\": \"category\",\n        \"num_unique_values\": 3,\n        \"samples\": [\n          \"On Time\",\n          \"Cancelled\"\n        ],\n        \"semantic_type\": \"\",\n        \"description\": \"\"\n      }\n    },\n    {\n      \"column\": \"Refund Request\",\n      \"properties\": {\n        \"dtype\": \"category\",\n        \"num_unique_values\": 2,\n        \"samples\": [\n          \"Yes\",\n          \"No\"\n        ],\n        \"semantic_type\": \"\",\n        \"description\": \"\"\n      }\n    },\n    {\n      \"column\": \"Delay Reason\",\n      \"properties\": {\n        \"dtype\": \"category\",\n        \"num_unique_values\": 3,\n        \"samples\": [\n          \"No Delay\",\n          \"Maintenance\"\n        ],\n        \"semantic_type\": \"\",\n        \"description\": \"\"\n      }\n    },\n    {\n      \"column\": \"Payment Method\",\n      \"properties\": {\n        \"dtype\": \"category\",\n        \"num_unique_values\": 3,\n        \"samples\": [\n          \"Apple Pay\",\n          \"Card\"\n        ],\n        \"semantic_type\": \"\",\n        \"description\": \"\"\n      }\n    },\n    {\n      \"column\": \"Ticket Source\",\n      \"properties\": {\n        \"dtype\": \"category\",\n        \"num_unique_values\": 4,\n        \"samples\": [\n          \"Gate Payment\",\n          \"Ticket Office\"\n        ],\n        \"semantic_type\": \"\",\n        \"description\": \"\"\n      }\n    },\n    {\n      \"column\": \"Start Station\",\n      \"properties\": {\n        \"dtype\": \"category\",\n        \"num_unique_values\": 33,\n        \"samples\": [\n          \"Olaya\",\n          \"SABB\"\n        ],\n        \"semantic_type\": \"\",\n        \"description\": \"\"\n      }\n    },\n    {\n      \"column\": \"End Station\",\n      \"properties\": {\n        \"dtype\": \"category\",\n        \"num_unique_values\": 33,\n        \"samples\": [\n          \"National Museum\",\n          \"Ghornata\"\n        ],\n        \"semantic_type\": \"\",\n        \"description\": \"\"\n      }\n    },\n    {\n      \"column\": \"Journey Date\",\n      \"properties\": {\n        \"dtype\": \"date\",\n        \"min\": \"2024-12-01 00:00:00\",\n        \"max\": \"2025-05-05 00:00:00\",\n        \"num_unique_values\": 156,\n        \"samples\": [\n          \"2025-04-30 00:00:00\",\n          \"2025-04-27 00:00:00\"\n        ],\n        \"semantic_type\": \"\",\n        \"description\": \"\"\n      }\n    },\n    {\n      \"column\": \"Gender\",\n      \"properties\": {\n        \"dtype\": \"category\",\n        \"num_unique_values\": 2,\n        \"samples\": [\n          \"Male\",\n          \"Female\"\n        ],\n        \"semantic_type\": \"\",\n        \"description\": \"\"\n      }\n    },\n    {\n      \"column\": \"Journey Day\",\n      \"properties\": {\n        \"dtype\": \"category\",\n        \"num_unique_values\": 7,\n        \"samples\": [\n          \"Thursday\",\n          \"Monday\"\n        ],\n        \"semantic_type\": \"\",\n        \"description\": \"\"\n      }\n    },\n    {\n      \"column\": \"Age Group\",\n      \"properties\": {\n        \"dtype\": \"category\",\n        \"num_unique_values\": 5,\n        \"samples\": [\n          \"Teen\",\n          \"Young Adult\"\n        ],\n        \"semantic_type\": \"\",\n        \"description\": \"\"\n      }\n    }\n  ]\n}"
            }
          },
          "metadata": {},
          "execution_count": 31
        }
      ]
    },
    {
      "cell_type": "markdown",
      "source": [
        "#Data Visualization"
      ],
      "metadata": {
        "id": "vHMStjIiuaB1"
      }
    },
    {
      "cell_type": "markdown",
      "source": [
        "## **1.Customer Analysis:**"
      ],
      "metadata": {
        "id": "K6YPsZWqfXsZ"
      }
    },
    {
      "cell_type": "markdown",
      "source": [
        "###What age group uses the metro the most?"
      ],
      "metadata": {
        "id": "FH8ln7aBTcuF"
      }
    },
    {
      "cell_type": "code",
      "source": [
        "# Calculate the percentage distribution of each age group and convert the result to a dictionary\n",
        "age_data = df['Age Group'].value_counts(normalize=True) * 100\n",
        "age_data = age_data.round(2).to_dict()"
      ],
      "metadata": {
        "id": "LCIvawQqkxmQ"
      },
      "execution_count": null,
      "outputs": []
    },
    {
      "cell_type": "code",
      "source": [
        "# Create a Waffle chart to visualize the distribution of metro users by age group\n",
        "fig = plt.figure(\n",
        "    FigureClass=Waffle,\n",
        "    rows=6,\n",
        "    columns=15,\n",
        "    values=age_data,\n",
        "    title={'label': 'Distribution of metro users by age group', 'loc': 'center'},\n",
        "    labels=[f\"{k} ({v}%)\" for k, v in age_data.items()],\n",
        "    legend={'loc': 'upper left', 'bbox_to_anchor': (1, 1)},\n",
        "\n",
        ")\n",
        "\n",
        "\n",
        "plt.show()"
      ],
      "metadata": {
        "colab": {
          "base_uri": "https://localhost:8080/",
          "height": 221
        },
        "id": "rnM_5fMOeYJC",
        "outputId": "5433d545-c675-401f-d319-f1ca97699a3b"
      },
      "execution_count": null,
      "outputs": [
        {
          "output_type": "display_data",
          "data": {
            "text/plain": [
              "<Waffle size 640x480 with 1 Axes>"
            ],
            "image/png": "[encoded data removed]"
          },
          "metadata": {}
        }
      ]
    },
    {
      "cell_type": "markdown",
      "source": [
        "### Which category get the most discounted tickets?"
      ],
      "metadata": {
        "id": "D_AC2wlN8GTY"
      }
    },
    {
      "cell_type": "code",
      "source": [
        "# Filter the data to include only rows where the discount category is not 'Adult' // (because the adult cat don't has a dicount) //\n",
        "dicount_cat = df[df['Discount Category'] != 'Adult']"
      ],
      "metadata": {
        "id": "vfuClNWXADIu"
      },
      "execution_count": null,
      "outputs": []
    },
    {
      "cell_type": "code",
      "source": [
        "dicount_cat ['Discount Category'].value_counts()"
      ],
      "metadata": {
        "colab": {
          "base_uri": "https://localhost:8080/",
          "height": 241
        },
        "id": "FYLOOxxvAFrr",
        "outputId": "9bffbc78-d13b-467b-8ef5-624ed3cc8fde"
      },
      "execution_count": null,
      "outputs": [
        {
          "output_type": "execute_result",
          "data": {
            "text/plain": [
              "Discount Category\n",
              "Senior                2656\n",
              "School Student        1518\n",
              "University Student    1505\n",
              "Child                  702\n",
              "Name: count, dtype: int64"
            ],
            "text/html": [
              "<div>\n",
              "<style scoped>\n",
              "    .dataframe tbody tr th:only-of-type {\n",
              "        vertical-align: middle;\n",
              "    }\n",
              "\n",
              "    .dataframe tbody tr th {\n",
              "        vertical-align: top;\n",
              "    }\n",
              "\n",
              "    .dataframe thead th {\n",
              "        text-align: right;\n",
              "    }\n",
              "</style>\n",
              "<table border=\"1\" class=\"dataframe\">\n",
              "  <thead>\n",
              "    <tr style=\"text-align: right;\">\n",
              "      <th></th>\n",
              "      <th>count</th>\n",
              "    </tr>\n",
              "    <tr>\n",
              "      <th>Discount Category</th>\n",
              "      <th></th>\n",
              "    </tr>\n",
              "  </thead>\n",
              "  <tbody>\n",
              "    <tr>\n",
              "      <th>Senior</th>\n",
              "      <td>2656</td>\n",
              "    </tr>\n",
              "    <tr>\n",
              "      <th>School Student</th>\n",
              "      <td>1518</td>\n",
              "    </tr>\n",
              "    <tr>\n",
              "      <th>University Student</th>\n",
              "      <td>1505</td>\n",
              "    </tr>\n",
              "    <tr>\n",
              "      <th>Child</th>\n",
              "      <td>702</td>\n",
              "    </tr>\n",
              "  </tbody>\n",
              "</table>\n",
              "</div><br><label><b>dtype:</b> int64</label>"
            ]
          },
          "metadata": {},
          "execution_count": 35
        }
      ]
    },
    {
      "cell_type": "code",
      "source": [
        "#Create a count plot to show the distribution  discount categories\n",
        "sns.countplot(x = dicount_cat['Discount Category'],palette=\"Set2\")\n",
        "plt.title(\"The Most Discount Category\")"
      ],
      "metadata": {
        "colab": {
          "base_uri": "https://localhost:8080/",
          "height": 490
        },
        "id": "y9ZR05DI8F4u",
        "outputId": "ec4489c5-f764-457c-f6c4-a9d32d673927"
      },
      "execution_count": null,
      "outputs": [
        {
          "output_type": "execute_result",
          "data": {
            "text/plain": [
              "Text(0.5, 1.0, 'The Most Discount Category')"
            ]
          },
          "metadata": {},
          "execution_count": 36
        },
        {
          "output_type": "display_data",
          "data": {
            "text/plain": [
              "<Figure size 640x480 with 1 Axes>"
            ],
            "image/png": "[encoded data removed]"
          },
          "metadata": {}
        }
      ]
    },
    {
      "cell_type": "markdown",
      "source": [
        "###Is there a difference in using the metro between males and females, and which group uses it more?"
      ],
      "metadata": {
        "id": "dRDue7xmgbLz"
      }
    },
    {
      "cell_type": "code",
      "source": [
        "df['Gender'].value_counts(normalize=True) *100"
      ],
      "metadata": {
        "colab": {
          "base_uri": "https://localhost:8080/",
          "height": 178
        },
        "id": "5a5rOYwtgdOZ",
        "outputId": "a24a472a-50f4-4278-f110-b47f7685a4eb"
      },
      "execution_count": null,
      "outputs": [
        {
          "output_type": "execute_result",
          "data": {
            "text/plain": [
              "Gender\n",
              "Male      50.6\n",
              "Female    49.4\n",
              "Name: proportion, dtype: float64"
            ],
            "text/html": [
              "<div>\n",
              "<style scoped>\n",
              "    .dataframe tbody tr th:only-of-type {\n",
              "        vertical-align: middle;\n",
              "    }\n",
              "\n",
              "    .dataframe tbody tr th {\n",
              "        vertical-align: top;\n",
              "    }\n",
              "\n",
              "    .dataframe thead th {\n",
              "        text-align: right;\n",
              "    }\n",
              "</style>\n",
              "<table border=\"1\" class=\"dataframe\">\n",
              "  <thead>\n",
              "    <tr style=\"text-align: right;\">\n",
              "      <th></th>\n",
              "      <th>proportion</th>\n",
              "    </tr>\n",
              "    <tr>\n",
              "      <th>Gender</th>\n",
              "      <th></th>\n",
              "    </tr>\n",
              "  </thead>\n",
              "  <tbody>\n",
              "    <tr>\n",
              "      <th>Male</th>\n",
              "      <td>50.6</td>\n",
              "    </tr>\n",
              "    <tr>\n",
              "      <th>Female</th>\n",
              "      <td>49.4</td>\n",
              "    </tr>\n",
              "  </tbody>\n",
              "</table>\n",
              "</div><br><label><b>dtype:</b> float64</label>"
            ]
          },
          "metadata": {},
          "execution_count": 37
        }
      ]
    },
    {
      "cell_type": "markdown",
      "source": [
        "## **2.Time Analysis:**"
      ],
      "metadata": {
        "id": "-bqUfu8Ei6qH"
      }
    },
    {
      "cell_type": "markdown",
      "source": [
        "###Are there certain months or days that witness an increase in journeys?"
      ],
      "metadata": {
        "id": "ZIb0dEHStFsB"
      }
    },
    {
      "cell_type": "code",
      "source": [
        "# Line plot showing the number of journeys per day\n",
        "daily_journey = df.groupby('Journey Date').size()\n",
        "plt.figure().set_figwidth(8)\n",
        "daily_journey.plot(kind= 'line')\n",
        "plt.title('Number of jurnyes by day')\n",
        "plt.xlabel('Date')\n",
        "plt.ylabel('Number of jurnyes')\n",
        "plt.xticks(rotation=30, fontsize=10,)\n",
        "plt.grid(True)\n",
        "plt.show()"
      ],
      "metadata": {
        "colab": {
          "base_uri": "https://localhost:8080/",
          "height": 501
        },
        "id": "RhYuvgrWyCvB",
        "outputId": "bb5760fc-7023-45d5-94d6-c09f66e6219d"
      },
      "execution_count": null,
      "outputs": [
        {
          "output_type": "display_data",
          "data": {
            "text/plain": [
              "<Figure size 800x480 with 1 Axes>"
            ],
            "image/png": "[encoded data removed]"
          },
          "metadata": {}
        }
      ]
    },
    {
      "cell_type": "code",
      "source": [
        "# Grouping the data by journey date and counting the number of trips per day,\n",
        "# then sorting the result to identify the days with the highest number of journeys.\n",
        "df.groupby('Journey Date').size().sort_values(ascending=False)"
      ],
      "metadata": {
        "colab": {
          "base_uri": "https://localhost:8080/",
          "height": 489
        },
        "id": "OMb4OXir8eUr",
        "outputId": "a9efb13c-2092-4705-8582-8363984c4586"
      },
      "execution_count": null,
      "outputs": [
        {
          "output_type": "execute_result",
          "data": {
            "text/plain": [
              "Journey Date\n",
              "2025-02-22    1079\n",
              "2025-01-30      79\n",
              "2025-04-06      76\n",
              "2025-03-01      75\n",
              "2025-04-08      75\n",
              "              ... \n",
              "2025-01-10      44\n",
              "2025-02-26      43\n",
              "2025-01-19      43\n",
              "2025-04-24      43\n",
              "2024-12-15      40\n",
              "Length: 156, dtype: int64"
            ],
            "text/html": [
              "<div>\n",
              "<style scoped>\n",
              "    .dataframe tbody tr th:only-of-type {\n",
              "        vertical-align: middle;\n",
              "    }\n",
              "\n",
              "    .dataframe tbody tr th {\n",
              "        vertical-align: top;\n",
              "    }\n",
              "\n",
              "    .dataframe thead th {\n",
              "        text-align: right;\n",
              "    }\n",
              "</style>\n",
              "<table border=\"1\" class=\"dataframe\">\n",
              "  <thead>\n",
              "    <tr style=\"text-align: right;\">\n",
              "      <th></th>\n",
              "      <th>0</th>\n",
              "    </tr>\n",
              "    <tr>\n",
              "      <th>Journey Date</th>\n",
              "      <th></th>\n",
              "    </tr>\n",
              "  </thead>\n",
              "  <tbody>\n",
              "    <tr>\n",
              "      <th>2025-02-22</th>\n",
              "      <td>1079</td>\n",
              "    </tr>\n",
              "    <tr>\n",
              "      <th>2025-01-30</th>\n",
              "      <td>79</td>\n",
              "    </tr>\n",
              "    <tr>\n",
              "      <th>2025-04-06</th>\n",
              "      <td>76</td>\n",
              "    </tr>\n",
              "    <tr>\n",
              "      <th>2025-03-01</th>\n",
              "      <td>75</td>\n",
              "    </tr>\n",
              "    <tr>\n",
              "      <th>2025-04-08</th>\n",
              "      <td>75</td>\n",
              "    </tr>\n",
              "    <tr>\n",
              "      <th>...</th>\n",
              "      <td>...</td>\n",
              "    </tr>\n",
              "    <tr>\n",
              "      <th>2025-01-10</th>\n",
              "      <td>44</td>\n",
              "    </tr>\n",
              "    <tr>\n",
              "      <th>2025-02-26</th>\n",
              "      <td>43</td>\n",
              "    </tr>\n",
              "    <tr>\n",
              "      <th>2025-01-19</th>\n",
              "      <td>43</td>\n",
              "    </tr>\n",
              "    <tr>\n",
              "      <th>2025-04-24</th>\n",
              "      <td>43</td>\n",
              "    </tr>\n",
              "    <tr>\n",
              "      <th>2024-12-15</th>\n",
              "      <td>40</td>\n",
              "    </tr>\n",
              "  </tbody>\n",
              "</table>\n",
              "<p>156 rows × 1 columns</p>\n",
              "</div><br><label><b>dtype:</b> int64</label>"
            ]
          },
          "metadata": {},
          "execution_count": 39
        }
      ]
    },
    {
      "cell_type": "code",
      "source": [
        "# Filtering out February-22-2025 from the dataset to avoid bias\n",
        "# then grouping the remaining data by journey date to count trips per day.\n",
        "day_filterd = df[df['Journey Date'] != '2025-02-22']\n",
        "x = day_filterd.groupby('Journey Date').size()\n",
        "x"
      ],
      "metadata": {
        "colab": {
          "base_uri": "https://localhost:8080/",
          "height": 489
        },
        "id": "BfccHZ5xtAFl",
        "outputId": "1100d3ce-b886-4f74-fc6c-3c21570b1ee6"
      },
      "execution_count": null,
      "outputs": [
        {
          "output_type": "execute_result",
          "data": {
            "text/plain": [
              "Journey Date\n",
              "2024-12-01    50\n",
              "2024-12-02    57\n",
              "2024-12-03    50\n",
              "2024-12-04    58\n",
              "2024-12-05    47\n",
              "              ..\n",
              "2025-05-01    49\n",
              "2025-05-02    52\n",
              "2025-05-03    63\n",
              "2025-05-04    60\n",
              "2025-05-05    54\n",
              "Length: 155, dtype: int64"
            ],
            "text/html": [
              "<div>\n",
              "<style scoped>\n",
              "    .dataframe tbody tr th:only-of-type {\n",
              "        vertical-align: middle;\n",
              "    }\n",
              "\n",
              "    .dataframe tbody tr th {\n",
              "        vertical-align: top;\n",
              "    }\n",
              "\n",
              "    .dataframe thead th {\n",
              "        text-align: right;\n",
              "    }\n",
              "</style>\n",
              "<table border=\"1\" class=\"dataframe\">\n",
              "  <thead>\n",
              "    <tr style=\"text-align: right;\">\n",
              "      <th></th>\n",
              "      <th>0</th>\n",
              "    </tr>\n",
              "    <tr>\n",
              "      <th>Journey Date</th>\n",
              "      <th></th>\n",
              "    </tr>\n",
              "  </thead>\n",
              "  <tbody>\n",
              "    <tr>\n",
              "      <th>2024-12-01</th>\n",
              "      <td>50</td>\n",
              "    </tr>\n",
              "    <tr>\n",
              "      <th>2024-12-02</th>\n",
              "      <td>57</td>\n",
              "    </tr>\n",
              "    <tr>\n",
              "      <th>2024-12-03</th>\n",
              "      <td>50</td>\n",
              "    </tr>\n",
              "    <tr>\n",
              "      <th>2024-12-04</th>\n",
              "      <td>58</td>\n",
              "    </tr>\n",
              "    <tr>\n",
              "      <th>2024-12-05</th>\n",
              "      <td>47</td>\n",
              "    </tr>\n",
              "    <tr>\n",
              "      <th>...</th>\n",
              "      <td>...</td>\n",
              "    </tr>\n",
              "    <tr>\n",
              "      <th>2025-05-01</th>\n",
              "      <td>49</td>\n",
              "    </tr>\n",
              "    <tr>\n",
              "      <th>2025-05-02</th>\n",
              "      <td>52</td>\n",
              "    </tr>\n",
              "    <tr>\n",
              "      <th>2025-05-03</th>\n",
              "      <td>63</td>\n",
              "    </tr>\n",
              "    <tr>\n",
              "      <th>2025-05-04</th>\n",
              "      <td>60</td>\n",
              "    </tr>\n",
              "    <tr>\n",
              "      <th>2025-05-05</th>\n",
              "      <td>54</td>\n",
              "    </tr>\n",
              "  </tbody>\n",
              "</table>\n",
              "<p>155 rows × 1 columns</p>\n",
              "</div><br><label><b>dtype:</b> int64</label>"
            ]
          },
          "metadata": {},
          "execution_count": 40
        }
      ]
    },
    {
      "cell_type": "code",
      "source": [
        "# Plotting the number of journeys per day (excluding Feb 22) using a line chart.\n",
        "# This helps visualize trends and fluctuations in daily metro usage.\n",
        "plt.figure().set_figwidth(8)\n",
        "x.plot(kind= 'line')\n",
        "plt.title('Number of jurnyes by day')\n",
        "plt.xlabel('Date')\n",
        "plt.ylabel('Number of jurnyes')\n",
        "plt.xticks(rotation=30, fontsize=10,)\n",
        "plt.grid(True)\n",
        "plt.show()"
      ],
      "metadata": {
        "colab": {
          "base_uri": "https://localhost:8080/",
          "height": 455
        },
        "id": "qSSCK2bM-qnt",
        "outputId": "7e26359a-e059-4b2e-c193-0d48666157c1"
      },
      "execution_count": null,
      "outputs": [
        {
          "output_type": "display_data",
          "data": {
            "text/plain": [
              "<Figure size 800x480 with 1 Axes>"
            ],
            "image/png": "[encoded data removed]"
          },
          "metadata": {}
        }
      ]
    },
    {
      "cell_type": "markdown",
      "source": [
        "###What is the most popular day for Journeys?"
      ],
      "metadata": {
        "id": "j9g2sBJps-4z"
      }
    },
    {
      "cell_type": "code",
      "source": [
        "popular_day= day_filterd['Journey Day'].value_counts()\n",
        "popular_day"
      ],
      "metadata": {
        "colab": {
          "base_uri": "https://localhost:8080/",
          "height": 335
        },
        "id": "EXtORnTSBp8C",
        "outputId": "5e280fec-a820-4b02-b697-89b0c6da1fde"
      },
      "execution_count": null,
      "outputs": [
        {
          "output_type": "execute_result",
          "data": {
            "text/plain": [
              "Journey Day\n",
              "Monday       1309\n",
              "Sunday       1298\n",
              "Tuesday      1284\n",
              "Wednesday    1269\n",
              "Friday       1261\n",
              "Saturday     1258\n",
              "Thursday     1242\n",
              "Name: count, dtype: int64"
            ],
            "text/html": [
              "<div>\n",
              "<style scoped>\n",
              "    .dataframe tbody tr th:only-of-type {\n",
              "        vertical-align: middle;\n",
              "    }\n",
              "\n",
              "    .dataframe tbody tr th {\n",
              "        vertical-align: top;\n",
              "    }\n",
              "\n",
              "    .dataframe thead th {\n",
              "        text-align: right;\n",
              "    }\n",
              "</style>\n",
              "<table border=\"1\" class=\"dataframe\">\n",
              "  <thead>\n",
              "    <tr style=\"text-align: right;\">\n",
              "      <th></th>\n",
              "      <th>count</th>\n",
              "    </tr>\n",
              "    <tr>\n",
              "      <th>Journey Day</th>\n",
              "      <th></th>\n",
              "    </tr>\n",
              "  </thead>\n",
              "  <tbody>\n",
              "    <tr>\n",
              "      <th>Monday</th>\n",
              "      <td>1309</td>\n",
              "    </tr>\n",
              "    <tr>\n",
              "      <th>Sunday</th>\n",
              "      <td>1298</td>\n",
              "    </tr>\n",
              "    <tr>\n",
              "      <th>Tuesday</th>\n",
              "      <td>1284</td>\n",
              "    </tr>\n",
              "    <tr>\n",
              "      <th>Wednesday</th>\n",
              "      <td>1269</td>\n",
              "    </tr>\n",
              "    <tr>\n",
              "      <th>Friday</th>\n",
              "      <td>1261</td>\n",
              "    </tr>\n",
              "    <tr>\n",
              "      <th>Saturday</th>\n",
              "      <td>1258</td>\n",
              "    </tr>\n",
              "    <tr>\n",
              "      <th>Thursday</th>\n",
              "      <td>1242</td>\n",
              "    </tr>\n",
              "  </tbody>\n",
              "</table>\n",
              "</div><br><label><b>dtype:</b> int64</label>"
            ]
          },
          "metadata": {},
          "execution_count": 42
        }
      ]
    },
    {
      "cell_type": "markdown",
      "source": [
        "##**3.Price and revenue analysis:**"
      ],
      "metadata": {
        "id": "JwXbEoNVD3X9"
      }
    },
    {
      "cell_type": "markdown",
      "source": [
        "###What is the most sold ticket?"
      ],
      "metadata": {
        "id": "_GWw-MfJuTIM"
      }
    },
    {
      "cell_type": "code",
      "source": [
        "df['Ticket Type'].value_counts(normalize=True) *100"
      ],
      "metadata": {
        "colab": {
          "base_uri": "https://localhost:8080/",
          "height": 241
        },
        "id": "Rccyl8QHtr26",
        "outputId": "f0e71e6f-3d47-4fe5-de25-6f731601506f"
      },
      "execution_count": null,
      "outputs": [
        {
          "output_type": "execute_result",
          "data": {
            "text/plain": [
              "Ticket Type\n",
              "7 Days     25.64\n",
              "1 Month    25.16\n",
              "3 Days     24.78\n",
              "2 Hours    24.42\n",
              "Name: proportion, dtype: float64"
            ],
            "text/html": [
              "<div>\n",
              "<style scoped>\n",
              "    .dataframe tbody tr th:only-of-type {\n",
              "        vertical-align: middle;\n",
              "    }\n",
              "\n",
              "    .dataframe tbody tr th {\n",
              "        vertical-align: top;\n",
              "    }\n",
              "\n",
              "    .dataframe thead th {\n",
              "        text-align: right;\n",
              "    }\n",
              "</style>\n",
              "<table border=\"1\" class=\"dataframe\">\n",
              "  <thead>\n",
              "    <tr style=\"text-align: right;\">\n",
              "      <th></th>\n",
              "      <th>proportion</th>\n",
              "    </tr>\n",
              "    <tr>\n",
              "      <th>Ticket Type</th>\n",
              "      <th></th>\n",
              "    </tr>\n",
              "  </thead>\n",
              "  <tbody>\n",
              "    <tr>\n",
              "      <th>7 Days</th>\n",
              "      <td>25.64</td>\n",
              "    </tr>\n",
              "    <tr>\n",
              "      <th>1 Month</th>\n",
              "      <td>25.16</td>\n",
              "    </tr>\n",
              "    <tr>\n",
              "      <th>3 Days</th>\n",
              "      <td>24.78</td>\n",
              "    </tr>\n",
              "    <tr>\n",
              "      <th>2 Hours</th>\n",
              "      <td>24.42</td>\n",
              "    </tr>\n",
              "  </tbody>\n",
              "</table>\n",
              "</div><br><label><b>dtype:</b> float64</label>"
            ]
          },
          "metadata": {},
          "execution_count": 43
        }
      ]
    },
    {
      "cell_type": "markdown",
      "source": [
        "###What is the average final price of the ticket?"
      ],
      "metadata": {
        "id": "AayV7AxSudHs"
      }
    },
    {
      "cell_type": "code",
      "source": [
        "fp_average = df['Final Price (SAR)'].mean().round(2)\n",
        "print(f'The average of tickets final Price:{fp_average}')"
      ],
      "metadata": {
        "colab": {
          "base_uri": "https://localhost:8080/"
        },
        "id": "3aKRTumjulvM",
        "outputId": "decbe1ac-8e4e-4be1-ce7e-94b023ca8b25"
      },
      "execution_count": null,
      "outputs": [
        {
          "output_type": "stream",
          "name": "stdout",
          "text": [
            "The average of tickets final Price:58.99\n"
          ]
        }
      ]
    },
    {
      "cell_type": "markdown",
      "source": [
        "###What is the percentage of revenu on February 22 of the total revenus?"
      ],
      "metadata": {
        "id": "rXy3xiZAuk4T"
      }
    },
    {
      "cell_type": "code",
      "source": [
        "# Calculating the total revenue on February 22 and comparing it to the overall revenue.\n",
        "# This provides insight into the financial impact of that specific day.\n",
        "feb_22_revenu = df[df['Journey Date'] == '2025-02-22']['Final Price (SAR)'].sum()\n",
        "total_revenu = df['Final Price (SAR)'].sum()\n",
        "revenu_per = ((feb_22_revenu / total_revenu ) *  100).round(2)\n",
        "print(f\"The percentage of revenu on February 22 from total revenu is: {revenu_per}%\")"
      ],
      "metadata": {
        "colab": {
          "base_uri": "https://localhost:8080/"
        },
        "id": "URUHFZdsuczi",
        "outputId": "4371c892-5678-448c-9778-e57dabc159a9"
      },
      "execution_count": null,
      "outputs": [
        {
          "output_type": "stream",
          "name": "stdout",
          "text": [
            "The percentage of revenu on February 22 from total revenu is: 11.22%\n"
          ]
        }
      ]
    },
    {
      "cell_type": "code",
      "source": [
        "# Creating a pie chart to visualize the revenue distribution between February 22\n",
        "# and all other days.\n",
        "other_day_revenu = total_revenu - feb_22_revenu\n",
        "labels =['Other Day Revenue','Feb-22 Revenu']\n",
        "values = [other_day_revenu ,feb_22_revenu ]\n",
        "colors = ['#096B68','#90D1CA']\n",
        "sizes = [215, 130]\n",
        "explode = [0, 0.1]\n",
        "# Create a pie chart\n",
        "plt.pie(values, labels=labels, autopct='%1.2f%%',explode=explode,colors=colors,shadow=True, startangle=140)\n",
        "\n",
        "plt.axis('equal')\n",
        "\n",
        "# Add a title\n",
        "plt.title('revenu on February 22')\n",
        "\n",
        "plt.show()"
      ],
      "metadata": {
        "colab": {
          "base_uri": "https://localhost:8080/",
          "height": 428
        },
        "id": "T3K_BeltGbKa",
        "outputId": "2a42b850-791d-47cf-8325-a803c6345efd"
      },
      "execution_count": null,
      "outputs": [
        {
          "output_type": "display_data",
          "data": {
            "text/plain": [
              "<Figure size 640x480 with 1 Axes>"
            ],
            "image/png": "[encoded data removed]"
          },
          "metadata": {}
        }
      ]
    },
    {
      "cell_type": "markdown",
      "source": [
        "##**4.Payment method analysis:**"
      ],
      "metadata": {
        "id": "W00KOosjuuRU"
      }
    },
    {
      "cell_type": "markdown",
      "source": [
        "###What is the most commonly used payment method?"
      ],
      "metadata": {
        "id": "xBCRmt-gvDyK"
      }
    },
    {
      "cell_type": "code",
      "source": [
        "df['Payment Method'].value_counts()"
      ],
      "metadata": {
        "colab": {
          "base_uri": "https://localhost:8080/",
          "height": 209
        },
        "id": "4KH2TIo-u3iQ",
        "outputId": "2509921a-902a-4c30-b8f2-1b8abe992c27"
      },
      "execution_count": null,
      "outputs": [
        {
          "output_type": "execute_result",
          "data": {
            "text/plain": [
              "Payment Method\n",
              "Apple Pay    4331\n",
              "Card         4323\n",
              "Cash         1346\n",
              "Name: count, dtype: int64"
            ],
            "text/html": [
              "<div>\n",
              "<style scoped>\n",
              "    .dataframe tbody tr th:only-of-type {\n",
              "        vertical-align: middle;\n",
              "    }\n",
              "\n",
              "    .dataframe tbody tr th {\n",
              "        vertical-align: top;\n",
              "    }\n",
              "\n",
              "    .dataframe thead th {\n",
              "        text-align: right;\n",
              "    }\n",
              "</style>\n",
              "<table border=\"1\" class=\"dataframe\">\n",
              "  <thead>\n",
              "    <tr style=\"text-align: right;\">\n",
              "      <th></th>\n",
              "      <th>count</th>\n",
              "    </tr>\n",
              "    <tr>\n",
              "      <th>Payment Method</th>\n",
              "      <th></th>\n",
              "    </tr>\n",
              "  </thead>\n",
              "  <tbody>\n",
              "    <tr>\n",
              "      <th>Apple Pay</th>\n",
              "      <td>4331</td>\n",
              "    </tr>\n",
              "    <tr>\n",
              "      <th>Card</th>\n",
              "      <td>4323</td>\n",
              "    </tr>\n",
              "    <tr>\n",
              "      <th>Cash</th>\n",
              "      <td>1346</td>\n",
              "    </tr>\n",
              "  </tbody>\n",
              "</table>\n",
              "</div><br><label><b>dtype:</b> int64</label>"
            ]
          },
          "metadata": {},
          "execution_count": 47
        }
      ]
    },
    {
      "cell_type": "markdown",
      "source": [
        "###Do users prefer to buy tickets from the app or use other methods?"
      ],
      "metadata": {
        "id": "GcJWrobpvFsy"
      }
    },
    {
      "cell_type": "code",
      "source": [
        "df['Ticket Source'].value_counts(normalize=True) * 100"
      ],
      "metadata": {
        "colab": {
          "base_uri": "https://localhost:8080/",
          "height": 241
        },
        "id": "JHTiu5hNq9J4",
        "outputId": "825c82c1-288f-4ca8-e810-c777e4fc21c9"
      },
      "execution_count": null,
      "outputs": [
        {
          "output_type": "execute_result",
          "data": {
            "text/plain": [
              "Ticket Source\n",
              "Ticket Office    25.21\n",
              "TVM              25.08\n",
              "Gate Payment     25.00\n",
              "Darb App         24.71\n",
              "Name: proportion, dtype: float64"
            ],
            "text/html": [
              "<div>\n",
              "<style scoped>\n",
              "    .dataframe tbody tr th:only-of-type {\n",
              "        vertical-align: middle;\n",
              "    }\n",
              "\n",
              "    .dataframe tbody tr th {\n",
              "        vertical-align: top;\n",
              "    }\n",
              "\n",
              "    .dataframe thead th {\n",
              "        text-align: right;\n",
              "    }\n",
              "</style>\n",
              "<table border=\"1\" class=\"dataframe\">\n",
              "  <thead>\n",
              "    <tr style=\"text-align: right;\">\n",
              "      <th></th>\n",
              "      <th>proportion</th>\n",
              "    </tr>\n",
              "    <tr>\n",
              "      <th>Ticket Source</th>\n",
              "      <th></th>\n",
              "    </tr>\n",
              "  </thead>\n",
              "  <tbody>\n",
              "    <tr>\n",
              "      <th>Ticket Office</th>\n",
              "      <td>25.21</td>\n",
              "    </tr>\n",
              "    <tr>\n",
              "      <th>TVM</th>\n",
              "      <td>25.08</td>\n",
              "    </tr>\n",
              "    <tr>\n",
              "      <th>Gate Payment</th>\n",
              "      <td>25.00</td>\n",
              "    </tr>\n",
              "    <tr>\n",
              "      <th>Darb App</th>\n",
              "      <td>24.71</td>\n",
              "    </tr>\n",
              "  </tbody>\n",
              "</table>\n",
              "</div><br><label><b>dtype:</b> float64</label>"
            ]
          },
          "metadata": {},
          "execution_count": 48
        }
      ]
    },
    {
      "cell_type": "markdown",
      "source": [
        "###Does the payment method differ according to age group?"
      ],
      "metadata": {
        "id": "sN4K3ZxAvZvK"
      }
    },
    {
      "cell_type": "code",
      "source": [
        "# Grouping the data by payment method and age group to count the number of users in each combination.\n",
        "# This helps analyze how payment preferences vary across different age groups.\n",
        "df.groupby(['Ticket Source', 'Age Group'])['Age Group'].size()"
      ],
      "metadata": {
        "colab": {
          "base_uri": "https://localhost:8080/",
          "height": 742
        },
        "id": "PcoHEsebRBUQ",
        "outputId": "f1546290-4177-43aa-f70e-1c11ebb7a669"
      },
      "execution_count": null,
      "outputs": [
        {
          "output_type": "execute_result",
          "data": {
            "text/plain": [
              "Ticket Source  Age Group  \n",
              "Darb App       Adult          1067\n",
              "               Child           354\n",
              "               Senior          663\n",
              "               Teen            159\n",
              "               Young Adult     228\n",
              "Gate Payment   Adult          1089\n",
              "               Child           397\n",
              "               Senior          660\n",
              "               Teen            134\n",
              "               Young Adult     220\n",
              "TVM            Adult          1099\n",
              "               Child           355\n",
              "               Senior          655\n",
              "               Teen            156\n",
              "               Young Adult     243\n",
              "Ticket Office  Adult          1111\n",
              "               Child           352\n",
              "               Senior          678\n",
              "               Teen            164\n",
              "               Young Adult     216\n",
              "Name: Age Group, dtype: int64"
            ],
            "text/html": [
              "<div>\n",
              "<style scoped>\n",
              "    .dataframe tbody tr th:only-of-type {\n",
              "        vertical-align: middle;\n",
              "    }\n",
              "\n",
              "    .dataframe tbody tr th {\n",
              "        vertical-align: top;\n",
              "    }\n",
              "\n",
              "    .dataframe thead th {\n",
              "        text-align: right;\n",
              "    }\n",
              "</style>\n",
              "<table border=\"1\" class=\"dataframe\">\n",
              "  <thead>\n",
              "    <tr style=\"text-align: right;\">\n",
              "      <th></th>\n",
              "      <th></th>\n",
              "      <th>Age Group</th>\n",
              "    </tr>\n",
              "    <tr>\n",
              "      <th>Ticket Source</th>\n",
              "      <th>Age Group</th>\n",
              "      <th></th>\n",
              "    </tr>\n",
              "  </thead>\n",
              "  <tbody>\n",
              "    <tr>\n",
              "      <th rowspan=\"5\" valign=\"top\">Darb App</th>\n",
              "      <th>Adult</th>\n",
              "      <td>1067</td>\n",
              "    </tr>\n",
              "    <tr>\n",
              "      <th>Child</th>\n",
              "      <td>354</td>\n",
              "    </tr>\n",
              "    <tr>\n",
              "      <th>Senior</th>\n",
              "      <td>663</td>\n",
              "    </tr>\n",
              "    <tr>\n",
              "      <th>Teen</th>\n",
              "      <td>159</td>\n",
              "    </tr>\n",
              "    <tr>\n",
              "      <th>Young Adult</th>\n",
              "      <td>228</td>\n",
              "    </tr>\n",
              "    <tr>\n",
              "      <th rowspan=\"5\" valign=\"top\">Gate Payment</th>\n",
              "      <th>Adult</th>\n",
              "      <td>1089</td>\n",
              "    </tr>\n",
              "    <tr>\n",
              "      <th>Child</th>\n",
              "      <td>397</td>\n",
              "    </tr>\n",
              "    <tr>\n",
              "      <th>Senior</th>\n",
              "      <td>660</td>\n",
              "    </tr>\n",
              "    <tr>\n",
              "      <th>Teen</th>\n",
              "      <td>134</td>\n",
              "    </tr>\n",
              "    <tr>\n",
              "      <th>Young Adult</th>\n",
              "      <td>220</td>\n",
              "    </tr>\n",
              "    <tr>\n",
              "      <th rowspan=\"5\" valign=\"top\">TVM</th>\n",
              "      <th>Adult</th>\n",
              "      <td>1099</td>\n",
              "    </tr>\n",
              "    <tr>\n",
              "      <th>Child</th>\n",
              "      <td>355</td>\n",
              "    </tr>\n",
              "    <tr>\n",
              "      <th>Senior</th>\n",
              "      <td>655</td>\n",
              "    </tr>\n",
              "    <tr>\n",
              "      <th>Teen</th>\n",
              "      <td>156</td>\n",
              "    </tr>\n",
              "    <tr>\n",
              "      <th>Young Adult</th>\n",
              "      <td>243</td>\n",
              "    </tr>\n",
              "    <tr>\n",
              "      <th rowspan=\"5\" valign=\"top\">Ticket Office</th>\n",
              "      <th>Adult</th>\n",
              "      <td>1111</td>\n",
              "    </tr>\n",
              "    <tr>\n",
              "      <th>Child</th>\n",
              "      <td>352</td>\n",
              "    </tr>\n",
              "    <tr>\n",
              "      <th>Senior</th>\n",
              "      <td>678</td>\n",
              "    </tr>\n",
              "    <tr>\n",
              "      <th>Teen</th>\n",
              "      <td>164</td>\n",
              "    </tr>\n",
              "    <tr>\n",
              "      <th>Young Adult</th>\n",
              "      <td>216</td>\n",
              "    </tr>\n",
              "  </tbody>\n",
              "</table>\n",
              "</div><br><label><b>dtype:</b> int64</label>"
            ]
          },
          "metadata": {},
          "execution_count": 49
        }
      ]
    },
    {
      "cell_type": "code",
      "source": [
        "# Creating a grouped histogram to visualize how different age groups purchase metro tickets based on the ticket source.\n",
        "# This helps identify any preferences in ticket acquisition channels across age demographics.\n",
        "fig = px.histogram(df,\n",
        "                   x=\"Age Group\",\n",
        "                   color=\"Ticket Source\",\n",
        "                   barmode=\"group\",\n",
        "                   color_discrete_sequence=px.colors.qualitative.Set2)\n",
        "\n",
        "fig.update_layout(\n",
        "    title='Payment Method by Age Group',\n",
        "    title_x =0.5,\n",
        "    xaxis_title='Age Group',\n",
        "    yaxis_title='User Count',\n",
        "    legend_title='Ticket Source'\n",
        ")\n",
        "\n",
        "fig.show()"
      ],
      "metadata": {
        "colab": {
          "base_uri": "https://localhost:8080/",
          "height": 542
        },
        "id": "5JpHB6SdTvRL",
        "outputId": "283b6f2a-07cc-4dc5-be1b-807b31fa434e"
      },
      "execution_count": null,
      "outputs": [
        {
          "output_type": "display_data",
          "data": {
            "text/html": [
              "<html>\n",
              "<head><meta charset=\"utf-8\" /></head>\n",
              "<body>\n",
              "    <div>            <script src=\"https://cdnjs.cloudflare.com/ajax/libs/mathjax/2.7.5/MathJax.js?config=TeX-AMS-MML_SVG\"></script><script type=\"text/javascript\">if (window.MathJax && window.MathJax.Hub && window.MathJax.Hub.Config) {window.MathJax.Hub.Config({SVG: {font: \"STIX-Web\"}});}</script>                <script type=\"text/javascript\">window.PlotlyConfig = {MathJaxConfig: 'local'};</script>\n",
              "        <script charset=\"utf-8\" src=\"https://cdn.plot.ly/plotly-2.35.2.min.js\"></script>                <div id=\"2ea63942-a5dc-45c8-9f3c-d0f3ed10396b\" class=\"plotly-graph-div\" style=\"height:525px; width:100%;\"></div>            <script type=\"text/javascript\">                                    window.PLOTLYENV=window.PLOTLYENV || {};                                    if (document.getElementById(\"2ea63942-a5dc-45c8-9f3c-d0f3ed10396b\")) {                    Plotly.newPlot(                        \"2ea63942-a5dc-45c8-9f3c-d0f3ed10396b\",                        [{\"alignmentgroup\":\"True\",\"bingroup\":\"x\",\"hovertemplate\":\"Ticket Source=Darb App\\u003cbr\\u003eAge Group=%{x}\\u003cbr\\u003ecount=%{y}\\u003cextra\\u003e\\u003c\\u002fextra\\u003e\",\"legendgroup\":\"Darb App\",\"marker\":{\"color\":\"rgb(102,194,165)\",\"pattern\":{\"shape\":\"\"}},\"name\":\"Darb App\",\"offsetgroup\":\"Darb App\",\"orientation\":\"v\",\"showlegend\":true,\"x\":[\"Senior\",\"Adult\",\"Senior\",\"Adult\",\"Adult\",\"Adult\",\"Adult\",\"Young Adult\",\"Young Adult\",\"Adult\",\"Adult\",\"Senior\",\"Teen\",\"Senior\",\"Adult\",\"Young Adult\",\"Senior\",\"Child\",\"Young Adult\",\"Adult\",\"Senior\",\"Adult\",\"Child\",\"Adult\",\"Senior\",\"Adult\",\"Young Adult\",\"Senior\",\"Child\",\"Young Adult\",\"Adult\",\"Teen\",\"Senior\",\"Young Adult\",\"Adult\",\"Child\",\"Senior\",\"Teen\",\"Senior\",\"Adult\",\"Senior\",\"Adult\",\"Adult\",\"Adult\",\"Senior\",\"Adult\",\"Senior\",\"Senior\",\"Child\",\"Adult\",\"Senior\",\"Adult\",\"Adult\",\"Adult\",\"Senior\",\"Adult\",\"Adult\",\"Adult\",\"Adult\",\"Adult\",\"Teen\",\"Senior\",\"Senior\",\"Adult\",\"Young Adult\",\"Senior\",\"Adult\",\"Adult\",\"Senior\",\"Adult\",\"Senior\",\"Adult\",\"Child\",\"Adult\",\"Adult\",\"Senior\",\"Senior\",\"Senior\",\"Adult\",\"Adult\",\"Adult\",\"Adult\",\"Adult\",\"Senior\",\"Adult\",\"Adult\",\"Adult\",\"Adult\",\"Young Adult\",\"Adult\",\"Child\",\"Adult\",\"Senior\",\"Adult\",\"Young Adult\",\"Senior\",\"Senior\",\"Child\",\"Adult\",\"Young Adult\",\"Adult\",\"Teen\",\"Senior\",\"Senior\",\"Adult\",\"Senior\",\"Adult\",\"Adult\",\"Child\",\"Young Adult\",\"Child\",\"Senior\",\"Adult\",\"Senior\",\"Adult\",\"Adult\",\"Teen\",\"Senior\",\"Adult\",\"Adult\",\"Child\",\"Senior\",\"Adult\",\"Senior\",\"Senior\",\"Senior\",\"Adult\",\"Adult\",\"Teen\",\"Senior\",\"Senior\",\"Adult\",\"Adult\",\"Senior\",\"Child\",\"Child\",\"Adult\",\"Child\",\"Child\",\"Child\",\"Young Adult\",\"Adult\",\"Senior\",\"Child\",\"Child\",\"Senior\",\"Child\",\"Adult\",\"Adult\",\"Adult\",\"Adult\",\"Teen\",\"Adult\",\"Adult\",\"Senior\",\"Adult\",\"Adult\",\"Teen\",\"Senior\",\"Teen\",\"Adult\",\"Child\",\"Adult\",\"Young Adult\",\"Adult\",\"Adult\",\"Senior\",\"Adult\",\"Senior\",\"Senior\",\"Adult\",\"Adult\",\"Adult\",\"Young Adult\",\"Teen\",\"Young Adult\",\"Child\",\"Child\",\"Teen\",\"Child\",\"Child\",\"Child\",\"Senior\",\"Child\",\"Adult\",\"Senior\",\"Senior\",\"Adult\",\"Adult\",\"Adult\",\"Senior\",\"Child\",\"Senior\",\"Child\",\"Senior\",\"Child\",\"Teen\",\"Adult\",\"Child\",\"Adult\",\"Young Adult\",\"Senior\",\"Young Adult\",\"Young Adult\",\"Young Adult\",\"Adult\",\"Senior\",\"Adult\",\"Adult\",\"Senior\",\"Adult\",\"Adult\",\"Adult\",\"Child\",\"Senior\",\"Teen\",\"Senior\",\"Adult\",\"Teen\",\"Child\",\"Young Adult\",\"Senior\",\"Child\",\"Senior\",\"Senior\",\"Adult\",\"Adult\",\"Teen\",\"Senior\",\"Child\",\"Teen\",\"Adult\",\"Senior\",\"Senior\",\"Teen\",\"Senior\",\"Senior\",\"Senior\",\"Child\",\"Senior\",\"Senior\",\"Adult\",\"Child\",\"Young Adult\",\"Adult\",\"Teen\",\"Young Adult\",\"Young Adult\",\"Adult\",\"Adult\",\"Adult\",\"Senior\",\"Senior\",\"Senior\",\"Adult\",\"Young Adult\",\"Adult\",\"Senior\",\"Child\",\"Adult\",\"Senior\",\"Adult\",\"Senior\",\"Senior\",\"Adult\",\"Adult\",\"Adult\",\"Teen\",\"Adult\",\"Senior\",\"Adult\",\"Adult\",\"Senior\",\"Senior\",\"Child\",\"Child\",\"Senior\",\"Adult\",\"Adult\",\"Senior\",\"Senior\",\"Child\",\"Adult\",\"Senior\",\"Senior\",\"Senior\",\"Child\",\"Teen\",\"Teen\",\"Adult\",\"Adult\",\"Adult\",\"Senior\",\"Young Adult\",\"Adult\",\"Senior\",\"Adult\",\"Teen\",\"Adult\",\"Young Adult\",\"Adult\",\"Teen\",\"Senior\",\"Senior\",\"Adult\",\"Senior\",\"Child\",\"Young Adult\",\"Senior\",\"Child\",\"Senior\",\"Young Adult\",\"Senior\",\"Child\",\"Young Adult\",\"Child\",\"Adult\",\"Young Adult\",\"Senior\",\"Adult\",\"Adult\",\"Young Adult\",\"Young Adult\",\"Adult\",\"Adult\",\"Adult\",\"Child\",\"Child\",\"Adult\",\"Adult\",\"Adult\",\"Adult\",\"Child\",\"Adult\",\"Adult\",\"Adult\",\"Child\",\"Senior\",\"Adult\",\"Child\",\"Adult\",\"Child\",\"Senior\",\"Senior\",\"Adult\",\"Child\",\"Adult\",\"Senior\",\"Senior\",\"Adult\",\"Child\",\"Senior\",\"Adult\",\"Adult\",\"Adult\",\"Adult\",\"Senior\",\"Adult\",\"Child\",\"Young Adult\",\"Senior\",\"Young Adult\",\"Young Adult\",\"Adult\",\"Senior\",\"Adult\",\"Adult\",\"Senior\",\"Adult\",\"Senior\",\"Child\",\"Adult\",\"Senior\",\"Child\",\"Adult\",\"Adult\",\"Adult\",\"Senior\",\"Senior\",\"Senior\",\"Adult\",\"Young Adult\",\"Senior\",\"Child\",\"Senior\",\"Adult\",\"Senior\",\"Adult\",\"Senior\",\"Young Adult\",\"Teen\",\"Senior\",\"Adult\",\"Child\",\"Young Adult\",\"Senior\",\"Adult\",\"Senior\",\"Senior\",\"Adult\",\"Adult\",\"Teen\",\"Adult\",\"Senior\",\"Child\",\"Senior\",\"Adult\",\"Senior\",\"Child\",\"Adult\",\"Adult\",\"Adult\",\"Child\",\"Adult\",\"Adult\",\"Adult\",\"Teen\",\"Adult\",\"Senior\",\"Adult\",\"Senior\",\"Adult\",\"Senior\",\"Adult\",\"Senior\",\"Senior\",\"Child\",\"Adult\",\"Senior\",\"Senior\",\"Adult\",\"Adult\",\"Adult\",\"Adult\",\"Adult\",\"Senior\",\"Young Adult\",\"Adult\",\"Adult\",\"Senior\",\"Adult\",\"Senior\",\"Adult\",\"Child\",\"Teen\",\"Senior\",\"Young Adult\",\"Adult\",\"Adult\",\"Teen\",\"Child\",\"Senior\",\"Senior\",\"Adult\",\"Senior\",\"Adult\",\"Senior\",\"Adult\",\"Young Adult\",\"Young Adult\",\"Senior\",\"Adult\",\"Young Adult\",\"Young Adult\",\"Senior\",\"Adult\",\"Child\",\"Child\",\"Adult\",\"Senior\",\"Senior\",\"Adult\",\"Adult\",\"Senior\",\"Adult\",\"Adult\",\"Child\",\"Adult\",\"Child\",\"Young Adult\",\"Senior\",\"Senior\",\"Child\",\"Adult\",\"Adult\",\"Adult\",\"Young Adult\",\"Adult\",\"Senior\",\"Adult\",\"Adult\",\"Senior\",\"Senior\",\"Adult\",\"Adult\",\"Adult\",\"Adult\",\"Child\",\"Adult\",\"Young Adult\",\"Child\",\"Young Adult\",\"Adult\",\"Adult\",\"Senior\",\"Senior\",\"Young Adult\",\"Adult\",\"Senior\",\"Young Adult\",\"Adult\",\"Young Adult\",\"Child\",\"Adult\",\"Adult\",\"Senior\",\"Senior\",\"Child\",\"Senior\",\"Senior\",\"Teen\",\"Young Adult\",\"Adult\",\"Young Adult\",\"Senior\",\"Senior\",\"Adult\",\"Adult\",\"Young Adult\",\"Child\",\"Adult\",\"Child\",\"Child\",\"Adult\",\"Adult\",\"Adult\",\"Senior\",\"Young Adult\",\"Senior\",\"Adult\",\"Senior\",\"Adult\",\"Adult\",\"Child\",\"Adult\",\"Adult\",\"Adult\",\"Child\",\"Child\",\"Adult\",\"Teen\",\"Adult\",\"Adult\",\"Adult\",\"Young Adult\",\"Teen\",\"Child\",\"Senior\",\"Senior\",\"Adult\",\"Adult\",\"Adult\",\"Adult\",\"Adult\",\"Child\",\"Senior\",\"Teen\",\"Senior\",\"Adult\",\"Senior\",\"Young Adult\",\"Senior\",\"Adult\",\"Senior\",\"Adult\",\"Senior\",\"Senior\",\"Teen\",\"Adult\",\"Senior\",\"Adult\",\"Adult\",\"Adult\",\"Senior\",\"Adult\",\"Child\",\"Adult\",\"Adult\",\"Young Adult\",\"Adult\",\"Adult\",\"Adult\",\"Adult\",\"Senior\",\"Adult\",\"Adult\",\"Teen\",\"Adult\",\"Adult\",\"Child\",\"Young Adult\",\"Adult\",\"Senior\",\"Senior\",\"Adult\",\"Adult\",\"Adult\",\"Adult\",\"Young Adult\",\"Senior\",\"Adult\",\"Senior\",\"Adult\",\"Adult\",\"Young Adult\",\"Senior\",\"Adult\",\"Senior\",\"Adult\",\"Adult\",\"Adult\",\"Adult\",\"Adult\",\"Adult\",\"Senior\",\"Young Adult\",\"Child\",\"Senior\",\"Senior\",\"Adult\",\"Senior\",\"Adult\",\"Young Adult\",\"Senior\",\"Senior\",\"Adult\",\"Young Adult\",\"Child\",\"Adult\",\"Senior\",\"Child\",\"Young Adult\",\"Senior\",\"Teen\",\"Young Adult\",\"Adult\",\"Child\",\"Young Adult\",\"Adult\",\"Adult\",\"Senior\",\"Senior\",\"Adult\",\"Senior\",\"Child\",\"Adult\",\"Adult\",\"Teen\",\"Adult\",\"Teen\",\"Child\",\"Senior\",\"Adult\",\"Adult\",\"Adult\",\"Adult\",\"Senior\",\"Adult\",\"Adult\",\"Child\",\"Senior\",\"Child\",\"Adult\",\"Adult\",\"Adult\",\"Adult\",\"Adult\",\"Adult\",\"Adult\",\"Adult\",\"Child\",\"Adult\",\"Child\",\"Adult\",\"Adult\",\"Senior\",\"Young Adult\",\"Adult\",\"Adult\",\"Senior\",\"Senior\",\"Senior\",\"Adult\",\"Child\",\"Adult\",\"Adult\",\"Child\",\"Child\",\"Adult\",\"Senior\",\"Adult\",\"Adult\",\"Adult\",\"Senior\",\"Adult\",\"Senior\",\"Senior\",\"Young Adult\",\"Adult\",\"Senior\",\"Adult\",\"Senior\",\"Teen\",\"Senior\",\"Child\",\"Teen\",\"Senior\",\"Adult\",\"Adult\",\"Adult\",\"Adult\",\"Adult\",\"Senior\",\"Adult\",\"Senior\",\"Teen\",\"Child\",\"Child\",\"Teen\",\"Adult\",\"Adult\",\"Adult\",\"Senior\",\"Teen\",\"Adult\",\"Young Adult\",\"Young Adult\",\"Adult\",\"Young Adult\",\"Adult\",\"Adult\",\"Adult\",\"Senior\",\"Adult\",\"Child\",\"Young Adult\",\"Child\",\"Adult\",\"Senior\",\"Adult\",\"Child\",\"Adult\",\"Senior\",\"Teen\",\"Young Adult\",\"Young Adult\",\"Adult\",\"Young Adult\",\"Adult\",\"Adult\",\"Child\",\"Teen\",\"Child\",\"Senior\",\"Adult\",\"Young Adult\",\"Adult\",\"Adult\",\"Child\",\"Adult\",\"Adult\",\"Senior\",\"Adult\",\"Senior\",\"Adult\",\"Teen\",\"Senior\",\"Young Adult\",\"Young Adult\",\"Adult\",\"Adult\",\"Senior\",\"Young Adult\",\"Adult\",\"Adult\",\"Senior\",\"Adult\",\"Adult\",\"Adult\",\"Adult\",\"Senior\",\"Teen\",\"Child\",\"Adult\",\"Senior\",\"Child\",\"Adult\",\"Child\",\"Young Adult\",\"Child\",\"Adult\",\"Adult\",\"Child\",\"Senior\",\"Teen\",\"Child\",\"Adult\",\"Teen\",\"Child\",\"Child\",\"Child\",\"Senior\",\"Adult\",\"Adult\",\"Adult\",\"Senior\",\"Senior\",\"Teen\",\"Adult\",\"Senior\",\"Senior\",\"Adult\",\"Adult\",\"Adult\",\"Adult\",\"Child\",\"Senior\",\"Adult\",\"Adult\",\"Adult\",\"Adult\",\"Young Adult\",\"Adult\",\"Adult\",\"Senior\",\"Adult\",\"Adult\",\"Teen\",\"Young Adult\",\"Senior\",\"Senior\",\"Adult\",\"Adult\",\"Adult\",\"Teen\",\"Young Adult\",\"Senior\",\"Adult\",\"Adult\",\"Senior\",\"Child\",\"Adult\",\"Senior\",\"Senior\",\"Senior\",\"Senior\",\"Senior\",\"Child\",\"Senior\",\"Adult\",\"Senior\",\"Adult\",\"Adult\",\"Adult\",\"Adult\",\"Young Adult\",\"Adult\",\"Adult\",\"Senior\",\"Senior\",\"Adult\",\"Child\",\"Adult\",\"Senior\",\"Child\",\"Teen\",\"Adult\",\"Young Adult\",\"Senior\",\"Teen\",\"Child\",\"Teen\",\"Senior\",\"Teen\",\"Senior\",\"Senior\",\"Adult\",\"Senior\",\"Adult\",\"Adult\",\"Child\",\"Adult\",\"Senior\",\"Child\",\"Adult\",\"Senior\",\"Senior\",\"Adult\",\"Senior\",\"Adult\",\"Child\",\"Adult\",\"Senior\",\"Adult\",\"Child\",\"Senior\",\"Young Adult\",\"Adult\",\"Young Adult\",\"Senior\",\"Senior\",\"Teen\",\"Adult\",\"Adult\",\"Adult\",\"Adult\",\"Child\",\"Senior\",\"Adult\",\"Adult\",\"Adult\",\"Senior\",\"Senior\",\"Adult\",\"Adult\",\"Senior\",\"Child\",\"Senior\",\"Young Adult\",\"Senior\",\"Adult\",\"Adult\",\"Senior\",\"Adult\",\"Senior\",\"Adult\",\"Adult\",\"Adult\",\"Child\",\"Adult\",\"Senior\",\"Child\",\"Child\",\"Adult\",\"Adult\",\"Young Adult\",\"Adult\",\"Child\",\"Adult\",\"Adult\",\"Adult\",\"Child\",\"Adult\",\"Teen\",\"Adult\",\"Teen\",\"Adult\",\"Adult\",\"Senior\",\"Adult\",\"Senior\",\"Child\",\"Adult\",\"Child\",\"Adult\",\"Adult\",\"Young Adult\",\"Adult\",\"Senior\",\"Adult\",\"Adult\",\"Child\",\"Senior\",\"Adult\",\"Child\",\"Adult\",\"Adult\",\"Senior\",\"Adult\",\"Young Adult\",\"Adult\",\"Child\",\"Adult\",\"Senior\",\"Senior\",\"Adult\",\"Senior\",\"Young Adult\",\"Senior\",\"Child\",\"Adult\",\"Teen\",\"Senior\",\"Adult\",\"Adult\",\"Senior\",\"Senior\",\"Adult\",\"Senior\",\"Senior\",\"Adult\",\"Teen\",\"Adult\",\"Adult\",\"Senior\",\"Adult\",\"Adult\",\"Senior\",\"Child\",\"Senior\",\"Adult\",\"Adult\",\"Adult\",\"Adult\",\"Senior\",\"Senior\",\"Senior\",\"Adult\",\"Adult\",\"Adult\",\"Teen\",\"Adult\",\"Adult\",\"Child\",\"Young Adult\",\"Adult\",\"Adult\",\"Adult\",\"Child\",\"Adult\",\"Adult\",\"Adult\",\"Senior\",\"Young Adult\",\"Young Adult\",\"Senior\",\"Senior\",\"Senior\",\"Young Adult\",\"Senior\",\"Adult\",\"Adult\",\"Teen\",\"Young Adult\",\"Adult\",\"Senior\",\"Young Adult\",\"Adult\",\"Young Adult\",\"Child\",\"Child\",\"Adult\",\"Senior\",\"Senior\",\"Child\",\"Young Adult\",\"Senior\",\"Senior\",\"Young Adult\",\"Adult\",\"Adult\",\"Young Adult\",\"Child\",\"Child\",\"Young Adult\",\"Adult\",\"Child\",\"Child\",\"Child\",\"Adult\",\"Adult\",\"Adult\",\"Adult\",\"Senior\",\"Adult\",\"Child\",\"Senior\",\"Child\",\"Senior\",\"Adult\",\"Adult\",\"Adult\",\"Senior\",\"Young Adult\",\"Adult\",\"Adult\",\"Teen\",\"Child\",\"Senior\",\"Senior\",\"Senior\",\"Adult\",\"Senior\",\"Young Adult\",\"Adult\",\"Senior\",\"Child\",\"Teen\",\"Senior\",\"Senior\",\"Senior\",\"Teen\",\"Adult\",\"Adult\",\"Child\",\"Senior\",\"Young Adult\",\"Child\",\"Senior\",\"Adult\",\"Senior\",\"Senior\",\"Adult\",\"Child\",\"Adult\",\"Senior\",\"Child\",\"Senior\",\"Teen\",\"Adult\",\"Senior\",\"Child\",\"Teen\",\"Senior\",\"Senior\",\"Adult\",\"Adult\",\"Adult\",\"Senior\",\"Adult\",\"Adult\",\"Senior\",\"Adult\",\"Young Adult\",\"Child\",\"Adult\",\"Young Adult\",\"Child\",\"Teen\",\"Senior\",\"Adult\",\"Child\",\"Adult\",\"Adult\",\"Adult\",\"Adult\",\"Senior\",\"Adult\",\"Teen\",\"Adult\",\"Adult\",\"Young Adult\",\"Senior\",\"Senior\",\"Senior\",\"Child\",\"Adult\",\"Adult\",\"Senior\",\"Senior\",\"Young Adult\",\"Senior\",\"Young Adult\",\"Adult\",\"Senior\",\"Senior\",\"Young Adult\",\"Adult\",\"Senior\",\"Adult\",\"Adult\",\"Adult\",\"Adult\",\"Senior\",\"Teen\",\"Adult\",\"Adult\",\"Senior\",\"Senior\",\"Adult\",\"Adult\",\"Adult\",\"Teen\",\"Teen\",\"Senior\",\"Senior\",\"Child\",\"Young Adult\",\"Adult\",\"Adult\",\"Senior\",\"Adult\",\"Senior\",\"Senior\",\"Senior\",\"Teen\",\"Senior\",\"Adult\",\"Adult\",\"Teen\",\"Senior\",\"Adult\",\"Young Adult\",\"Senior\",\"Adult\",\"Adult\",\"Adult\",\"Adult\",\"Senior\",\"Adult\",\"Senior\",\"Child\",\"Adult\",\"Child\",\"Child\",\"Adult\",\"Senior\",\"Adult\",\"Adult\",\"Adult\",\"Young Adult\",\"Adult\",\"Senior\",\"Adult\",\"Senior\",\"Adult\",\"Teen\",\"Senior\",\"Senior\",\"Senior\",\"Adult\",\"Child\",\"Senior\",\"Adult\",\"Child\",\"Senior\",\"Senior\",\"Adult\",\"Young Adult\",\"Adult\",\"Senior\",\"Teen\",\"Senior\",\"Senior\",\"Adult\",\"Senior\",\"Adult\",\"Adult\",\"Child\",\"Senior\",\"Senior\",\"Child\",\"Adult\",\"Young Adult\",\"Senior\",\"Adult\",\"Child\",\"Child\",\"Senior\",\"Adult\",\"Senior\",\"Young Adult\",\"Adult\",\"Child\",\"Adult\",\"Senior\",\"Adult\",\"Adult\",\"Teen\",\"Adult\",\"Senior\",\"Adult\",\"Adult\",\"Teen\",\"Adult\",\"Adult\",\"Adult\",\"Young Adult\",\"Adult\",\"Adult\",\"Senior\",\"Adult\",\"Young Adult\",\"Adult\",\"Senior\",\"Young Adult\",\"Adult\",\"Adult\",\"Young Adult\",\"Adult\",\"Senior\",\"Senior\",\"Senior\",\"Adult\",\"Adult\",\"Adult\",\"Senior\",\"Adult\",\"Senior\",\"Adult\",\"Child\",\"Senior\",\"Child\",\"Adult\",\"Adult\",\"Senior\",\"Senior\",\"Senior\",\"Senior\",\"Adult\",\"Adult\",\"Senior\",\"Adult\",\"Adult\",\"Adult\",\"Young Adult\",\"Adult\",\"Adult\",\"Child\",\"Adult\",\"Senior\",\"Child\",\"Young Adult\",\"Senior\",\"Adult\",\"Young Adult\",\"Senior\",\"Young Adult\",\"Child\",\"Adult\",\"Senior\",\"Senior\",\"Senior\",\"Senior\",\"Young Adult\",\"Adult\",\"Adult\",\"Senior\",\"Child\",\"Senior\",\"Young Adult\",\"Teen\",\"Adult\",\"Young Adult\",\"Young Adult\",\"Child\",\"Adult\",\"Adult\",\"Young Adult\",\"Child\",\"Adult\",\"Adult\",\"Senior\",\"Adult\",\"Adult\",\"Senior\",\"Child\",\"Child\",\"Adult\",\"Senior\",\"Teen\",\"Senior\",\"Teen\",\"Child\",\"Senior\",\"Adult\",\"Adult\",\"Child\",\"Child\",\"Senior\",\"Child\",\"Child\",\"Young Adult\",\"Senior\",\"Adult\",\"Adult\",\"Adult\",\"Young Adult\",\"Young Adult\",\"Adult\",\"Adult\",\"Adult\",\"Teen\",\"Senior\",\"Adult\",\"Senior\",\"Child\",\"Teen\",\"Young Adult\",\"Child\",\"Child\",\"Child\",\"Adult\",\"Adult\",\"Senior\",\"Child\",\"Teen\",\"Senior\",\"Senior\",\"Adult\",\"Adult\",\"Adult\",\"Adult\",\"Adult\",\"Young Adult\",\"Teen\",\"Senior\",\"Adult\",\"Senior\",\"Senior\",\"Senior\",\"Young Adult\",\"Adult\",\"Senior\",\"Senior\",\"Young Adult\",\"Adult\",\"Adult\",\"Senior\",\"Adult\",\"Young Adult\",\"Adult\",\"Adult\",\"Senior\",\"Adult\",\"Senior\",\"Adult\",\"Child\",\"Senior\",\"Child\",\"Child\",\"Child\",\"Adult\",\"Adult\",\"Adult\",\"Teen\",\"Senior\",\"Senior\",\"Senior\",\"Adult\",\"Senior\",\"Child\",\"Adult\",\"Adult\",\"Senior\",\"Adult\",\"Child\",\"Young Adult\",\"Child\",\"Adult\",\"Child\",\"Senior\",\"Adult\",\"Adult\",\"Child\",\"Adult\",\"Adult\",\"Adult\",\"Senior\",\"Senior\",\"Teen\",\"Child\",\"Adult\",\"Child\",\"Adult\",\"Adult\",\"Adult\",\"Child\",\"Teen\",\"Senior\",\"Adult\",\"Adult\",\"Senior\",\"Adult\",\"Senior\",\"Young Adult\",\"Teen\",\"Adult\",\"Child\",\"Senior\",\"Senior\",\"Adult\",\"Adult\",\"Adult\",\"Child\",\"Child\",\"Child\",\"Adult\",\"Adult\",\"Child\",\"Senior\",\"Adult\",\"Senior\",\"Young Adult\",\"Adult\",\"Adult\",\"Adult\",\"Adult\",\"Adult\",\"Child\",\"Adult\",\"Adult\",\"Child\",\"Child\",\"Young Adult\",\"Adult\",\"Teen\",\"Child\",\"Senior\",\"Adult\",\"Adult\",\"Senior\",\"Teen\",\"Senior\",\"Child\",\"Child\",\"Senior\",\"Adult\",\"Adult\",\"Adult\",\"Teen\",\"Senior\",\"Adult\",\"Adult\",\"Young Adult\",\"Young Adult\",\"Child\",\"Young Adult\",\"Adult\",\"Young Adult\",\"Senior\",\"Adult\",\"Adult\",\"Adult\",\"Adult\",\"Senior\",\"Adult\",\"Adult\",\"Adult\",\"Senior\",\"Teen\",\"Teen\",\"Senior\",\"Adult\",\"Young Adult\",\"Adult\",\"Senior\",\"Teen\",\"Senior\",\"Senior\",\"Adult\",\"Senior\",\"Adult\",\"Adult\",\"Adult\",\"Young Adult\",\"Child\",\"Senior\",\"Young Adult\",\"Young Adult\",\"Adult\",\"Senior\",\"Child\",\"Adult\",\"Adult\",\"Teen\",\"Adult\",\"Adult\",\"Adult\",\"Young Adult\",\"Senior\",\"Adult\",\"Child\",\"Senior\",\"Adult\",\"Adult\",\"Child\",\"Adult\",\"Child\",\"Senior\",\"Senior\",\"Adult\",\"Teen\",\"Adult\",\"Child\",\"Adult\",\"Senior\",\"Adult\",\"Senior\",\"Senior\",\"Adult\",\"Teen\",\"Adult\",\"Senior\",\"Adult\",\"Adult\",\"Adult\",\"Senior\",\"Child\",\"Adult\",\"Child\",\"Adult\",\"Child\",\"Adult\",\"Senior\",\"Teen\",\"Senior\",\"Adult\",\"Adult\",\"Child\",\"Adult\",\"Child\",\"Teen\",\"Child\",\"Child\",\"Child\",\"Teen\",\"Senior\",\"Senior\",\"Adult\",\"Adult\",\"Young Adult\",\"Adult\",\"Adult\",\"Child\",\"Child\",\"Teen\",\"Adult\",\"Teen\",\"Senior\",\"Teen\",\"Adult\",\"Adult\",\"Child\",\"Adult\",\"Child\",\"Child\",\"Adult\",\"Adult\",\"Young Adult\",\"Adult\",\"Teen\",\"Teen\",\"Senior\",\"Adult\",\"Senior\",\"Young Adult\",\"Senior\",\"Adult\",\"Young Adult\",\"Adult\",\"Teen\",\"Adult\",\"Adult\",\"Adult\",\"Senior\",\"Child\",\"Child\",\"Senior\",\"Adult\",\"Senior\",\"Adult\",\"Child\",\"Senior\",\"Teen\",\"Adult\",\"Adult\",\"Senior\",\"Child\",\"Adult\",\"Senior\",\"Adult\",\"Adult\",\"Young Adult\",\"Senior\",\"Adult\",\"Child\",\"Child\",\"Child\",\"Adult\",\"Teen\",\"Adult\",\"Child\",\"Adult\",\"Adult\",\"Adult\",\"Adult\",\"Senior\",\"Young Adult\",\"Child\",\"Adult\",\"Adult\",\"Adult\",\"Adult\",\"Senior\",\"Adult\",\"Adult\",\"Young Adult\",\"Adult\",\"Child\",\"Adult\",\"Child\",\"Adult\",\"Adult\",\"Adult\",\"Adult\",\"Adult\",\"Adult\",\"Young Adult\",\"Adult\",\"Child\",\"Child\",\"Senior\",\"Senior\",\"Adult\",\"Adult\",\"Child\",\"Senior\",\"Child\",\"Adult\",\"Adult\",\"Adult\",\"Child\",\"Adult\",\"Senior\",\"Senior\",\"Adult\",\"Child\",\"Adult\",\"Senior\",\"Senior\",\"Senior\",\"Adult\",\"Senior\",\"Child\",\"Adult\",\"Young Adult\",\"Adult\",\"Child\",\"Senior\",\"Senior\",\"Senior\",\"Child\",\"Adult\",\"Senior\",\"Senior\",\"Senior\",\"Teen\",\"Adult\",\"Senior\",\"Adult\",\"Senior\",\"Senior\",\"Child\",\"Adult\",\"Adult\",\"Child\",\"Adult\",\"Adult\",\"Senior\",\"Senior\",\"Senior\",\"Adult\",\"Senior\",\"Adult\",\"Adult\",\"Young Adult\",\"Adult\",\"Senior\",\"Adult\",\"Adult\",\"Senior\",\"Adult\",\"Child\",\"Child\",\"Adult\",\"Child\",\"Senior\",\"Child\",\"Senior\",\"Adult\",\"Adult\",\"Senior\",\"Young Adult\",\"Teen\",\"Adult\",\"Senior\",\"Senior\",\"Young Adult\",\"Teen\",\"Young Adult\",\"Senior\",\"Adult\",\"Adult\",\"Adult\",\"Senior\",\"Senior\",\"Child\",\"Senior\",\"Adult\",\"Senior\",\"Senior\",\"Adult\",\"Adult\",\"Adult\",\"Adult\",\"Senior\",\"Adult\",\"Teen\",\"Adult\",\"Senior\",\"Senior\",\"Young Adult\",\"Young Adult\",\"Child\",\"Adult\",\"Adult\",\"Child\",\"Adult\",\"Child\",\"Senior\",\"Adult\",\"Senior\",\"Senior\",\"Senior\",\"Adult\",\"Adult\",\"Young Adult\",\"Adult\",\"Young Adult\",\"Young Adult\",\"Adult\",\"Young Adult\",\"Adult\",\"Young Adult\",\"Child\",\"Child\",\"Senior\",\"Child\",\"Senior\",\"Adult\",\"Young Adult\",\"Senior\",\"Adult\",\"Senior\",\"Senior\",\"Adult\",\"Adult\",\"Adult\",\"Senior\",\"Child\",\"Adult\",\"Child\",\"Adult\",\"Adult\",\"Adult\",\"Senior\",\"Child\",\"Senior\",\"Senior\",\"Adult\",\"Teen\",\"Adult\",\"Adult\",\"Young Adult\",\"Senior\",\"Adult\",\"Senior\",\"Adult\",\"Adult\",\"Adult\",\"Young Adult\",\"Adult\",\"Senior\",\"Adult\",\"Child\",\"Senior\",\"Adult\",\"Teen\",\"Adult\",\"Child\",\"Child\",\"Senior\",\"Adult\",\"Child\",\"Adult\",\"Adult\",\"Senior\",\"Adult\",\"Senior\",\"Adult\",\"Adult\",\"Senior\",\"Child\",\"Adult\",\"Child\",\"Senior\",\"Teen\",\"Child\",\"Adult\",\"Senior\",\"Senior\",\"Adult\",\"Senior\",\"Adult\",\"Senior\",\"Teen\",\"Teen\",\"Senior\",\"Adult\",\"Young Adult\",\"Senior\",\"Young Adult\",\"Senior\",\"Senior\",\"Young Adult\",\"Young Adult\",\"Child\",\"Child\",\"Senior\",\"Senior\",\"Child\",\"Senior\",\"Adult\",\"Senior\",\"Adult\",\"Adult\",\"Child\",\"Senior\",\"Senior\",\"Adult\",\"Young Adult\",\"Senior\",\"Teen\",\"Adult\",\"Adult\",\"Child\",\"Adult\",\"Adult\",\"Adult\",\"Senior\",\"Adult\",\"Senior\",\"Adult\",\"Adult\",\"Adult\",\"Young Adult\",\"Child\",\"Adult\",\"Adult\",\"Senior\",\"Adult\",\"Adult\",\"Senior\",\"Young Adult\",\"Adult\",\"Adult\",\"Senior\",\"Adult\",\"Senior\",\"Adult\",\"Adult\",\"Child\",\"Senior\",\"Young Adult\",\"Adult\",\"Senior\",\"Adult\",\"Teen\",\"Teen\",\"Senior\",\"Senior\",\"Adult\",\"Child\",\"Child\",\"Senior\",\"Teen\",\"Young Adult\",\"Adult\",\"Adult\",\"Child\",\"Adult\",\"Young Adult\",\"Child\",\"Senior\",\"Senior\",\"Adult\",\"Adult\",\"Senior\",\"Adult\",\"Adult\",\"Adult\",\"Adult\",\"Adult\",\"Adult\",\"Adult\",\"Adult\",\"Adult\",\"Senior\",\"Young Adult\",\"Young Adult\",\"Young Adult\",\"Child\",\"Senior\",\"Adult\",\"Adult\",\"Adult\",\"Senior\",\"Adult\",\"Teen\",\"Adult\",\"Adult\",\"Adult\",\"Young Adult\",\"Senior\",\"Young Adult\",\"Young Adult\",\"Senior\",\"Child\",\"Child\",\"Child\",\"Adult\",\"Senior\",\"Senior\",\"Adult\",\"Senior\",\"Adult\",\"Adult\",\"Adult\",\"Senior\",\"Adult\",\"Young Adult\",\"Senior\",\"Adult\",\"Teen\",\"Adult\",\"Senior\",\"Child\",\"Child\",\"Senior\",\"Teen\",\"Young Adult\",\"Adult\",\"Child\",\"Adult\",\"Adult\",\"Senior\",\"Adult\",\"Adult\",\"Senior\",\"Adult\",\"Adult\",\"Senior\",\"Adult\",\"Adult\",\"Young Adult\",\"Adult\",\"Adult\",\"Senior\",\"Adult\",\"Adult\",\"Child\",\"Adult\",\"Child\",\"Adult\",\"Adult\",\"Senior\",\"Young Adult\",\"Adult\",\"Adult\",\"Adult\",\"Adult\",\"Adult\",\"Adult\",\"Child\",\"Adult\",\"Child\",\"Child\",\"Adult\",\"Teen\",\"Adult\",\"Adult\",\"Young Adult\",\"Adult\",\"Senior\",\"Child\",\"Adult\",\"Senior\",\"Adult\",\"Child\",\"Adult\",\"Adult\",\"Adult\",\"Senior\",\"Senior\",\"Adult\",\"Teen\",\"Senior\",\"Adult\",\"Adult\",\"Child\",\"Senior\",\"Adult\",\"Teen\",\"Adult\",\"Child\",\"Young Adult\",\"Senior\",\"Adult\",\"Adult\",\"Adult\",\"Adult\",\"Adult\",\"Senior\",\"Child\",\"Child\",\"Senior\",\"Adult\",\"Adult\",\"Child\",\"Child\",\"Senior\",\"Adult\",\"Adult\",\"Child\",\"Adult\",\"Child\",\"Adult\",\"Adult\",\"Adult\",\"Adult\",\"Adult\",\"Child\",\"Senior\",\"Teen\",\"Adult\",\"Child\",\"Young Adult\",\"Adult\",\"Child\",\"Adult\",\"Senior\",\"Adult\",\"Adult\",\"Senior\",\"Adult\",\"Child\",\"Child\",\"Adult\",\"Adult\",\"Adult\",\"Teen\",\"Senior\",\"Senior\",\"Senior\",\"Adult\",\"Teen\",\"Senior\",\"Teen\",\"Senior\",\"Adult\",\"Adult\",\"Adult\",\"Adult\",\"Adult\",\"Child\",\"Teen\",\"Teen\",\"Adult\",\"Adult\",\"Senior\",\"Adult\",\"Teen\",\"Young Adult\",\"Adult\",\"Senior\",\"Child\",\"Adult\",\"Senior\",\"Teen\",\"Senior\",\"Adult\",\"Senior\",\"Young Adult\",\"Adult\",\"Adult\",\"Child\",\"Adult\",\"Young Adult\",\"Senior\",\"Senior\",\"Young Adult\",\"Senior\",\"Senior\",\"Adult\",\"Teen\",\"Teen\",\"Senior\",\"Senior\",\"Teen\",\"Adult\",\"Senior\",\"Adult\",\"Adult\",\"Adult\",\"Teen\",\"Young Adult\",\"Adult\",\"Adult\",\"Adult\",\"Adult\",\"Adult\",\"Senior\",\"Senior\",\"Adult\",\"Adult\",\"Young Adult\",\"Adult\",\"Young Adult\",\"Adult\",\"Adult\",\"Adult\",\"Adult\",\"Young Adult\",\"Teen\",\"Adult\",\"Senior\",\"Adult\",\"Child\",\"Senior\",\"Senior\",\"Adult\",\"Child\",\"Adult\",\"Young Adult\",\"Child\",\"Adult\",\"Adult\",\"Senior\",\"Child\",\"Senior\",\"Senior\",\"Senior\",\"Adult\",\"Senior\",\"Senior\",\"Adult\",\"Senior\",\"Child\",\"Young Adult\",\"Adult\",\"Adult\",\"Senior\",\"Child\",\"Senior\",\"Adult\",\"Senior\",\"Child\",\"Senior\",\"Senior\",\"Adult\",\"Child\",\"Senior\",\"Child\",\"Teen\",\"Adult\",\"Adult\",\"Adult\",\"Adult\",\"Senior\",\"Adult\",\"Adult\",\"Teen\",\"Adult\",\"Senior\",\"Adult\",\"Adult\",\"Child\",\"Teen\",\"Adult\",\"Senior\",\"Young Adult\",\"Adult\",\"Young Adult\",\"Adult\",\"Senior\",\"Adult\",\"Senior\",\"Teen\",\"Young Adult\",\"Adult\",\"Adult\",\"Adult\",\"Senior\",\"Adult\",\"Adult\",\"Adult\",\"Senior\",\"Child\",\"Adult\",\"Young Adult\",\"Adult\",\"Adult\",\"Adult\",\"Adult\",\"Senior\",\"Child\",\"Adult\",\"Adult\",\"Senior\",\"Adult\",\"Teen\",\"Adult\",\"Young Adult\",\"Senior\",\"Child\",\"Adult\",\"Adult\",\"Child\",\"Child\",\"Young Adult\",\"Senior\",\"Teen\",\"Adult\",\"Adult\",\"Teen\",\"Adult\",\"Adult\",\"Adult\",\"Senior\",\"Adult\",\"Adult\",\"Adult\",\"Senior\",\"Child\",\"Adult\",\"Adult\",\"Adult\",\"Adult\",\"Adult\",\"Adult\",\"Child\",\"Adult\",\"Senior\",\"Child\",\"Child\",\"Adult\",\"Adult\",\"Adult\",\"Senior\",\"Senior\",\"Senior\",\"Adult\",\"Adult\",\"Senior\",\"Senior\",\"Senior\",\"Young Adult\",\"Child\",\"Young Adult\",\"Adult\",\"Adult\",\"Child\",\"Teen\",\"Adult\",\"Senior\",\"Teen\",\"Adult\",\"Young Adult\",\"Teen\",\"Child\",\"Senior\",\"Adult\",\"Senior\",\"Child\",\"Senior\",\"Senior\",\"Senior\",\"Adult\",\"Adult\",\"Senior\",\"Adult\",\"Senior\",\"Adult\",\"Senior\",\"Adult\",\"Child\",\"Young Adult\",\"Adult\",\"Child\",\"Teen\",\"Child\",\"Young Adult\",\"Adult\",\"Adult\",\"Young Adult\",\"Adult\",\"Child\",\"Young Adult\",\"Adult\",\"Young Adult\",\"Adult\",\"Young Adult\",\"Teen\",\"Senior\",\"Adult\",\"Adult\",\"Young Adult\",\"Senior\",\"Adult\",\"Teen\",\"Child\",\"Senior\",\"Senior\",\"Senior\",\"Adult\",\"Senior\",\"Adult\",\"Adult\",\"Adult\",\"Adult\",\"Senior\",\"Young Adult\",\"Adult\",\"Senior\",\"Child\",\"Adult\",\"Senior\",\"Adult\",\"Senior\",\"Senior\",\"Adult\",\"Young Adult\",\"Adult\",\"Senior\",\"Adult\",\"Teen\",\"Child\",\"Adult\",\"Adult\",\"Teen\",\"Adult\",\"Adult\",\"Adult\",\"Senior\",\"Adult\",\"Adult\",\"Teen\",\"Child\",\"Adult\",\"Senior\",\"Child\",\"Senior\",\"Child\",\"Adult\",\"Adult\",\"Senior\",\"Senior\",\"Senior\",\"Adult\",\"Senior\",\"Adult\",\"Teen\",\"Senior\",\"Adult\",\"Adult\",\"Child\",\"Senior\",\"Adult\",\"Adult\",\"Child\"],\"xaxis\":\"x\",\"yaxis\":\"y\",\"type\":\"histogram\"},{\"alignmentgroup\":\"True\",\"bingroup\":\"x\",\"hovertemplate\":\"Ticket Source=Gate Payment\\u003cbr\\u003eAge Group=%{x}\\u003cbr\\u003ecount=%{y}\\u003cextra\\u003e\\u003c\\u002fextra\\u003e\",\"legendgroup\":\"Gate Payment\",\"marker\":{\"color\":\"rgb(252,141,98)\",\"pattern\":{\"shape\":\"\"}},\"name\":\"Gate Payment\",\"offsetgroup\":\"Gate Payment\",\"orientation\":\"v\",\"showlegend\":true,\"x\":[\"Teen\",\"Child\",\"Child\",\"Adult\",\"Senior\",\"Young Adult\",\"Adult\",\"Child\",\"Child\",\"Senior\",\"Teen\",\"Adult\",\"Senior\",\"Adult\",\"Child\",\"Child\",\"Adult\",\"Adult\",\"Adult\",\"Senior\",\"Adult\",\"Adult\",\"Adult\",\"Senior\",\"Adult\",\"Child\",\"Adult\",\"Senior\",\"Adult\",\"Senior\",\"Adult\",\"Adult\",\"Senior\",\"Young Adult\",\"Teen\",\"Adult\",\"Young Adult\",\"Adult\",\"Child\",\"Young Adult\",\"Teen\",\"Adult\",\"Adult\",\"Adult\",\"Young Adult\",\"Senior\",\"Senior\",\"Child\",\"Adult\",\"Adult\",\"Adult\",\"Adult\",\"Adult\",\"Senior\",\"Child\",\"Adult\",\"Adult\",\"Senior\",\"Adult\",\"Young Adult\",\"Adult\",\"Senior\",\"Senior\",\"Senior\",\"Senior\",\"Young Adult\",\"Child\",\"Adult\",\"Child\",\"Adult\",\"Child\",\"Adult\",\"Senior\",\"Adult\",\"Senior\",\"Child\",\"Adult\",\"Senior\",\"Senior\",\"Young Adult\",\"Adult\",\"Child\",\"Adult\",\"Child\",\"Senior\",\"Adult\",\"Senior\",\"Senior\",\"Young Adult\",\"Senior\",\"Senior\",\"Teen\",\"Child\",\"Adult\",\"Adult\",\"Child\",\"Adult\",\"Senior\",\"Adult\",\"Child\",\"Senior\",\"Senior\",\"Senior\",\"Senior\",\"Senior\",\"Child\",\"Adult\",\"Adult\",\"Senior\",\"Child\",\"Adult\",\"Adult\",\"Adult\",\"Young Adult\",\"Adult\",\"Young Adult\",\"Young Adult\",\"Senior\",\"Adult\",\"Child\",\"Senior\",\"Senior\",\"Child\",\"Adult\",\"Teen\",\"Senior\",\"Child\",\"Adult\",\"Senior\",\"Adult\",\"Child\",\"Adult\",\"Adult\",\"Adult\",\"Young Adult\",\"Senior\",\"Senior\",\"Teen\",\"Senior\",\"Senior\",\"Senior\",\"Adult\",\"Teen\",\"Teen\",\"Adult\",\"Adult\",\"Adult\",\"Adult\",\"Child\",\"Adult\",\"Adult\",\"Adult\",\"Child\",\"Adult\",\"Adult\",\"Adult\",\"Teen\",\"Teen\",\"Adult\",\"Senior\",\"Adult\",\"Adult\",\"Adult\",\"Adult\",\"Child\",\"Teen\",\"Young Adult\",\"Adult\",\"Adult\",\"Senior\",\"Adult\",\"Adult\",\"Senior\",\"Adult\",\"Child\",\"Adult\",\"Senior\",\"Adult\",\"Teen\",\"Child\",\"Adult\",\"Senior\",\"Child\",\"Senior\",\"Senior\",\"Young Adult\",\"Adult\",\"Senior\",\"Child\",\"Senior\",\"Adult\",\"Senior\",\"Senior\",\"Child\",\"Adult\",\"Young Adult\",\"Teen\",\"Young Adult\",\"Adult\",\"Teen\",\"Senior\",\"Adult\",\"Adult\",\"Senior\",\"Young Adult\",\"Young Adult\",\"Child\",\"Child\",\"Senior\",\"Senior\",\"Young Adult\",\"Child\",\"Young Adult\",\"Adult\",\"Senior\",\"Adult\",\"Senior\",\"Adult\",\"Adult\",\"Young Adult\",\"Young Adult\",\"Senior\",\"Young Adult\",\"Senior\",\"Senior\",\"Senior\",\"Young Adult\",\"Young Adult\",\"Senior\",\"Senior\",\"Adult\",\"Adult\",\"Adult\",\"Adult\",\"Senior\",\"Senior\",\"Child\",\"Adult\",\"Adult\",\"Child\",\"Adult\",\"Young Adult\",\"Senior\",\"Adult\",\"Child\",\"Senior\",\"Child\",\"Senior\",\"Child\",\"Adult\",\"Adult\",\"Adult\",\"Adult\",\"Adult\",\"Senior\",\"Senior\",\"Senior\",\"Child\",\"Adult\",\"Senior\",\"Adult\",\"Senior\",\"Child\",\"Child\",\"Adult\",\"Senior\",\"Teen\",\"Adult\",\"Adult\",\"Adult\",\"Child\",\"Senior\",\"Senior\",\"Adult\",\"Adult\",\"Adult\",\"Senior\",\"Adult\",\"Child\",\"Adult\",\"Senior\",\"Adult\",\"Young Adult\",\"Child\",\"Senior\",\"Child\",\"Senior\",\"Senior\",\"Child\",\"Adult\",\"Senior\",\"Young Adult\",\"Senior\",\"Senior\",\"Senior\",\"Adult\",\"Senior\",\"Adult\",\"Adult\",\"Senior\",\"Senior\",\"Adult\",\"Child\",\"Senior\",\"Senior\",\"Adult\",\"Adult\",\"Senior\",\"Teen\",\"Senior\",\"Teen\",\"Adult\",\"Senior\",\"Adult\",\"Child\",\"Senior\",\"Senior\",\"Adult\",\"Adult\",\"Adult\",\"Child\",\"Adult\",\"Senior\",\"Adult\",\"Child\",\"Senior\",\"Senior\",\"Teen\",\"Adult\",\"Adult\",\"Adult\",\"Adult\",\"Teen\",\"Child\",\"Young Adult\",\"Adult\",\"Young Adult\",\"Adult\",\"Adult\",\"Child\",\"Senior\",\"Adult\",\"Senior\",\"Child\",\"Senior\",\"Senior\",\"Young Adult\",\"Senior\",\"Senior\",\"Young Adult\",\"Child\",\"Adult\",\"Child\",\"Young Adult\",\"Adult\",\"Senior\",\"Senior\",\"Senior\",\"Senior\",\"Adult\",\"Senior\",\"Adult\",\"Child\",\"Adult\",\"Adult\",\"Adult\",\"Adult\",\"Child\",\"Senior\",\"Teen\",\"Adult\",\"Child\",\"Adult\",\"Young Adult\",\"Senior\",\"Senior\",\"Child\",\"Adult\",\"Adult\",\"Adult\",\"Senior\",\"Adult\",\"Senior\",\"Senior\",\"Senior\",\"Adult\",\"Child\",\"Child\",\"Adult\",\"Adult\",\"Adult\",\"Adult\",\"Senior\",\"Young Adult\",\"Senior\",\"Adult\",\"Adult\",\"Senior\",\"Child\",\"Adult\",\"Teen\",\"Adult\",\"Child\",\"Adult\",\"Adult\",\"Child\",\"Adult\",\"Adult\",\"Adult\",\"Child\",\"Adult\",\"Adult\",\"Senior\",\"Senior\",\"Senior\",\"Senior\",\"Adult\",\"Child\",\"Adult\",\"Adult\",\"Senior\",\"Adult\",\"Adult\",\"Senior\",\"Young Adult\",\"Adult\",\"Child\",\"Adult\",\"Child\",\"Senior\",\"Teen\",\"Adult\",\"Adult\",\"Adult\",\"Adult\",\"Adult\",\"Senior\",\"Adult\",\"Adult\",\"Senior\",\"Senior\",\"Child\",\"Adult\",\"Senior\",\"Child\",\"Adult\",\"Teen\",\"Senior\",\"Young Adult\",\"Adult\",\"Adult\",\"Adult\",\"Senior\",\"Adult\",\"Senior\",\"Young Adult\",\"Teen\",\"Senior\",\"Child\",\"Adult\",\"Senior\",\"Adult\",\"Child\",\"Young Adult\",\"Adult\",\"Senior\",\"Young Adult\",\"Senior\",\"Adult\",\"Young Adult\",\"Adult\",\"Senior\",\"Senior\",\"Adult\",\"Adult\",\"Child\",\"Adult\",\"Senior\",\"Adult\",\"Teen\",\"Child\",\"Senior\",\"Child\",\"Adult\",\"Adult\",\"Adult\",\"Adult\",\"Child\",\"Senior\",\"Child\",\"Child\",\"Adult\",\"Senior\",\"Senior\",\"Senior\",\"Child\",\"Adult\",\"Senior\",\"Adult\",\"Adult\",\"Young Adult\",\"Adult\",\"Senior\",\"Child\",\"Child\",\"Adult\",\"Young Adult\",\"Adult\",\"Senior\",\"Young Adult\",\"Adult\",\"Senior\",\"Teen\",\"Child\",\"Adult\",\"Adult\",\"Young Adult\",\"Adult\",\"Adult\",\"Senior\",\"Senior\",\"Adult\",\"Adult\",\"Child\",\"Young Adult\",\"Adult\",\"Adult\",\"Senior\",\"Child\",\"Child\",\"Senior\",\"Senior\",\"Senior\",\"Adult\",\"Senior\",\"Child\",\"Young Adult\",\"Adult\",\"Child\",\"Adult\",\"Young Adult\",\"Senior\",\"Adult\",\"Senior\",\"Senior\",\"Adult\",\"Young Adult\",\"Child\",\"Senior\",\"Adult\",\"Senior\",\"Senior\",\"Adult\",\"Child\",\"Adult\",\"Adult\",\"Senior\",\"Child\",\"Adult\",\"Young Adult\",\"Child\",\"Young Adult\",\"Adult\",\"Young Adult\",\"Adult\",\"Senior\",\"Senior\",\"Adult\",\"Adult\",\"Adult\",\"Adult\",\"Child\",\"Adult\",\"Child\",\"Senior\",\"Child\",\"Adult\",\"Adult\",\"Adult\",\"Child\",\"Senior\",\"Adult\",\"Senior\",\"Adult\",\"Adult\",\"Adult\",\"Adult\",\"Senior\",\"Adult\",\"Adult\",\"Senior\",\"Adult\",\"Child\",\"Adult\",\"Adult\",\"Child\",\"Senior\",\"Child\",\"Young Adult\",\"Adult\",\"Adult\",\"Adult\",\"Child\",\"Adult\",\"Adult\",\"Young Adult\",\"Adult\",\"Teen\",\"Adult\",\"Adult\",\"Adult\",\"Adult\",\"Adult\",\"Adult\",\"Senior\",\"Child\",\"Child\",\"Child\",\"Adult\",\"Adult\",\"Adult\",\"Adult\",\"Adult\",\"Young Adult\",\"Young Adult\",\"Adult\",\"Senior\",\"Adult\",\"Senior\",\"Senior\",\"Child\",\"Teen\",\"Child\",\"Senior\",\"Adult\",\"Adult\",\"Senior\",\"Young Adult\",\"Child\",\"Adult\",\"Adult\",\"Senior\",\"Senior\",\"Child\",\"Senior\",\"Adult\",\"Child\",\"Senior\",\"Senior\",\"Senior\",\"Senior\",\"Teen\",\"Adult\",\"Adult\",\"Teen\",\"Teen\",\"Adult\",\"Adult\",\"Young Adult\",\"Adult\",\"Adult\",\"Adult\",\"Adult\",\"Child\",\"Senior\",\"Senior\",\"Senior\",\"Senior\",\"Adult\",\"Adult\",\"Teen\",\"Senior\",\"Teen\",\"Young Adult\",\"Young Adult\",\"Adult\",\"Adult\",\"Adult\",\"Child\",\"Senior\",\"Adult\",\"Senior\",\"Teen\",\"Adult\",\"Senior\",\"Adult\",\"Adult\",\"Senior\",\"Adult\",\"Adult\",\"Senior\",\"Young Adult\",\"Child\",\"Young Adult\",\"Adult\",\"Senior\",\"Adult\",\"Child\",\"Senior\",\"Adult\",\"Adult\",\"Young Adult\",\"Adult\",\"Senior\",\"Adult\",\"Senior\",\"Adult\",\"Teen\",\"Adult\",\"Child\",\"Senior\",\"Child\",\"Senior\",\"Child\",\"Adult\",\"Adult\",\"Adult\",\"Senior\",\"Child\",\"Senior\",\"Adult\",\"Teen\",\"Child\",\"Adult\",\"Child\",\"Adult\",\"Adult\",\"Adult\",\"Senior\",\"Adult\",\"Adult\",\"Child\",\"Senior\",\"Child\",\"Adult\",\"Adult\",\"Adult\",\"Senior\",\"Child\",\"Adult\",\"Senior\",\"Adult\",\"Adult\",\"Young Adult\",\"Senior\",\"Young Adult\",\"Senior\",\"Child\",\"Adult\",\"Senior\",\"Senior\",\"Senior\",\"Adult\",\"Young Adult\",\"Senior\",\"Adult\",\"Adult\",\"Senior\",\"Adult\",\"Young Adult\",\"Adult\",\"Adult\",\"Young Adult\",\"Child\",\"Adult\",\"Young Adult\",\"Adult\",\"Young Adult\",\"Adult\",\"Adult\",\"Senior\",\"Adult\",\"Senior\",\"Young Adult\",\"Child\",\"Adult\",\"Teen\",\"Adult\",\"Senior\",\"Adult\",\"Child\",\"Senior\",\"Teen\",\"Adult\",\"Child\",\"Young Adult\",\"Child\",\"Teen\",\"Adult\",\"Adult\",\"Child\",\"Adult\",\"Adult\",\"Child\",\"Adult\",\"Teen\",\"Child\",\"Senior\",\"Senior\",\"Adult\",\"Senior\",\"Senior\",\"Adult\",\"Senior\",\"Senior\",\"Adult\",\"Adult\",\"Senior\",\"Child\",\"Child\",\"Senior\",\"Child\",\"Senior\",\"Adult\",\"Child\",\"Child\",\"Adult\",\"Child\",\"Adult\",\"Adult\",\"Young Adult\",\"Adult\",\"Senior\",\"Teen\",\"Adult\",\"Adult\",\"Adult\",\"Senior\",\"Young Adult\",\"Senior\",\"Senior\",\"Adult\",\"Senior\",\"Child\",\"Child\",\"Senior\",\"Senior\",\"Senior\",\"Senior\",\"Adult\",\"Adult\",\"Adult\",\"Adult\",\"Adult\",\"Adult\",\"Adult\",\"Senior\",\"Teen\",\"Child\",\"Adult\",\"Adult\",\"Adult\",\"Adult\",\"Senior\",\"Adult\",\"Adult\",\"Child\",\"Adult\",\"Senior\",\"Adult\",\"Adult\",\"Adult\",\"Senior\",\"Adult\",\"Adult\",\"Adult\",\"Adult\",\"Child\",\"Adult\",\"Adult\",\"Adult\",\"Adult\",\"Young Adult\",\"Adult\",\"Adult\",\"Adult\",\"Adult\",\"Adult\",\"Senior\",\"Child\",\"Senior\",\"Senior\",\"Young Adult\",\"Senior\",\"Adult\",\"Young Adult\",\"Adult\",\"Teen\",\"Teen\",\"Adult\",\"Adult\",\"Adult\",\"Senior\",\"Child\",\"Adult\",\"Adult\",\"Adult\",\"Senior\",\"Senior\",\"Senior\",\"Adult\",\"Senior\",\"Child\",\"Child\",\"Young Adult\",\"Child\",\"Adult\",\"Child\",\"Adult\",\"Teen\",\"Senior\",\"Child\",\"Young Adult\",\"Senior\",\"Child\",\"Senior\",\"Adult\",\"Adult\",\"Senior\",\"Adult\",\"Child\",\"Teen\",\"Adult\",\"Senior\",\"Teen\",\"Young Adult\",\"Senior\",\"Senior\",\"Young Adult\",\"Child\",\"Adult\",\"Teen\",\"Child\",\"Senior\",\"Adult\",\"Senior\",\"Teen\",\"Adult\",\"Senior\",\"Adult\",\"Senior\",\"Adult\",\"Senior\",\"Senior\",\"Senior\",\"Child\",\"Adult\",\"Child\",\"Adult\",\"Child\",\"Senior\",\"Senior\",\"Adult\",\"Child\",\"Adult\",\"Senior\",\"Senior\",\"Adult\",\"Child\",\"Child\",\"Senior\",\"Adult\",\"Senior\",\"Child\",\"Young Adult\",\"Child\",\"Adult\",\"Senior\",\"Adult\",\"Adult\",\"Senior\",\"Adult\",\"Adult\",\"Senior\",\"Adult\",\"Young Adult\",\"Adult\",\"Adult\",\"Adult\",\"Adult\",\"Senior\",\"Adult\",\"Senior\",\"Child\",\"Child\",\"Senior\",\"Adult\",\"Child\",\"Adult\",\"Senior\",\"Senior\",\"Senior\",\"Adult\",\"Senior\",\"Senior\",\"Adult\",\"Senior\",\"Adult\",\"Child\",\"Adult\",\"Child\",\"Child\",\"Adult\",\"Senior\",\"Senior\",\"Adult\",\"Young Adult\",\"Senior\",\"Child\",\"Child\",\"Adult\",\"Adult\",\"Child\",\"Senior\",\"Adult\",\"Adult\",\"Adult\",\"Adult\",\"Senior\",\"Child\",\"Senior\",\"Adult\",\"Senior\",\"Adult\",\"Adult\",\"Adult\",\"Child\",\"Adult\",\"Adult\",\"Adult\",\"Adult\",\"Teen\",\"Child\",\"Teen\",\"Adult\",\"Adult\",\"Adult\",\"Senior\",\"Young Adult\",\"Teen\",\"Adult\",\"Adult\",\"Young Adult\",\"Adult\",\"Child\",\"Senior\",\"Adult\",\"Adult\",\"Senior\",\"Teen\",\"Senior\",\"Child\",\"Adult\",\"Adult\",\"Young Adult\",\"Senior\",\"Adult\",\"Senior\",\"Adult\",\"Teen\",\"Adult\",\"Adult\",\"Child\",\"Senior\",\"Adult\",\"Senior\",\"Senior\",\"Adult\",\"Adult\",\"Senior\",\"Adult\",\"Young Adult\",\"Child\",\"Adult\",\"Adult\",\"Adult\",\"Senior\",\"Adult\",\"Senior\",\"Senior\",\"Adult\",\"Senior\",\"Adult\",\"Senior\",\"Young Adult\",\"Senior\",\"Adult\",\"Adult\",\"Adult\",\"Adult\",\"Senior\",\"Adult\",\"Child\",\"Child\",\"Senior\",\"Teen\",\"Child\",\"Child\",\"Adult\",\"Young Adult\",\"Adult\",\"Young Adult\",\"Child\",\"Adult\",\"Senior\",\"Young Adult\",\"Adult\",\"Senior\",\"Senior\",\"Child\",\"Adult\",\"Adult\",\"Young Adult\",\"Senior\",\"Child\",\"Adult\",\"Adult\",\"Adult\",\"Senior\",\"Adult\",\"Senior\",\"Adult\",\"Adult\",\"Adult\",\"Adult\",\"Adult\",\"Child\",\"Child\",\"Senior\",\"Senior\",\"Young Adult\",\"Adult\",\"Senior\",\"Teen\",\"Senior\",\"Adult\",\"Senior\",\"Senior\",\"Senior\",\"Adult\",\"Senior\",\"Young Adult\",\"Adult\",\"Adult\",\"Adult\",\"Adult\",\"Senior\",\"Teen\",\"Senior\",\"Child\",\"Senior\",\"Child\",\"Adult\",\"Child\",\"Child\",\"Young Adult\",\"Adult\",\"Senior\",\"Adult\",\"Adult\",\"Adult\",\"Young Adult\",\"Young Adult\",\"Adult\",\"Child\",\"Teen\",\"Adult\",\"Senior\",\"Senior\",\"Adult\",\"Young Adult\",\"Senior\",\"Adult\",\"Young Adult\",\"Child\",\"Teen\",\"Senior\",\"Senior\",\"Child\",\"Senior\",\"Senior\",\"Adult\",\"Senior\",\"Young Adult\",\"Adult\",\"Teen\",\"Adult\",\"Adult\",\"Adult\",\"Adult\",\"Adult\",\"Adult\",\"Adult\",\"Child\",\"Adult\",\"Adult\",\"Adult\",\"Adult\",\"Adult\",\"Adult\",\"Adult\",\"Senior\",\"Senior\",\"Adult\",\"Senior\",\"Adult\",\"Adult\",\"Adult\",\"Senior\",\"Senior\",\"Child\",\"Adult\",\"Adult\",\"Adult\",\"Adult\",\"Adult\",\"Adult\",\"Adult\",\"Teen\",\"Young Adult\",\"Teen\",\"Child\",\"Adult\",\"Adult\",\"Adult\",\"Child\",\"Senior\",\"Senior\",\"Teen\",\"Adult\",\"Senior\",\"Adult\",\"Senior\",\"Adult\",\"Senior\",\"Adult\",\"Senior\",\"Adult\",\"Senior\",\"Senior\",\"Senior\",\"Young Adult\",\"Adult\",\"Senior\",\"Senior\",\"Child\",\"Senior\",\"Senior\",\"Child\",\"Child\",\"Adult\",\"Senior\",\"Adult\",\"Young Adult\",\"Adult\",\"Child\",\"Young Adult\",\"Child\",\"Adult\",\"Adult\",\"Senior\",\"Child\",\"Adult\",\"Senior\",\"Child\",\"Child\",\"Child\",\"Adult\",\"Senior\",\"Adult\",\"Adult\",\"Adult\",\"Senior\",\"Senior\",\"Senior\",\"Senior\",\"Young Adult\",\"Adult\",\"Adult\",\"Adult\",\"Adult\",\"Senior\",\"Adult\",\"Young Adult\",\"Adult\",\"Adult\",\"Young Adult\",\"Child\",\"Senior\",\"Adult\",\"Child\",\"Adult\",\"Adult\",\"Child\",\"Young Adult\",\"Young Adult\",\"Senior\",\"Adult\",\"Child\",\"Adult\",\"Adult\",\"Adult\",\"Senior\",\"Adult\",\"Child\",\"Adult\",\"Adult\",\"Adult\",\"Child\",\"Adult\",\"Child\",\"Adult\",\"Adult\",\"Adult\",\"Adult\",\"Adult\",\"Adult\",\"Senior\",\"Adult\",\"Adult\",\"Adult\",\"Adult\",\"Senior\",\"Adult\",\"Senior\",\"Child\",\"Adult\",\"Senior\",\"Adult\",\"Adult\",\"Adult\",\"Senior\",\"Child\",\"Child\",\"Adult\",\"Adult\",\"Adult\",\"Adult\",\"Child\",\"Adult\",\"Young Adult\",\"Child\",\"Senior\",\"Adult\",\"Young Adult\",\"Senior\",\"Adult\",\"Adult\",\"Adult\",\"Adult\",\"Senior\",\"Senior\",\"Child\",\"Senior\",\"Adult\",\"Child\",\"Adult\",\"Senior\",\"Adult\",\"Adult\",\"Adult\",\"Senior\",\"Adult\",\"Young Adult\",\"Adult\",\"Adult\",\"Senior\",\"Adult\",\"Senior\",\"Adult\",\"Senior\",\"Senior\",\"Adult\",\"Adult\",\"Young Adult\",\"Senior\",\"Young Adult\",\"Teen\",\"Senior\",\"Senior\",\"Adult\",\"Adult\",\"Young Adult\",\"Senior\",\"Child\",\"Adult\",\"Teen\",\"Adult\",\"Adult\",\"Child\",\"Child\",\"Senior\",\"Child\",\"Senior\",\"Teen\",\"Young Adult\",\"Senior\",\"Adult\",\"Young Adult\",\"Adult\",\"Senior\",\"Senior\",\"Adult\",\"Young Adult\",\"Senior\",\"Child\",\"Young Adult\",\"Young Adult\",\"Adult\",\"Adult\",\"Young Adult\",\"Senior\",\"Senior\",\"Adult\",\"Teen\",\"Senior\",\"Child\",\"Adult\",\"Adult\",\"Child\",\"Adult\",\"Adult\",\"Senior\",\"Senior\",\"Adult\",\"Adult\",\"Young Adult\",\"Child\",\"Senior\",\"Adult\",\"Child\",\"Senior\",\"Adult\",\"Adult\",\"Adult\",\"Child\",\"Teen\",\"Senior\",\"Young Adult\",\"Young Adult\",\"Adult\",\"Child\",\"Senior\",\"Senior\",\"Adult\",\"Adult\",\"Child\",\"Adult\",\"Adult\",\"Senior\",\"Senior\",\"Senior\",\"Senior\",\"Teen\",\"Senior\",\"Adult\",\"Child\",\"Adult\",\"Adult\",\"Senior\",\"Adult\",\"Teen\",\"Adult\",\"Adult\",\"Young Adult\",\"Child\",\"Senior\",\"Teen\",\"Senior\",\"Child\",\"Child\",\"Adult\",\"Senior\",\"Adult\",\"Teen\",\"Senior\",\"Senior\",\"Adult\",\"Child\",\"Adult\",\"Senior\",\"Child\",\"Adult\",\"Senior\",\"Teen\",\"Adult\",\"Senior\",\"Young Adult\",\"Child\",\"Senior\",\"Adult\",\"Teen\",\"Adult\",\"Adult\",\"Teen\",\"Adult\",\"Senior\",\"Teen\",\"Young Adult\",\"Senior\",\"Teen\",\"Adult\",\"Adult\",\"Child\",\"Child\",\"Young Adult\",\"Adult\",\"Senior\",\"Young Adult\",\"Adult\",\"Adult\",\"Senior\",\"Senior\",\"Senior\",\"Adult\",\"Adult\",\"Adult\",\"Adult\",\"Adult\",\"Young Adult\",\"Adult\",\"Teen\",\"Adult\",\"Child\",\"Senior\",\"Child\",\"Child\",\"Senior\",\"Adult\",\"Senior\",\"Teen\",\"Child\",\"Child\",\"Adult\",\"Adult\",\"Adult\",\"Senior\",\"Adult\",\"Child\",\"Child\",\"Adult\",\"Adult\",\"Adult\",\"Adult\",\"Young Adult\",\"Teen\",\"Senior\",\"Teen\",\"Teen\",\"Adult\",\"Adult\",\"Senior\",\"Adult\",\"Adult\",\"Adult\",\"Child\",\"Senior\",\"Senior\",\"Senior\",\"Adult\",\"Child\",\"Young Adult\",\"Senior\",\"Senior\",\"Senior\",\"Child\",\"Young Adult\",\"Child\",\"Senior\",\"Child\",\"Senior\",\"Child\",\"Senior\",\"Young Adult\",\"Teen\",\"Adult\",\"Child\",\"Child\",\"Young Adult\",\"Adult\",\"Adult\",\"Young Adult\",\"Senior\",\"Adult\",\"Senior\",\"Teen\",\"Adult\",\"Child\",\"Young Adult\",\"Senior\",\"Adult\",\"Adult\",\"Adult\",\"Adult\",\"Adult\",\"Child\",\"Adult\",\"Adult\",\"Adult\",\"Senior\",\"Young Adult\",\"Teen\",\"Senior\",\"Child\",\"Adult\",\"Adult\",\"Adult\",\"Adult\",\"Senior\",\"Adult\",\"Senior\",\"Adult\",\"Adult\",\"Senior\",\"Adult\",\"Senior\",\"Adult\",\"Adult\",\"Adult\",\"Child\",\"Senior\",\"Child\",\"Young Adult\",\"Child\",\"Adult\",\"Senior\",\"Senior\",\"Adult\",\"Child\",\"Adult\",\"Adult\",\"Young Adult\",\"Young Adult\",\"Adult\",\"Adult\",\"Adult\",\"Senior\",\"Adult\",\"Child\",\"Young Adult\",\"Adult\",\"Senior\",\"Senior\",\"Adult\",\"Child\",\"Child\",\"Adult\",\"Adult\",\"Adult\",\"Adult\",\"Young Adult\",\"Senior\",\"Adult\",\"Adult\",\"Adult\",\"Adult\",\"Adult\",\"Adult\",\"Adult\",\"Adult\",\"Child\",\"Adult\",\"Senior\",\"Senior\",\"Senior\",\"Adult\",\"Adult\",\"Senior\",\"Child\",\"Adult\",\"Senior\",\"Adult\",\"Child\",\"Child\",\"Child\",\"Senior\",\"Adult\",\"Senior\",\"Adult\",\"Senior\",\"Adult\",\"Adult\",\"Adult\",\"Adult\",\"Adult\",\"Adult\",\"Senior\",\"Senior\",\"Adult\",\"Adult\",\"Adult\",\"Senior\",\"Adult\",\"Young Adult\",\"Adult\",\"Senior\",\"Adult\",\"Adult\",\"Child\",\"Senior\",\"Adult\",\"Adult\",\"Senior\",\"Senior\",\"Adult\",\"Senior\",\"Senior\",\"Senior\",\"Teen\",\"Adult\",\"Child\",\"Adult\",\"Adult\",\"Senior\",\"Senior\",\"Adult\",\"Young Adult\",\"Senior\",\"Young Adult\",\"Adult\",\"Adult\",\"Adult\",\"Senior\",\"Teen\",\"Senior\",\"Adult\",\"Adult\",\"Adult\",\"Adult\",\"Senior\",\"Senior\",\"Adult\",\"Young Adult\",\"Adult\",\"Adult\",\"Senior\",\"Adult\",\"Adult\",\"Senior\",\"Adult\",\"Senior\",\"Adult\",\"Adult\",\"Senior\",\"Adult\",\"Senior\",\"Adult\",\"Child\",\"Senior\",\"Child\",\"Adult\",\"Young Adult\",\"Child\",\"Young Adult\",\"Adult\",\"Adult\",\"Adult\",\"Young Adult\",\"Child\",\"Adult\",\"Senior\",\"Young Adult\",\"Teen\",\"Adult\",\"Adult\",\"Teen\",\"Senior\",\"Child\",\"Adult\",\"Adult\",\"Senior\",\"Senior\",\"Senior\",\"Young Adult\",\"Adult\",\"Adult\",\"Adult\",\"Senior\",\"Adult\",\"Adult\",\"Young Adult\",\"Child\",\"Teen\",\"Adult\",\"Adult\",\"Senior\",\"Senior\",\"Senior\",\"Child\",\"Adult\",\"Adult\",\"Young Adult\",\"Adult\",\"Young Adult\",\"Teen\",\"Child\",\"Senior\",\"Teen\",\"Adult\",\"Senior\",\"Teen\",\"Adult\",\"Senior\",\"Adult\",\"Senior\",\"Child\",\"Young Adult\",\"Child\",\"Teen\",\"Young Adult\",\"Adult\",\"Child\",\"Adult\",\"Senior\",\"Adult\",\"Adult\",\"Teen\",\"Adult\",\"Senior\",\"Adult\",\"Child\",\"Adult\",\"Adult\",\"Teen\",\"Adult\",\"Adult\",\"Adult\",\"Young Adult\",\"Adult\",\"Adult\",\"Adult\",\"Adult\",\"Adult\",\"Senior\",\"Senior\",\"Adult\",\"Senior\",\"Adult\",\"Adult\",\"Adult\",\"Senior\",\"Child\",\"Teen\",\"Adult\",\"Child\",\"Young Adult\",\"Adult\",\"Adult\",\"Adult\",\"Teen\",\"Adult\",\"Child\",\"Adult\",\"Adult\",\"Senior\",\"Adult\",\"Adult\",\"Young Adult\",\"Adult\",\"Senior\",\"Child\",\"Adult\",\"Young Adult\",\"Adult\",\"Adult\",\"Adult\",\"Senior\",\"Adult\",\"Teen\",\"Child\",\"Young Adult\",\"Senior\",\"Adult\",\"Adult\",\"Child\",\"Senior\",\"Adult\",\"Teen\",\"Adult\",\"Young Adult\",\"Senior\",\"Child\",\"Senior\",\"Child\",\"Teen\",\"Child\",\"Young Adult\",\"Child\",\"Adult\",\"Child\",\"Teen\",\"Young Adult\",\"Teen\",\"Adult\",\"Senior\",\"Senior\",\"Adult\",\"Senior\",\"Senior\",\"Adult\",\"Adult\",\"Young Adult\",\"Adult\",\"Adult\",\"Child\",\"Senior\",\"Child\",\"Adult\",\"Adult\",\"Adult\",\"Senior\",\"Adult\",\"Senior\",\"Senior\",\"Child\",\"Adult\",\"Senior\",\"Adult\",\"Adult\",\"Child\",\"Adult\",\"Adult\",\"Young Adult\",\"Child\",\"Adult\",\"Senior\",\"Adult\",\"Adult\",\"Adult\",\"Adult\",\"Senior\",\"Teen\",\"Adult\",\"Child\",\"Adult\",\"Adult\",\"Adult\",\"Teen\",\"Teen\",\"Adult\",\"Adult\",\"Senior\",\"Adult\",\"Senior\",\"Child\",\"Senior\",\"Senior\",\"Child\",\"Adult\",\"Adult\",\"Senior\",\"Adult\",\"Child\",\"Teen\",\"Adult\",\"Teen\",\"Adult\",\"Senior\",\"Senior\",\"Senior\",\"Adult\",\"Adult\",\"Senior\",\"Senior\",\"Senior\",\"Teen\",\"Child\",\"Child\",\"Teen\",\"Adult\",\"Child\",\"Senior\",\"Adult\",\"Child\",\"Child\",\"Adult\",\"Senior\",\"Senior\",\"Adult\",\"Adult\",\"Child\",\"Adult\",\"Senior\",\"Adult\",\"Child\",\"Adult\",\"Adult\",\"Senior\",\"Child\",\"Senior\",\"Senior\",\"Senior\",\"Young Adult\",\"Senior\",\"Adult\",\"Child\",\"Child\",\"Adult\",\"Adult\",\"Child\",\"Senior\",\"Senior\",\"Child\",\"Adult\",\"Adult\",\"Adult\",\"Senior\",\"Teen\",\"Young Adult\",\"Adult\",\"Adult\",\"Child\",\"Young Adult\",\"Senior\",\"Teen\",\"Adult\",\"Adult\",\"Teen\",\"Young Adult\",\"Adult\",\"Adult\",\"Adult\",\"Adult\",\"Senior\",\"Adult\",\"Child\",\"Senior\",\"Child\",\"Child\",\"Adult\",\"Adult\",\"Adult\",\"Child\",\"Young Adult\",\"Senior\",\"Adult\",\"Adult\",\"Senior\",\"Child\",\"Child\",\"Adult\",\"Teen\",\"Senior\",\"Adult\",\"Adult\",\"Senior\",\"Adult\",\"Senior\",\"Senior\",\"Young Adult\",\"Senior\",\"Adult\",\"Senior\",\"Teen\",\"Teen\",\"Child\",\"Senior\",\"Senior\",\"Young Adult\",\"Child\",\"Child\",\"Adult\",\"Adult\",\"Adult\",\"Adult\",\"Adult\",\"Adult\",\"Child\",\"Young Adult\",\"Child\",\"Adult\",\"Adult\",\"Adult\",\"Child\",\"Adult\",\"Adult\",\"Child\",\"Senior\",\"Senior\",\"Adult\",\"Senior\",\"Young Adult\",\"Adult\",\"Senior\",\"Child\",\"Senior\",\"Child\",\"Child\",\"Adult\",\"Adult\",\"Senior\",\"Child\",\"Adult\",\"Adult\",\"Adult\",\"Adult\",\"Adult\",\"Child\",\"Child\",\"Adult\",\"Senior\",\"Senior\",\"Adult\",\"Teen\",\"Young Adult\",\"Senior\",\"Adult\",\"Teen\",\"Young Adult\",\"Senior\",\"Child\",\"Child\",\"Young Adult\",\"Senior\",\"Senior\",\"Adult\",\"Adult\",\"Adult\",\"Child\",\"Adult\",\"Adult\",\"Senior\",\"Senior\",\"Adult\",\"Child\",\"Adult\",\"Adult\",\"Adult\",\"Adult\",\"Child\",\"Teen\",\"Child\",\"Adult\",\"Child\",\"Senior\",\"Child\",\"Adult\",\"Adult\",\"Senior\",\"Child\",\"Adult\",\"Senior\",\"Senior\",\"Young Adult\",\"Adult\",\"Adult\",\"Adult\",\"Child\",\"Adult\",\"Adult\",\"Child\",\"Adult\",\"Child\",\"Adult\",\"Adult\",\"Adult\",\"Young Adult\",\"Teen\",\"Adult\",\"Adult\",\"Senior\",\"Young Adult\",\"Senior\",\"Adult\",\"Senior\",\"Adult\",\"Senior\",\"Senior\",\"Teen\",\"Adult\",\"Senior\",\"Young Adult\",\"Child\",\"Senior\",\"Young Adult\",\"Young Adult\",\"Senior\",\"Senior\",\"Adult\",\"Adult\",\"Adult\",\"Young Adult\",\"Child\",\"Adult\",\"Adult\",\"Senior\",\"Young Adult\",\"Young Adult\",\"Adult\",\"Senior\",\"Adult\",\"Adult\",\"Senior\",\"Adult\",\"Child\",\"Adult\",\"Adult\",\"Child\",\"Adult\",\"Adult\",\"Adult\",\"Adult\",\"Child\",\"Senior\",\"Child\",\"Adult\",\"Adult\",\"Young Adult\",\"Adult\",\"Senior\",\"Adult\",\"Adult\",\"Senior\",\"Adult\",\"Child\",\"Teen\",\"Child\",\"Adult\",\"Senior\",\"Adult\",\"Senior\",\"Adult\",\"Adult\",\"Adult\",\"Adult\",\"Teen\",\"Young Adult\",\"Senior\",\"Young Adult\",\"Senior\",\"Adult\",\"Adult\",\"Young Adult\",\"Young Adult\",\"Child\",\"Teen\",\"Child\",\"Senior\",\"Senior\",\"Senior\",\"Adult\",\"Senior\",\"Young Adult\",\"Adult\",\"Adult\",\"Adult\",\"Senior\",\"Child\",\"Young Adult\",\"Child\",\"Adult\",\"Senior\",\"Senior\",\"Senior\",\"Young Adult\",\"Adult\",\"Adult\",\"Senior\",\"Child\",\"Child\",\"Adult\",\"Senior\",\"Senior\",\"Adult\",\"Adult\",\"Senior\",\"Adult\",\"Adult\",\"Senior\",\"Senior\",\"Senior\",\"Adult\",\"Adult\",\"Young Adult\",\"Senior\",\"Adult\",\"Adult\",\"Adult\",\"Senior\",\"Senior\",\"Young Adult\",\"Young Adult\",\"Adult\",\"Senior\",\"Teen\",\"Senior\",\"Adult\",\"Child\",\"Senior\",\"Young Adult\",\"Adult\",\"Adult\",\"Young Adult\",\"Adult\",\"Adult\",\"Child\",\"Adult\",\"Senior\",\"Adult\",\"Adult\",\"Adult\",\"Adult\",\"Child\",\"Adult\",\"Senior\",\"Senior\",\"Senior\",\"Adult\",\"Adult\",\"Adult\",\"Teen\",\"Adult\",\"Adult\",\"Adult\",\"Adult\",\"Senior\",\"Child\",\"Adult\",\"Adult\",\"Adult\",\"Child\",\"Young Adult\",\"Senior\",\"Young Adult\",\"Child\",\"Child\",\"Adult\",\"Child\",\"Child\",\"Adult\",\"Young Adult\",\"Adult\",\"Adult\",\"Adult\",\"Senior\",\"Adult\",\"Adult\",\"Senior\",\"Adult\",\"Senior\",\"Senior\",\"Adult\",\"Senior\",\"Senior\",\"Senior\",\"Senior\",\"Adult\",\"Adult\",\"Adult\",\"Senior\",\"Senior\",\"Adult\",\"Adult\",\"Adult\",\"Young Adult\",\"Adult\",\"Adult\",\"Adult\",\"Adult\",\"Child\",\"Child\",\"Young Adult\",\"Adult\",\"Senior\",\"Teen\",\"Senior\",\"Adult\",\"Child\",\"Child\",\"Child\",\"Adult\",\"Adult\",\"Young Adult\",\"Adult\",\"Adult\",\"Adult\",\"Adult\",\"Senior\",\"Teen\",\"Adult\",\"Senior\",\"Young Adult\",\"Adult\",\"Child\",\"Adult\",\"Adult\",\"Adult\",\"Adult\",\"Adult\",\"Young Adult\",\"Adult\",\"Teen\",\"Senior\",\"Young Adult\",\"Adult\",\"Adult\",\"Adult\",\"Senior\",\"Adult\",\"Senior\",\"Adult\",\"Adult\",\"Senior\",\"Senior\",\"Child\",\"Senior\",\"Child\",\"Senior\",\"Child\",\"Senior\",\"Senior\",\"Senior\",\"Adult\",\"Child\",\"Child\",\"Child\",\"Adult\",\"Adult\",\"Adult\",\"Senior\",\"Adult\",\"Young Adult\",\"Adult\",\"Child\",\"Senior\",\"Adult\",\"Senior\",\"Adult\",\"Adult\",\"Young Adult\",\"Young Adult\",\"Senior\",\"Child\",\"Adult\",\"Child\",\"Senior\",\"Adult\",\"Senior\",\"Senior\",\"Young Adult\",\"Senior\",\"Adult\",\"Adult\",\"Adult\",\"Senior\",\"Teen\",\"Young Adult\",\"Adult\",\"Child\",\"Adult\",\"Senior\",\"Child\",\"Adult\",\"Adult\",\"Young Adult\",\"Teen\",\"Child\",\"Senior\",\"Adult\",\"Adult\",\"Adult\",\"Child\",\"Senior\",\"Adult\",\"Child\",\"Adult\",\"Senior\",\"Adult\",\"Adult\",\"Adult\",\"Senior\",\"Adult\",\"Child\",\"Adult\",\"Senior\",\"Adult\",\"Adult\",\"Adult\",\"Child\",\"Teen\",\"Child\",\"Adult\",\"Child\",\"Adult\",\"Adult\",\"Adult\",\"Teen\",\"Adult\",\"Adult\",\"Adult\",\"Adult\",\"Young Adult\",\"Senior\",\"Adult\",\"Adult\",\"Adult\",\"Adult\",\"Senior\",\"Young Adult\",\"Adult\"],\"xaxis\":\"x\",\"yaxis\":\"y\",\"type\":\"histogram\"},{\"alignmentgroup\":\"True\",\"bingroup\":\"x\",\"hovertemplate\":\"Ticket Source=TVM\\u003cbr\\u003eAge Group=%{x}\\u003cbr\\u003ecount=%{y}\\u003cextra\\u003e\\u003c\\u002fextra\\u003e\",\"legendgroup\":\"TVM\",\"marker\":{\"color\":\"rgb(141,160,203)\",\"pattern\":{\"shape\":\"\"}},\"name\":\"TVM\",\"offsetgroup\":\"TVM\",\"orientation\":\"v\",\"showlegend\":true,\"x\":[\"Child\",\"Adult\",\"Adult\",\"Adult\",\"Adult\",\"Teen\",\"Child\",\"Adult\",\"Child\",\"Senior\",\"Senior\",\"Adult\",\"Adult\",\"Adult\",\"Senior\",\"Senior\",\"Senior\",\"Senior\",\"Senior\",\"Adult\",\"Adult\",\"Senior\",\"Young Adult\",\"Senior\",\"Young Adult\",\"Adult\",\"Teen\",\"Adult\",\"Adult\",\"Adult\",\"Adult\",\"Teen\",\"Adult\",\"Young Adult\",\"Senior\",\"Young Adult\",\"Senior\",\"Child\",\"Adult\",\"Adult\",\"Young Adult\",\"Child\",\"Adult\",\"Child\",\"Teen\",\"Senior\",\"Senior\",\"Adult\",\"Adult\",\"Senior\",\"Senior\",\"Senior\",\"Senior\",\"Child\",\"Child\",\"Teen\",\"Senior\",\"Senior\",\"Adult\",\"Senior\",\"Child\",\"Adult\",\"Child\",\"Young Adult\",\"Child\",\"Child\",\"Senior\",\"Senior\",\"Adult\",\"Senior\",\"Teen\",\"Senior\",\"Senior\",\"Child\",\"Child\",\"Senior\",\"Young Adult\",\"Child\",\"Adult\",\"Young Adult\",\"Young Adult\",\"Child\",\"Senior\",\"Child\",\"Senior\",\"Adult\",\"Senior\",\"Young Adult\",\"Senior\",\"Senior\",\"Adult\",\"Senior\",\"Senior\",\"Senior\",\"Adult\",\"Senior\",\"Adult\",\"Adult\",\"Young Adult\",\"Senior\",\"Adult\",\"Adult\",\"Adult\",\"Adult\",\"Adult\",\"Young Adult\",\"Adult\",\"Senior\",\"Adult\",\"Adult\",\"Adult\",\"Senior\",\"Senior\",\"Adult\",\"Child\",\"Young Adult\",\"Adult\",\"Adult\",\"Senior\",\"Senior\",\"Child\",\"Senior\",\"Senior\",\"Child\",\"Adult\",\"Senior\",\"Senior\",\"Child\",\"Senior\",\"Child\",\"Adult\",\"Adult\",\"Adult\",\"Adult\",\"Adult\",\"Senior\",\"Senior\",\"Senior\",\"Senior\",\"Adult\",\"Senior\",\"Adult\",\"Adult\",\"Senior\",\"Senior\",\"Adult\",\"Child\",\"Adult\",\"Teen\",\"Teen\",\"Adult\",\"Adult\",\"Adult\",\"Senior\",\"Adult\",\"Child\",\"Child\",\"Child\",\"Adult\",\"Adult\",\"Child\",\"Young Adult\",\"Adult\",\"Child\",\"Senior\",\"Adult\",\"Adult\",\"Senior\",\"Adult\",\"Senior\",\"Senior\",\"Adult\",\"Adult\",\"Adult\",\"Senior\",\"Adult\",\"Child\",\"Adult\",\"Senior\",\"Child\",\"Adult\",\"Adult\",\"Child\",\"Adult\",\"Adult\",\"Child\",\"Adult\",\"Senior\",\"Adult\",\"Young Adult\",\"Adult\",\"Adult\",\"Adult\",\"Adult\",\"Adult\",\"Adult\",\"Adult\",\"Senior\",\"Adult\",\"Child\",\"Young Adult\",\"Senior\",\"Senior\",\"Adult\",\"Young Adult\",\"Young Adult\",\"Teen\",\"Adult\",\"Young Adult\",\"Adult\",\"Senior\",\"Young Adult\",\"Senior\",\"Adult\",\"Adult\",\"Adult\",\"Adult\",\"Teen\",\"Senior\",\"Adult\",\"Child\",\"Adult\",\"Teen\",\"Young Adult\",\"Young Adult\",\"Child\",\"Senior\",\"Senior\",\"Adult\",\"Adult\",\"Adult\",\"Adult\",\"Adult\",\"Teen\",\"Adult\",\"Young Adult\",\"Adult\",\"Child\",\"Senior\",\"Senior\",\"Senior\",\"Child\",\"Adult\",\"Senior\",\"Adult\",\"Senior\",\"Adult\",\"Adult\",\"Teen\",\"Young Adult\",\"Adult\",\"Adult\",\"Adult\",\"Child\",\"Senior\",\"Adult\",\"Adult\",\"Child\",\"Senior\",\"Young Adult\",\"Adult\",\"Senior\",\"Senior\",\"Adult\",\"Adult\",\"Adult\",\"Adult\",\"Child\",\"Senior\",\"Child\",\"Child\",\"Young Adult\",\"Young Adult\",\"Adult\",\"Senior\",\"Child\",\"Adult\",\"Young Adult\",\"Child\",\"Adult\",\"Adult\",\"Child\",\"Adult\",\"Adult\",\"Child\",\"Teen\",\"Adult\",\"Adult\",\"Teen\",\"Teen\",\"Senior\",\"Child\",\"Senior\",\"Adult\",\"Young Adult\",\"Child\",\"Senior\",\"Senior\",\"Child\",\"Adult\",\"Child\",\"Teen\",\"Adult\",\"Senior\",\"Young Adult\",\"Adult\",\"Adult\",\"Adult\",\"Senior\",\"Teen\",\"Adult\",\"Senior\",\"Adult\",\"Adult\",\"Adult\",\"Adult\",\"Senior\",\"Young Adult\",\"Teen\",\"Child\",\"Senior\",\"Senior\",\"Senior\",\"Child\",\"Adult\",\"Adult\",\"Adult\",\"Young Adult\",\"Adult\",\"Adult\",\"Child\",\"Senior\",\"Adult\",\"Adult\",\"Child\",\"Child\",\"Adult\",\"Adult\",\"Senior\",\"Child\",\"Senior\",\"Adult\",\"Adult\",\"Adult\",\"Senior\",\"Adult\",\"Child\",\"Senior\",\"Adult\",\"Child\",\"Adult\",\"Adult\",\"Adult\",\"Adult\",\"Senior\",\"Child\",\"Young Adult\",\"Senior\",\"Adult\",\"Adult\",\"Adult\",\"Adult\",\"Senior\",\"Senior\",\"Adult\",\"Adult\",\"Child\",\"Adult\",\"Adult\",\"Teen\",\"Adult\",\"Adult\",\"Young Adult\",\"Adult\",\"Child\",\"Senior\",\"Senior\",\"Adult\",\"Senior\",\"Senior\",\"Adult\",\"Adult\",\"Young Adult\",\"Adult\",\"Young Adult\",\"Senior\",\"Senior\",\"Child\",\"Senior\",\"Young Adult\",\"Child\",\"Child\",\"Teen\",\"Adult\",\"Senior\",\"Child\",\"Child\",\"Adult\",\"Teen\",\"Child\",\"Adult\",\"Adult\",\"Senior\",\"Adult\",\"Adult\",\"Adult\",\"Child\",\"Senior\",\"Adult\",\"Teen\",\"Senior\",\"Senior\",\"Adult\",\"Adult\",\"Senior\",\"Child\",\"Adult\",\"Senior\",\"Adult\",\"Adult\",\"Adult\",\"Adult\",\"Adult\",\"Senior\",\"Teen\",\"Adult\",\"Adult\",\"Young Adult\",\"Senior\",\"Adult\",\"Young Adult\",\"Child\",\"Young Adult\",\"Senior\",\"Young Adult\",\"Senior\",\"Adult\",\"Senior\",\"Adult\",\"Adult\",\"Adult\",\"Senior\",\"Senior\",\"Adult\",\"Young Adult\",\"Adult\",\"Child\",\"Teen\",\"Child\",\"Adult\",\"Adult\",\"Adult\",\"Adult\",\"Senior\",\"Child\",\"Senior\",\"Senior\",\"Child\",\"Adult\",\"Adult\",\"Adult\",\"Adult\",\"Adult\",\"Adult\",\"Adult\",\"Senior\",\"Senior\",\"Adult\",\"Adult\",\"Child\",\"Adult\",\"Adult\",\"Young Adult\",\"Adult\",\"Adult\",\"Child\",\"Adult\",\"Child\",\"Young Adult\",\"Senior\",\"Young Adult\",\"Young Adult\",\"Young Adult\",\"Child\",\"Senior\",\"Adult\",\"Adult\",\"Adult\",\"Child\",\"Young Adult\",\"Adult\",\"Adult\",\"Adult\",\"Adult\",\"Senior\",\"Child\",\"Adult\",\"Adult\",\"Senior\",\"Adult\",\"Adult\",\"Adult\",\"Child\",\"Child\",\"Senior\",\"Senior\",\"Senior\",\"Senior\",\"Adult\",\"Teen\",\"Senior\",\"Senior\",\"Adult\",\"Adult\",\"Adult\",\"Child\",\"Adult\",\"Adult\",\"Senior\",\"Child\",\"Child\",\"Adult\",\"Adult\",\"Young Adult\",\"Adult\",\"Teen\",\"Adult\",\"Child\",\"Adult\",\"Senior\",\"Adult\",\"Adult\",\"Senior\",\"Senior\",\"Adult\",\"Adult\",\"Adult\",\"Child\",\"Child\",\"Adult\",\"Senior\",\"Child\",\"Senior\",\"Adult\",\"Adult\",\"Adult\",\"Young Adult\",\"Senior\",\"Adult\",\"Young Adult\",\"Senior\",\"Adult\",\"Adult\",\"Adult\",\"Senior\",\"Child\",\"Child\",\"Adult\",\"Senior\",\"Adult\",\"Adult\",\"Senior\",\"Senior\",\"Young Adult\",\"Senior\",\"Child\",\"Adult\",\"Senior\",\"Adult\",\"Senior\",\"Adult\",\"Young Adult\",\"Adult\",\"Senior\",\"Adult\",\"Young Adult\",\"Child\",\"Adult\",\"Young Adult\",\"Adult\",\"Teen\",\"Adult\",\"Child\",\"Young Adult\",\"Adult\",\"Young Adult\",\"Child\",\"Child\",\"Adult\",\"Adult\",\"Adult\",\"Adult\",\"Teen\",\"Senior\",\"Adult\",\"Senior\",\"Adult\",\"Senior\",\"Senior\",\"Teen\",\"Child\",\"Adult\",\"Teen\",\"Adult\",\"Young Adult\",\"Adult\",\"Adult\",\"Child\",\"Young Adult\",\"Child\",\"Teen\",\"Adult\",\"Senior\",\"Child\",\"Teen\",\"Adult\",\"Senior\",\"Adult\",\"Adult\",\"Senior\",\"Child\",\"Teen\",\"Adult\",\"Adult\",\"Adult\",\"Child\",\"Senior\",\"Adult\",\"Adult\",\"Adult\",\"Senior\",\"Senior\",\"Adult\",\"Adult\",\"Child\",\"Senior\",\"Senior\",\"Young Adult\",\"Adult\",\"Adult\",\"Adult\",\"Adult\",\"Child\",\"Senior\",\"Adult\",\"Child\",\"Adult\",\"Adult\",\"Adult\",\"Adult\",\"Adult\",\"Senior\",\"Adult\",\"Senior\",\"Senior\",\"Teen\",\"Senior\",\"Adult\",\"Adult\",\"Young Adult\",\"Adult\",\"Teen\",\"Senior\",\"Senior\",\"Adult\",\"Adult\",\"Young Adult\",\"Adult\",\"Senior\",\"Young Adult\",\"Young Adult\",\"Child\",\"Teen\",\"Child\",\"Adult\",\"Child\",\"Adult\",\"Child\",\"Adult\",\"Senior\",\"Teen\",\"Young Adult\",\"Teen\",\"Senior\",\"Adult\",\"Young Adult\",\"Child\",\"Child\",\"Senior\",\"Adult\",\"Senior\",\"Adult\",\"Adult\",\"Adult\",\"Adult\",\"Adult\",\"Young Adult\",\"Adult\",\"Senior\",\"Senior\",\"Young Adult\",\"Adult\",\"Adult\",\"Young Adult\",\"Adult\",\"Senior\",\"Young Adult\",\"Adult\",\"Senior\",\"Adult\",\"Child\",\"Senior\",\"Senior\",\"Adult\",\"Senior\",\"Adult\",\"Child\",\"Teen\",\"Senior\",\"Senior\",\"Adult\",\"Child\",\"Senior\",\"Senior\",\"Adult\",\"Adult\",\"Young Adult\",\"Child\",\"Adult\",\"Adult\",\"Adult\",\"Senior\",\"Child\",\"Adult\",\"Senior\",\"Adult\",\"Senior\",\"Senior\",\"Senior\",\"Child\",\"Child\",\"Adult\",\"Senior\",\"Teen\",\"Adult\",\"Senior\",\"Adult\",\"Child\",\"Adult\",\"Adult\",\"Young Adult\",\"Young Adult\",\"Child\",\"Child\",\"Adult\",\"Adult\",\"Senior\",\"Teen\",\"Teen\",\"Adult\",\"Adult\",\"Young Adult\",\"Adult\",\"Senior\",\"Adult\",\"Senior\",\"Adult\",\"Adult\",\"Senior\",\"Senior\",\"Child\",\"Child\",\"Senior\",\"Adult\",\"Adult\",\"Senior\",\"Adult\",\"Adult\",\"Senior\",\"Adult\",\"Senior\",\"Adult\",\"Senior\",\"Child\",\"Child\",\"Adult\",\"Adult\",\"Adult\",\"Teen\",\"Senior\",\"Child\",\"Child\",\"Adult\",\"Teen\",\"Teen\",\"Senior\",\"Teen\",\"Adult\",\"Young Adult\",\"Senior\",\"Senior\",\"Adult\",\"Child\",\"Senior\",\"Senior\",\"Adult\",\"Adult\",\"Senior\",\"Senior\",\"Adult\",\"Senior\",\"Teen\",\"Senior\",\"Adult\",\"Adult\",\"Senior\",\"Senior\",\"Senior\",\"Senior\",\"Young Adult\",\"Child\",\"Adult\",\"Senior\",\"Child\",\"Young Adult\",\"Young Adult\",\"Adult\",\"Senior\",\"Adult\",\"Adult\",\"Child\",\"Senior\",\"Senior\",\"Adult\",\"Adult\",\"Adult\",\"Adult\",\"Child\",\"Adult\",\"Senior\",\"Child\",\"Adult\",\"Senior\",\"Adult\",\"Senior\",\"Adult\",\"Senior\",\"Adult\",\"Adult\",\"Child\",\"Senior\",\"Adult\",\"Child\",\"Adult\",\"Adult\",\"Young Adult\",\"Senior\",\"Child\",\"Adult\",\"Young Adult\",\"Senior\",\"Adult\",\"Adult\",\"Senior\",\"Adult\",\"Adult\",\"Senior\",\"Adult\",\"Senior\",\"Adult\",\"Adult\",\"Senior\",\"Young Adult\",\"Child\",\"Young Adult\",\"Young Adult\",\"Senior\",\"Senior\",\"Child\",\"Senior\",\"Child\",\"Senior\",\"Young Adult\",\"Senior\",\"Senior\",\"Adult\",\"Senior\",\"Adult\",\"Young Adult\",\"Adult\",\"Senior\",\"Young Adult\",\"Senior\",\"Adult\",\"Adult\",\"Senior\",\"Teen\",\"Teen\",\"Adult\",\"Young Adult\",\"Adult\",\"Adult\",\"Senior\",\"Adult\",\"Senior\",\"Adult\",\"Adult\",\"Adult\",\"Child\",\"Adult\",\"Adult\",\"Adult\",\"Child\",\"Senior\",\"Senior\",\"Young Adult\",\"Senior\",\"Senior\",\"Senior\",\"Adult\",\"Adult\",\"Adult\",\"Senior\",\"Adult\",\"Adult\",\"Senior\",\"Senior\",\"Adult\",\"Adult\",\"Adult\",\"Adult\",\"Child\",\"Adult\",\"Child\",\"Adult\",\"Adult\",\"Child\",\"Child\",\"Adult\",\"Senior\",\"Adult\",\"Senior\",\"Adult\",\"Adult\",\"Senior\",\"Child\",\"Senior\",\"Adult\",\"Senior\",\"Young Adult\",\"Senior\",\"Senior\",\"Adult\",\"Young Adult\",\"Senior\",\"Adult\",\"Adult\",\"Adult\",\"Young Adult\",\"Senior\",\"Adult\",\"Teen\",\"Senior\",\"Senior\",\"Young Adult\",\"Adult\",\"Senior\",\"Senior\",\"Adult\",\"Senior\",\"Teen\",\"Adult\",\"Adult\",\"Young Adult\",\"Child\",\"Adult\",\"Adult\",\"Teen\",\"Teen\",\"Senior\",\"Child\",\"Teen\",\"Adult\",\"Senior\",\"Adult\",\"Child\",\"Teen\",\"Child\",\"Adult\",\"Senior\",\"Adult\",\"Child\",\"Child\",\"Adult\",\"Adult\",\"Senior\",\"Senior\",\"Senior\",\"Senior\",\"Child\",\"Senior\",\"Senior\",\"Child\",\"Teen\",\"Child\",\"Senior\",\"Adult\",\"Teen\",\"Adult\",\"Child\",\"Child\",\"Adult\",\"Senior\",\"Adult\",\"Adult\",\"Child\",\"Teen\",\"Child\",\"Adult\",\"Adult\",\"Senior\",\"Adult\",\"Senior\",\"Teen\",\"Adult\",\"Senior\",\"Senior\",\"Child\",\"Child\",\"Senior\",\"Adult\",\"Adult\",\"Child\",\"Adult\",\"Senior\",\"Teen\",\"Adult\",\"Young Adult\",\"Adult\",\"Young Adult\",\"Senior\",\"Adult\",\"Adult\",\"Senior\",\"Adult\",\"Adult\",\"Young Adult\",\"Young Adult\",\"Adult\",\"Young Adult\",\"Child\",\"Senior\",\"Adult\",\"Senior\",\"Young Adult\",\"Adult\",\"Young Adult\",\"Senior\",\"Adult\",\"Young Adult\",\"Adult\",\"Young Adult\",\"Teen\",\"Senior\",\"Child\",\"Young Adult\",\"Adult\",\"Senior\",\"Adult\",\"Adult\",\"Senior\",\"Senior\",\"Adult\",\"Senior\",\"Adult\",\"Adult\",\"Senior\",\"Senior\",\"Adult\",\"Child\",\"Senior\",\"Adult\",\"Young Adult\",\"Adult\",\"Young Adult\",\"Adult\",\"Adult\",\"Adult\",\"Senior\",\"Adult\",\"Adult\",\"Adult\",\"Senior\",\"Senior\",\"Child\",\"Adult\",\"Adult\",\"Senior\",\"Adult\",\"Teen\",\"Adult\",\"Child\",\"Adult\",\"Senior\",\"Adult\",\"Child\",\"Adult\",\"Adult\",\"Adult\",\"Adult\",\"Adult\",\"Adult\",\"Child\",\"Adult\",\"Adult\",\"Senior\",\"Senior\",\"Adult\",\"Young Adult\",\"Adult\",\"Senior\",\"Teen\",\"Child\",\"Child\",\"Teen\",\"Adult\",\"Young Adult\",\"Child\",\"Senior\",\"Adult\",\"Senior\",\"Adult\",\"Adult\",\"Adult\",\"Teen\",\"Adult\",\"Senior\",\"Adult\",\"Child\",\"Adult\",\"Adult\",\"Adult\",\"Senior\",\"Senior\",\"Adult\",\"Adult\",\"Child\",\"Adult\",\"Senior\",\"Adult\",\"Senior\",\"Senior\",\"Adult\",\"Adult\",\"Young Adult\",\"Adult\",\"Child\",\"Senior\",\"Child\",\"Adult\",\"Adult\",\"Adult\",\"Senior\",\"Child\",\"Senior\",\"Young Adult\",\"Senior\",\"Child\",\"Adult\",\"Adult\",\"Teen\",\"Adult\",\"Adult\",\"Senior\",\"Child\",\"Senior\",\"Child\",\"Adult\",\"Adult\",\"Senior\",\"Senior\",\"Adult\",\"Adult\",\"Young Adult\",\"Senior\",\"Adult\",\"Adult\",\"Senior\",\"Child\",\"Child\",\"Child\",\"Child\",\"Adult\",\"Young Adult\",\"Senior\",\"Senior\",\"Senior\",\"Teen\",\"Senior\",\"Adult\",\"Young Adult\",\"Senior\",\"Teen\",\"Adult\",\"Young Adult\",\"Child\",\"Teen\",\"Child\",\"Child\",\"Senior\",\"Senior\",\"Adult\",\"Child\",\"Teen\",\"Senior\",\"Adult\",\"Adult\",\"Senior\",\"Child\",\"Senior\",\"Young Adult\",\"Young Adult\",\"Adult\",\"Adult\",\"Adult\",\"Senior\",\"Adult\",\"Adult\",\"Adult\",\"Teen\",\"Senior\",\"Senior\",\"Young Adult\",\"Adult\",\"Adult\",\"Teen\",\"Child\",\"Young Adult\",\"Adult\",\"Adult\",\"Young Adult\",\"Adult\",\"Child\",\"Senior\",\"Child\",\"Adult\",\"Senior\",\"Senior\",\"Young Adult\",\"Adult\",\"Child\",\"Senior\",\"Young Adult\",\"Senior\",\"Senior\",\"Child\",\"Adult\",\"Adult\",\"Adult\",\"Adult\",\"Young Adult\",\"Adult\",\"Senior\",\"Adult\",\"Adult\",\"Child\",\"Senior\",\"Adult\",\"Young Adult\",\"Senior\",\"Adult\",\"Senior\",\"Adult\",\"Young Adult\",\"Adult\",\"Young Adult\",\"Senior\",\"Adult\",\"Child\",\"Young Adult\",\"Young Adult\",\"Adult\",\"Young Adult\",\"Child\",\"Child\",\"Adult\",\"Adult\",\"Young Adult\",\"Senior\",\"Teen\",\"Child\",\"Young Adult\",\"Adult\",\"Adult\",\"Child\",\"Senior\",\"Adult\",\"Senior\",\"Senior\",\"Child\",\"Adult\",\"Adult\",\"Teen\",\"Adult\",\"Senior\",\"Senior\",\"Teen\",\"Adult\",\"Teen\",\"Senior\",\"Adult\",\"Senior\",\"Senior\",\"Senior\",\"Adult\",\"Adult\",\"Senior\",\"Adult\",\"Senior\",\"Child\",\"Child\",\"Adult\",\"Adult\",\"Adult\",\"Adult\",\"Young Adult\",\"Senior\",\"Child\",\"Senior\",\"Senior\",\"Adult\",\"Adult\",\"Adult\",\"Senior\",\"Senior\",\"Adult\",\"Adult\",\"Young Adult\",\"Senior\",\"Young Adult\",\"Child\",\"Adult\",\"Senior\",\"Senior\",\"Child\",\"Senior\",\"Adult\",\"Senior\",\"Adult\",\"Teen\",\"Adult\",\"Adult\",\"Adult\",\"Adult\",\"Adult\",\"Adult\",\"Adult\",\"Adult\",\"Senior\",\"Adult\",\"Adult\",\"Teen\",\"Senior\",\"Senior\",\"Teen\",\"Adult\",\"Adult\",\"Adult\",\"Adult\",\"Adult\",\"Senior\",\"Senior\",\"Adult\",\"Adult\",\"Young Adult\",\"Senior\",\"Child\",\"Senior\",\"Young Adult\",\"Young Adult\",\"Child\",\"Adult\",\"Adult\",\"Adult\",\"Senior\",\"Adult\",\"Senior\",\"Adult\",\"Adult\",\"Adult\",\"Senior\",\"Teen\",\"Adult\",\"Adult\",\"Senior\",\"Senior\",\"Senior\",\"Adult\",\"Senior\",\"Senior\",\"Adult\",\"Adult\",\"Child\",\"Adult\",\"Adult\",\"Senior\",\"Adult\",\"Teen\",\"Adult\",\"Young Adult\",\"Senior\",\"Adult\",\"Adult\",\"Adult\",\"Adult\",\"Adult\",\"Child\",\"Child\",\"Adult\",\"Child\",\"Senior\",\"Adult\",\"Young Adult\",\"Senior\",\"Senior\",\"Adult\",\"Adult\",\"Adult\",\"Young Adult\",\"Adult\",\"Senior\",\"Child\",\"Teen\",\"Senior\",\"Adult\",\"Adult\",\"Young Adult\",\"Young Adult\",\"Adult\",\"Adult\",\"Senior\",\"Adult\",\"Adult\",\"Adult\",\"Adult\",\"Adult\",\"Child\",\"Child\",\"Child\",\"Adult\",\"Adult\",\"Teen\",\"Senior\",\"Adult\",\"Child\",\"Adult\",\"Senior\",\"Senior\",\"Adult\",\"Young Adult\",\"Adult\",\"Adult\",\"Young Adult\",\"Adult\",\"Adult\",\"Child\",\"Child\",\"Senior\",\"Senior\",\"Adult\",\"Adult\",\"Adult\",\"Adult\",\"Adult\",\"Child\",\"Adult\",\"Adult\",\"Adult\",\"Adult\",\"Adult\",\"Adult\",\"Senior\",\"Adult\",\"Senior\",\"Adult\",\"Teen\",\"Adult\",\"Adult\",\"Child\",\"Adult\",\"Young Adult\",\"Teen\",\"Adult\",\"Adult\",\"Adult\",\"Adult\",\"Teen\",\"Adult\",\"Senior\",\"Senior\",\"Young Adult\",\"Senior\",\"Senior\",\"Adult\",\"Adult\",\"Young Adult\",\"Senior\",\"Adult\",\"Young Adult\",\"Adult\",\"Adult\",\"Adult\",\"Adult\",\"Adult\",\"Adult\",\"Adult\",\"Adult\",\"Senior\",\"Child\",\"Adult\",\"Senior\",\"Adult\",\"Child\",\"Adult\",\"Senior\",\"Child\",\"Senior\",\"Senior\",\"Young Adult\",\"Teen\",\"Adult\",\"Senior\",\"Adult\",\"Child\",\"Young Adult\",\"Adult\",\"Child\",\"Young Adult\",\"Senior\",\"Adult\",\"Adult\",\"Senior\",\"Teen\",\"Adult\",\"Child\",\"Child\",\"Teen\",\"Adult\",\"Senior\",\"Teen\",\"Child\",\"Teen\",\"Young Adult\",\"Young Adult\",\"Young Adult\",\"Senior\",\"Senior\",\"Teen\",\"Senior\",\"Adult\",\"Teen\",\"Senior\",\"Child\",\"Child\",\"Child\",\"Adult\",\"Adult\",\"Adult\",\"Adult\",\"Young Adult\",\"Teen\",\"Adult\",\"Senior\",\"Adult\",\"Senior\",\"Teen\",\"Child\",\"Adult\",\"Senior\",\"Adult\",\"Adult\",\"Teen\",\"Senior\",\"Child\",\"Adult\",\"Adult\",\"Adult\",\"Senior\",\"Adult\",\"Child\",\"Senior\",\"Adult\",\"Adult\",\"Teen\",\"Senior\",\"Senior\",\"Senior\",\"Teen\",\"Senior\",\"Senior\",\"Child\",\"Child\",\"Senior\",\"Senior\",\"Teen\",\"Child\",\"Adult\",\"Adult\",\"Young Adult\",\"Adult\",\"Senior\",\"Senior\",\"Adult\",\"Adult\",\"Teen\",\"Adult\",\"Adult\",\"Young Adult\",\"Adult\",\"Adult\",\"Child\",\"Teen\",\"Child\",\"Child\",\"Adult\",\"Senior\",\"Child\",\"Adult\",\"Senior\",\"Child\",\"Adult\",\"Adult\",\"Adult\",\"Child\",\"Adult\",\"Young Adult\",\"Adult\",\"Senior\",\"Adult\",\"Senior\",\"Adult\",\"Senior\",\"Teen\",\"Senior\",\"Adult\",\"Teen\",\"Young Adult\",\"Adult\",\"Adult\",\"Adult\",\"Adult\",\"Adult\",\"Adult\",\"Senior\",\"Child\",\"Adult\",\"Young Adult\",\"Senior\",\"Adult\",\"Senior\",\"Senior\",\"Senior\",\"Senior\",\"Adult\",\"Young Adult\",\"Child\",\"Adult\",\"Adult\",\"Senior\",\"Teen\",\"Adult\",\"Adult\",\"Adult\",\"Adult\",\"Senior\",\"Teen\",\"Adult\",\"Adult\",\"Adult\",\"Teen\",\"Adult\",\"Adult\",\"Young Adult\",\"Child\",\"Adult\",\"Adult\",\"Child\",\"Adult\",\"Senior\",\"Senior\",\"Teen\",\"Adult\",\"Child\",\"Senior\",\"Adult\",\"Adult\",\"Adult\",\"Adult\",\"Adult\",\"Adult\",\"Teen\",\"Senior\",\"Young Adult\",\"Adult\",\"Child\",\"Adult\",\"Adult\",\"Adult\",\"Adult\",\"Adult\",\"Adult\",\"Young Adult\",\"Adult\",\"Senior\",\"Young Adult\",\"Child\",\"Senior\",\"Adult\",\"Adult\",\"Adult\",\"Adult\",\"Senior\",\"Young Adult\",\"Young Adult\",\"Adult\",\"Adult\",\"Teen\",\"Senior\",\"Adult\",\"Adult\",\"Child\",\"Child\",\"Adult\",\"Adult\",\"Adult\",\"Senior\",\"Adult\",\"Adult\",\"Adult\",\"Adult\",\"Adult\",\"Child\",\"Adult\",\"Adult\",\"Adult\",\"Senior\",\"Senior\",\"Senior\",\"Adult\",\"Child\",\"Young Adult\",\"Young Adult\",\"Adult\",\"Senior\",\"Adult\",\"Child\",\"Adult\",\"Young Adult\",\"Young Adult\",\"Senior\",\"Senior\",\"Adult\",\"Adult\",\"Adult\",\"Adult\",\"Senior\",\"Adult\",\"Adult\",\"Adult\",\"Senior\",\"Senior\",\"Adult\",\"Adult\",\"Adult\",\"Senior\",\"Adult\",\"Adult\",\"Adult\",\"Senior\",\"Adult\",\"Senior\",\"Adult\",\"Adult\",\"Adult\",\"Adult\",\"Senior\",\"Senior\",\"Adult\",\"Adult\",\"Adult\",\"Adult\",\"Child\",\"Senior\",\"Child\",\"Senior\",\"Senior\",\"Young Adult\",\"Adult\",\"Adult\",\"Adult\",\"Adult\",\"Adult\",\"Senior\",\"Senior\",\"Adult\",\"Adult\",\"Child\",\"Child\",\"Adult\",\"Child\",\"Young Adult\",\"Adult\",\"Senior\",\"Senior\",\"Adult\",\"Adult\",\"Senior\",\"Adult\",\"Adult\",\"Senior\",\"Teen\",\"Child\",\"Adult\",\"Adult\",\"Adult\",\"Senior\",\"Young Adult\",\"Adult\",\"Adult\",\"Adult\",\"Adult\",\"Adult\",\"Adult\",\"Young Adult\",\"Child\",\"Senior\",\"Adult\",\"Senior\",\"Adult\",\"Adult\",\"Senior\",\"Adult\",\"Young Adult\",\"Adult\",\"Senior\",\"Adult\",\"Adult\",\"Adult\",\"Adult\",\"Adult\",\"Adult\",\"Senior\",\"Young Adult\",\"Senior\",\"Senior\",\"Adult\",\"Senior\",\"Senior\",\"Child\",\"Adult\",\"Adult\",\"Adult\",\"Adult\",\"Senior\",\"Adult\",\"Adult\",\"Senior\",\"Young Adult\",\"Senior\",\"Adult\",\"Senior\",\"Young Adult\",\"Young Adult\",\"Senior\",\"Senior\",\"Senior\",\"Adult\",\"Senior\",\"Adult\",\"Young Adult\",\"Adult\",\"Adult\",\"Adult\",\"Young Adult\",\"Teen\",\"Adult\",\"Child\",\"Young Adult\",\"Young Adult\",\"Senior\",\"Adult\",\"Adult\",\"Senior\",\"Adult\",\"Adult\",\"Senior\",\"Young Adult\",\"Child\",\"Teen\",\"Young Adult\",\"Senior\",\"Young Adult\",\"Adult\",\"Adult\",\"Child\",\"Child\",\"Adult\",\"Senior\",\"Adult\",\"Senior\",\"Adult\",\"Child\",\"Child\",\"Adult\",\"Adult\",\"Senior\",\"Adult\",\"Young Adult\",\"Teen\",\"Adult\",\"Adult\",\"Young Adult\",\"Teen\",\"Adult\",\"Adult\",\"Adult\",\"Young Adult\",\"Child\",\"Senior\",\"Senior\",\"Adult\",\"Teen\",\"Adult\",\"Adult\",\"Adult\",\"Adult\",\"Young Adult\",\"Adult\",\"Senior\",\"Young Adult\",\"Child\",\"Young Adult\",\"Young Adult\",\"Adult\",\"Adult\",\"Senior\",\"Young Adult\",\"Senior\",\"Teen\",\"Senior\",\"Adult\",\"Senior\",\"Young Adult\",\"Adult\",\"Young Adult\",\"Adult\",\"Teen\",\"Young Adult\",\"Adult\",\"Adult\",\"Child\",\"Child\",\"Adult\",\"Senior\",\"Child\",\"Young Adult\",\"Adult\",\"Adult\",\"Adult\",\"Teen\",\"Adult\",\"Adult\",\"Senior\",\"Adult\",\"Senior\",\"Adult\",\"Adult\",\"Adult\",\"Child\",\"Adult\",\"Senior\",\"Senior\",\"Adult\",\"Senior\",\"Senior\",\"Adult\",\"Teen\",\"Adult\",\"Adult\",\"Child\",\"Senior\",\"Child\",\"Adult\",\"Adult\",\"Adult\",\"Adult\",\"Adult\",\"Senior\",\"Teen\",\"Senior\",\"Adult\",\"Child\",\"Senior\",\"Child\",\"Adult\",\"Adult\",\"Adult\",\"Young Adult\",\"Senior\",\"Young Adult\",\"Senior\",\"Senior\",\"Adult\",\"Senior\",\"Child\",\"Adult\",\"Adult\",\"Adult\",\"Senior\",\"Child\",\"Senior\",\"Senior\",\"Teen\",\"Adult\",\"Young Adult\",\"Adult\",\"Adult\",\"Teen\",\"Senior\",\"Senior\",\"Adult\",\"Young Adult\",\"Teen\",\"Senior\",\"Adult\",\"Adult\",\"Young Adult\",\"Senior\",\"Adult\",\"Young Adult\",\"Child\",\"Child\",\"Senior\",\"Adult\",\"Senior\",\"Child\",\"Adult\",\"Adult\",\"Senior\",\"Young Adult\",\"Adult\",\"Senior\",\"Adult\",\"Senior\",\"Adult\",\"Senior\",\"Adult\",\"Senior\",\"Adult\",\"Young Adult\",\"Young Adult\",\"Senior\",\"Senior\",\"Young Adult\",\"Senior\",\"Senior\",\"Teen\",\"Senior\",\"Young Adult\",\"Senior\",\"Adult\",\"Adult\",\"Senior\",\"Adult\",\"Child\",\"Adult\",\"Senior\",\"Adult\",\"Adult\",\"Teen\",\"Adult\",\"Senior\",\"Adult\",\"Young Adult\",\"Adult\",\"Child\",\"Adult\",\"Adult\",\"Adult\",\"Senior\",\"Senior\",\"Adult\",\"Adult\",\"Senior\",\"Child\",\"Child\",\"Senior\",\"Senior\",\"Child\",\"Adult\",\"Adult\",\"Adult\",\"Teen\",\"Senior\",\"Adult\",\"Young Adult\",\"Adult\",\"Adult\",\"Young Adult\",\"Adult\",\"Senior\",\"Young Adult\",\"Senior\",\"Adult\",\"Young Adult\",\"Child\",\"Adult\",\"Senior\",\"Adult\",\"Senior\",\"Adult\",\"Senior\",\"Senior\",\"Senior\",\"Child\",\"Adult\",\"Adult\",\"Adult\",\"Adult\",\"Young Adult\",\"Adult\",\"Senior\",\"Adult\",\"Senior\",\"Teen\",\"Adult\",\"Child\",\"Adult\",\"Senior\",\"Adult\",\"Senior\",\"Adult\",\"Senior\",\"Child\",\"Senior\",\"Adult\",\"Adult\",\"Senior\",\"Senior\",\"Adult\",\"Senior\",\"Adult\",\"Adult\",\"Senior\",\"Young Adult\",\"Adult\",\"Young Adult\",\"Child\",\"Young Adult\",\"Senior\",\"Adult\",\"Senior\",\"Senior\",\"Teen\",\"Child\",\"Teen\",\"Child\",\"Senior\",\"Senior\",\"Teen\",\"Senior\",\"Adult\",\"Adult\",\"Senior\",\"Senior\",\"Senior\",\"Teen\",\"Adult\",\"Adult\",\"Child\",\"Senior\",\"Adult\",\"Adult\",\"Child\",\"Adult\",\"Adult\",\"Child\",\"Adult\",\"Child\",\"Adult\",\"Teen\",\"Adult\",\"Senior\",\"Adult\",\"Senior\",\"Adult\",\"Adult\",\"Child\",\"Child\",\"Senior\",\"Child\",\"Adult\",\"Senior\",\"Adult\",\"Adult\",\"Child\",\"Senior\",\"Senior\",\"Senior\",\"Child\",\"Child\",\"Teen\",\"Senior\",\"Adult\",\"Senior\",\"Adult\",\"Adult\",\"Senior\",\"Young Adult\",\"Teen\",\"Adult\",\"Adult\",\"Senior\",\"Adult\",\"Adult\",\"Senior\",\"Child\",\"Child\",\"Senior\",\"Adult\",\"Young Adult\",\"Adult\",\"Adult\",\"Adult\",\"Child\",\"Child\",\"Child\",\"Adult\",\"Adult\",\"Senior\",\"Adult\",\"Teen\",\"Adult\",\"Senior\",\"Adult\",\"Child\",\"Adult\",\"Adult\",\"Child\",\"Adult\",\"Young Adult\",\"Young Adult\",\"Teen\",\"Senior\",\"Adult\",\"Adult\",\"Young Adult\",\"Adult\",\"Adult\",\"Adult\",\"Adult\",\"Senior\",\"Teen\",\"Adult\",\"Senior\",\"Adult\",\"Adult\",\"Adult\",\"Adult\",\"Adult\",\"Senior\",\"Senior\",\"Teen\",\"Teen\",\"Child\",\"Adult\",\"Adult\",\"Senior\",\"Teen\",\"Adult\",\"Teen\",\"Adult\",\"Adult\",\"Child\",\"Young Adult\",\"Adult\",\"Adult\",\"Young Adult\",\"Adult\",\"Adult\",\"Child\",\"Adult\",\"Adult\",\"Adult\",\"Senior\",\"Adult\",\"Adult\",\"Teen\",\"Teen\",\"Adult\",\"Senior\",\"Young Adult\",\"Adult\",\"Senior\",\"Adult\",\"Adult\",\"Adult\",\"Senior\",\"Adult\",\"Child\",\"Adult\",\"Adult\",\"Young Adult\",\"Child\",\"Senior\",\"Adult\",\"Adult\",\"Young Adult\",\"Adult\",\"Adult\",\"Adult\",\"Child\",\"Adult\",\"Senior\",\"Senior\",\"Child\",\"Adult\",\"Young Adult\",\"Senior\",\"Adult\",\"Senior\",\"Adult\",\"Child\",\"Child\",\"Adult\",\"Adult\",\"Child\",\"Senior\",\"Senior\",\"Young Adult\",\"Child\",\"Adult\",\"Young Adult\",\"Young Adult\",\"Adult\",\"Adult\",\"Adult\",\"Senior\",\"Adult\",\"Child\",\"Child\",\"Adult\",\"Adult\",\"Senior\",\"Teen\",\"Adult\",\"Senior\",\"Senior\",\"Child\",\"Senior\",\"Senior\",\"Adult\",\"Teen\",\"Senior\",\"Adult\",\"Adult\",\"Child\",\"Adult\",\"Young Adult\",\"Adult\",\"Teen\",\"Adult\",\"Young Adult\",\"Teen\",\"Child\",\"Senior\",\"Teen\",\"Senior\",\"Adult\",\"Teen\",\"Young Adult\",\"Adult\",\"Adult\",\"Child\",\"Senior\",\"Teen\",\"Adult\",\"Adult\",\"Child\",\"Senior\",\"Senior\",\"Young Adult\",\"Adult\",\"Senior\",\"Child\",\"Adult\",\"Child\",\"Senior\",\"Child\",\"Adult\",\"Adult\",\"Senior\",\"Teen\",\"Adult\",\"Adult\",\"Senior\",\"Adult\",\"Adult\",\"Senior\",\"Young Adult\",\"Child\",\"Adult\",\"Young Adult\",\"Adult\",\"Adult\",\"Child\",\"Adult\",\"Child\",\"Adult\",\"Adult\",\"Senior\",\"Senior\",\"Adult\",\"Senior\",\"Adult\",\"Adult\",\"Child\",\"Child\",\"Adult\",\"Child\",\"Senior\",\"Teen\",\"Senior\",\"Adult\",\"Child\",\"Adult\",\"Child\",\"Senior\",\"Senior\",\"Senior\",\"Adult\",\"Senior\",\"Teen\",\"Adult\",\"Child\",\"Child\",\"Adult\",\"Adult\",\"Adult\",\"Teen\",\"Child\",\"Child\",\"Adult\",\"Adult\",\"Adult\",\"Adult\",\"Senior\",\"Senior\",\"Adult\",\"Adult\",\"Child\",\"Senior\",\"Adult\",\"Adult\",\"Senior\",\"Adult\",\"Adult\",\"Teen\",\"Senior\",\"Senior\",\"Adult\",\"Child\",\"Young Adult\",\"Child\",\"Senior\",\"Child\",\"Senior\",\"Adult\",\"Adult\",\"Young Adult\",\"Senior\",\"Child\",\"Senior\",\"Adult\",\"Young Adult\",\"Adult\",\"Adult\",\"Senior\",\"Adult\",\"Young Adult\",\"Adult\",\"Adult\",\"Adult\",\"Young Adult\",\"Adult\",\"Senior\",\"Adult\",\"Senior\",\"Senior\",\"Child\",\"Senior\",\"Child\",\"Young Adult\",\"Child\",\"Adult\",\"Senior\",\"Adult\",\"Adult\"],\"xaxis\":\"x\",\"yaxis\":\"y\",\"type\":\"histogram\"},{\"alignmentgroup\":\"True\",\"bingroup\":\"x\",\"hovertemplate\":\"Ticket Source=Ticket Office\\u003cbr\\u003eAge Group=%{x}\\u003cbr\\u003ecount=%{y}\\u003cextra\\u003e\\u003c\\u002fextra\\u003e\",\"legendgroup\":\"Ticket Office\",\"marker\":{\"color\":\"rgb(231,138,195)\",\"pattern\":{\"shape\":\"\"}},\"name\":\"Ticket Office\",\"offsetgroup\":\"Ticket Office\",\"orientation\":\"v\",\"showlegend\":true,\"x\":[\"Adult\",\"Senior\",\"Child\",\"Adult\",\"Senior\",\"Adult\",\"Senior\",\"Child\",\"Senior\",\"Child\",\"Senior\",\"Adult\",\"Senior\",\"Senior\",\"Adult\",\"Adult\",\"Young Adult\",\"Teen\",\"Adult\",\"Senior\",\"Adult\",\"Adult\",\"Senior\",\"Adult\",\"Senior\",\"Adult\",\"Child\",\"Senior\",\"Teen\",\"Adult\",\"Adult\",\"Adult\",\"Adult\",\"Senior\",\"Adult\",\"Child\",\"Adult\",\"Teen\",\"Adult\",\"Child\",\"Senior\",\"Child\",\"Young Adult\",\"Adult\",\"Senior\",\"Adult\",\"Adult\",\"Adult\",\"Senior\",\"Teen\",\"Child\",\"Adult\",\"Adult\",\"Senior\",\"Adult\",\"Child\",\"Adult\",\"Adult\",\"Child\",\"Senior\",\"Child\",\"Senior\",\"Adult\",\"Child\",\"Young Adult\",\"Adult\",\"Young Adult\",\"Adult\",\"Adult\",\"Child\",\"Teen\",\"Teen\",\"Adult\",\"Child\",\"Young Adult\",\"Senior\",\"Adult\",\"Adult\",\"Senior\",\"Adult\",\"Adult\",\"Child\",\"Adult\",\"Child\",\"Teen\",\"Adult\",\"Senior\",\"Adult\",\"Young Adult\",\"Adult\",\"Senior\",\"Adult\",\"Adult\",\"Child\",\"Adult\",\"Adult\",\"Young Adult\",\"Adult\",\"Adult\",\"Adult\",\"Child\",\"Child\",\"Senior\",\"Adult\",\"Adult\",\"Child\",\"Adult\",\"Child\",\"Senior\",\"Senior\",\"Adult\",\"Adult\",\"Adult\",\"Adult\",\"Senior\",\"Adult\",\"Adult\",\"Adult\",\"Young Adult\",\"Adult\",\"Young Adult\",\"Child\",\"Adult\",\"Child\",\"Senior\",\"Adult\",\"Adult\",\"Senior\",\"Adult\",\"Child\",\"Child\",\"Senior\",\"Adult\",\"Child\",\"Child\",\"Adult\",\"Young Adult\",\"Adult\",\"Senior\",\"Adult\",\"Child\",\"Child\",\"Adult\",\"Senior\",\"Child\",\"Adult\",\"Child\",\"Child\",\"Teen\",\"Child\",\"Adult\",\"Child\",\"Child\",\"Young Adult\",\"Senior\",\"Adult\",\"Young Adult\",\"Child\",\"Senior\",\"Teen\",\"Adult\",\"Senior\",\"Adult\",\"Adult\",\"Senior\",\"Teen\",\"Adult\",\"Senior\",\"Senior\",\"Adult\",\"Adult\",\"Adult\",\"Senior\",\"Senior\",\"Adult\",\"Adult\",\"Adult\",\"Adult\",\"Adult\",\"Child\",\"Senior\",\"Adult\",\"Adult\",\"Adult\",\"Child\",\"Senior\",\"Adult\",\"Young Adult\",\"Child\",\"Child\",\"Senior\",\"Adult\",\"Adult\",\"Senior\",\"Senior\",\"Child\",\"Senior\",\"Senior\",\"Adult\",\"Adult\",\"Child\",\"Senior\",\"Child\",\"Adult\",\"Senior\",\"Senior\",\"Adult\",\"Adult\",\"Senior\",\"Senior\",\"Senior\",\"Adult\",\"Adult\",\"Adult\",\"Senior\",\"Child\",\"Adult\",\"Adult\",\"Adult\",\"Adult\",\"Child\",\"Adult\",\"Senior\",\"Adult\",\"Adult\",\"Adult\",\"Adult\",\"Senior\",\"Adult\",\"Child\",\"Adult\",\"Teen\",\"Senior\",\"Teen\",\"Teen\",\"Adult\",\"Adult\",\"Adult\",\"Senior\",\"Adult\",\"Senior\",\"Child\",\"Senior\",\"Senior\",\"Senior\",\"Adult\",\"Adult\",\"Senior\",\"Adult\",\"Senior\",\"Adult\",\"Senior\",\"Senior\",\"Senior\",\"Adult\",\"Senior\",\"Senior\",\"Adult\",\"Child\",\"Teen\",\"Adult\",\"Child\",\"Adult\",\"Senior\",\"Adult\",\"Senior\",\"Teen\",\"Adult\",\"Senior\",\"Child\",\"Adult\",\"Adult\",\"Adult\",\"Senior\",\"Teen\",\"Senior\",\"Teen\",\"Senior\",\"Adult\",\"Adult\",\"Senior\",\"Adult\",\"Child\",\"Adult\",\"Adult\",\"Senior\",\"Senior\",\"Senior\",\"Adult\",\"Adult\",\"Adult\",\"Teen\",\"Adult\",\"Child\",\"Adult\",\"Senior\",\"Adult\",\"Young Adult\",\"Adult\",\"Senior\",\"Adult\",\"Young Adult\",\"Adult\",\"Adult\",\"Senior\",\"Adult\",\"Senior\",\"Adult\",\"Adult\",\"Young Adult\",\"Adult\",\"Senior\",\"Adult\",\"Adult\",\"Child\",\"Young Adult\",\"Senior\",\"Young Adult\",\"Senior\",\"Adult\",\"Young Adult\",\"Child\",\"Adult\",\"Adult\",\"Adult\",\"Child\",\"Senior\",\"Adult\",\"Adult\",\"Adult\",\"Child\",\"Young Adult\",\"Adult\",\"Adult\",\"Teen\",\"Senior\",\"Adult\",\"Adult\",\"Adult\",\"Young Adult\",\"Senior\",\"Adult\",\"Young Adult\",\"Senior\",\"Senior\",\"Adult\",\"Adult\",\"Adult\",\"Senior\",\"Adult\",\"Adult\",\"Adult\",\"Adult\",\"Adult\",\"Adult\",\"Child\",\"Child\",\"Adult\",\"Adult\",\"Young Adult\",\"Teen\",\"Senior\",\"Young Adult\",\"Adult\",\"Adult\",\"Adult\",\"Adult\",\"Adult\",\"Young Adult\",\"Young Adult\",\"Adult\",\"Senior\",\"Young Adult\",\"Adult\",\"Adult\",\"Adult\",\"Senior\",\"Young Adult\",\"Adult\",\"Teen\",\"Senior\",\"Senior\",\"Child\",\"Child\",\"Adult\",\"Adult\",\"Teen\",\"Child\",\"Teen\",\"Young Adult\",\"Child\",\"Young Adult\",\"Young Adult\",\"Senior\",\"Teen\",\"Senior\",\"Senior\",\"Adult\",\"Adult\",\"Senior\",\"Adult\",\"Young Adult\",\"Senior\",\"Adult\",\"Child\",\"Senior\",\"Senior\",\"Teen\",\"Senior\",\"Senior\",\"Senior\",\"Adult\",\"Teen\",\"Adult\",\"Teen\",\"Adult\",\"Young Adult\",\"Adult\",\"Adult\",\"Child\",\"Adult\",\"Adult\",\"Senior\",\"Adult\",\"Adult\",\"Teen\",\"Adult\",\"Adult\",\"Adult\",\"Senior\",\"Adult\",\"Adult\",\"Senior\",\"Senior\",\"Senior\",\"Adult\",\"Adult\",\"Adult\",\"Senior\",\"Teen\",\"Child\",\"Adult\",\"Senior\",\"Young Adult\",\"Senior\",\"Senior\",\"Senior\",\"Child\",\"Senior\",\"Child\",\"Senior\",\"Adult\",\"Senior\",\"Adult\",\"Senior\",\"Adult\",\"Adult\",\"Child\",\"Senior\",\"Adult\",\"Senior\",\"Adult\",\"Adult\",\"Child\",\"Adult\",\"Child\",\"Child\",\"Adult\",\"Adult\",\"Young Adult\",\"Teen\",\"Child\",\"Teen\",\"Senior\",\"Adult\",\"Senior\",\"Young Adult\",\"Adult\",\"Adult\",\"Teen\",\"Senior\",\"Young Adult\",\"Adult\",\"Senior\",\"Senior\",\"Adult\",\"Teen\",\"Adult\",\"Adult\",\"Teen\",\"Adult\",\"Teen\",\"Senior\",\"Adult\",\"Adult\",\"Child\",\"Senior\",\"Adult\",\"Adult\",\"Adult\",\"Child\",\"Adult\",\"Adult\",\"Adult\",\"Adult\",\"Adult\",\"Senior\",\"Young Adult\",\"Senior\",\"Child\",\"Child\",\"Child\",\"Child\",\"Adult\",\"Adult\",\"Adult\",\"Young Adult\",\"Adult\",\"Senior\",\"Young Adult\",\"Young Adult\",\"Adult\",\"Adult\",\"Adult\",\"Adult\",\"Adult\",\"Young Adult\",\"Teen\",\"Adult\",\"Young Adult\",\"Child\",\"Adult\",\"Senior\",\"Adult\",\"Adult\",\"Senior\",\"Adult\",\"Adult\",\"Senior\",\"Adult\",\"Adult\",\"Senior\",\"Senior\",\"Child\",\"Senior\",\"Adult\",\"Adult\",\"Adult\",\"Child\",\"Young Adult\",\"Adult\",\"Adult\",\"Adult\",\"Adult\",\"Senior\",\"Adult\",\"Adult\",\"Senior\",\"Young Adult\",\"Adult\",\"Senior\",\"Adult\",\"Teen\",\"Adult\",\"Child\",\"Senior\",\"Senior\",\"Teen\",\"Young Adult\",\"Senior\",\"Child\",\"Young Adult\",\"Child\",\"Child\",\"Adult\",\"Adult\",\"Child\",\"Adult\",\"Senior\",\"Teen\",\"Senior\",\"Senior\",\"Senior\",\"Young Adult\",\"Teen\",\"Senior\",\"Adult\",\"Child\",\"Adult\",\"Adult\",\"Senior\",\"Senior\",\"Adult\",\"Senior\",\"Adult\",\"Young Adult\",\"Senior\",\"Adult\",\"Senior\",\"Child\",\"Teen\",\"Teen\",\"Senior\",\"Child\",\"Adult\",\"Adult\",\"Adult\",\"Senior\",\"Senior\",\"Adult\",\"Teen\",\"Child\",\"Adult\",\"Adult\",\"Young Adult\",\"Adult\",\"Adult\",\"Senior\",\"Young Adult\",\"Adult\",\"Adult\",\"Adult\",\"Adult\",\"Teen\",\"Adult\",\"Adult\",\"Young Adult\",\"Young Adult\",\"Young Adult\",\"Adult\",\"Senior\",\"Senior\",\"Adult\",\"Young Adult\",\"Teen\",\"Adult\",\"Child\",\"Teen\",\"Adult\",\"Adult\",\"Adult\",\"Adult\",\"Adult\",\"Adult\",\"Adult\",\"Child\",\"Senior\",\"Adult\",\"Child\",\"Senior\",\"Child\",\"Adult\",\"Senior\",\"Senior\",\"Adult\",\"Young Adult\",\"Child\",\"Teen\",\"Adult\",\"Senior\",\"Senior\",\"Young Adult\",\"Adult\",\"Senior\",\"Adult\",\"Child\",\"Senior\",\"Senior\",\"Young Adult\",\"Senior\",\"Adult\",\"Adult\",\"Adult\",\"Teen\",\"Senior\",\"Senior\",\"Child\",\"Adult\",\"Adult\",\"Senior\",\"Child\",\"Senior\",\"Senior\",\"Senior\",\"Teen\",\"Child\",\"Senior\",\"Young Adult\",\"Adult\",\"Senior\",\"Adult\",\"Adult\",\"Adult\",\"Adult\",\"Child\",\"Senior\",\"Adult\",\"Adult\",\"Adult\",\"Adult\",\"Senior\",\"Adult\",\"Young Adult\",\"Young Adult\",\"Adult\",\"Adult\",\"Senior\",\"Adult\",\"Adult\",\"Teen\",\"Senior\",\"Child\",\"Adult\",\"Adult\",\"Adult\",\"Senior\",\"Adult\",\"Senior\",\"Senior\",\"Senior\",\"Child\",\"Child\",\"Adult\",\"Young Adult\",\"Senior\",\"Senior\",\"Adult\",\"Adult\",\"Adult\",\"Senior\",\"Adult\",\"Adult\",\"Senior\",\"Senior\",\"Teen\",\"Child\",\"Senior\",\"Child\",\"Adult\",\"Senior\",\"Adult\",\"Senior\",\"Adult\",\"Adult\",\"Senior\",\"Adult\",\"Teen\",\"Young Adult\",\"Teen\",\"Adult\",\"Teen\",\"Adult\",\"Adult\",\"Adult\",\"Child\",\"Young Adult\",\"Senior\",\"Senior\",\"Adult\",\"Adult\",\"Adult\",\"Child\",\"Senior\",\"Senior\",\"Senior\",\"Adult\",\"Adult\",\"Adult\",\"Senior\",\"Adult\",\"Senior\",\"Adult\",\"Teen\",\"Adult\",\"Teen\",\"Senior\",\"Senior\",\"Child\",\"Senior\",\"Child\",\"Senior\",\"Adult\",\"Child\",\"Adult\",\"Adult\",\"Young Adult\",\"Senior\",\"Senior\",\"Senior\",\"Adult\",\"Young Adult\",\"Adult\",\"Adult\",\"Adult\",\"Senior\",\"Young Adult\",\"Senior\",\"Adult\",\"Senior\",\"Senior\",\"Adult\",\"Adult\",\"Senior\",\"Young Adult\",\"Adult\",\"Senior\",\"Adult\",\"Young Adult\",\"Adult\",\"Adult\",\"Adult\",\"Adult\",\"Child\",\"Senior\",\"Senior\",\"Child\",\"Child\",\"Adult\",\"Senior\",\"Young Adult\",\"Adult\",\"Teen\",\"Adult\",\"Adult\",\"Adult\",\"Senior\",\"Adult\",\"Young Adult\",\"Young Adult\",\"Adult\",\"Senior\",\"Adult\",\"Adult\",\"Young Adult\",\"Senior\",\"Senior\",\"Senior\",\"Teen\",\"Child\",\"Adult\",\"Senior\",\"Adult\",\"Child\",\"Adult\",\"Senior\",\"Adult\",\"Young Adult\",\"Adult\",\"Teen\",\"Adult\",\"Adult\",\"Young Adult\",\"Adult\",\"Senior\",\"Senior\",\"Adult\",\"Young Adult\",\"Teen\",\"Adult\",\"Teen\",\"Senior\",\"Young Adult\",\"Child\",\"Adult\",\"Senior\",\"Adult\",\"Senior\",\"Young Adult\",\"Adult\",\"Adult\",\"Senior\",\"Child\",\"Adult\",\"Senior\",\"Senior\",\"Adult\",\"Adult\",\"Adult\",\"Senior\",\"Adult\",\"Child\",\"Adult\",\"Adult\",\"Senior\",\"Child\",\"Senior\",\"Senior\",\"Adult\",\"Senior\",\"Adult\",\"Senior\",\"Adult\",\"Senior\",\"Child\",\"Adult\",\"Senior\",\"Senior\",\"Child\",\"Senior\",\"Child\",\"Adult\",\"Adult\",\"Child\",\"Adult\",\"Adult\",\"Senior\",\"Senior\",\"Adult\",\"Adult\",\"Adult\",\"Adult\",\"Adult\",\"Adult\",\"Adult\",\"Adult\",\"Senior\",\"Senior\",\"Child\",\"Child\",\"Adult\",\"Adult\",\"Adult\",\"Teen\",\"Teen\",\"Child\",\"Adult\",\"Child\",\"Adult\",\"Adult\",\"Senior\",\"Adult\",\"Adult\",\"Senior\",\"Teen\",\"Adult\",\"Child\",\"Adult\",\"Adult\",\"Senior\",\"Senior\",\"Senior\",\"Child\",\"Senior\",\"Adult\",\"Adult\",\"Child\",\"Adult\",\"Child\",\"Teen\",\"Adult\",\"Senior\",\"Adult\",\"Child\",\"Child\",\"Senior\",\"Young Adult\",\"Senior\",\"Young Adult\",\"Young Adult\",\"Adult\",\"Child\",\"Adult\",\"Adult\",\"Adult\",\"Child\",\"Young Adult\",\"Adult\",\"Adult\",\"Adult\",\"Child\",\"Senior\",\"Child\",\"Senior\",\"Senior\",\"Senior\",\"Adult\",\"Senior\",\"Adult\",\"Adult\",\"Adult\",\"Adult\",\"Adult\",\"Adult\",\"Child\",\"Young Adult\",\"Teen\",\"Senior\",\"Teen\",\"Senior\",\"Adult\",\"Child\",\"Adult\",\"Adult\",\"Adult\",\"Adult\",\"Senior\",\"Adult\",\"Adult\",\"Adult\",\"Senior\",\"Senior\",\"Senior\",\"Adult\",\"Adult\",\"Adult\",\"Teen\",\"Child\",\"Senior\",\"Young Adult\",\"Child\",\"Child\",\"Adult\",\"Young Adult\",\"Senior\",\"Child\",\"Adult\",\"Adult\",\"Senior\",\"Teen\",\"Adult\",\"Adult\",\"Senior\",\"Adult\",\"Adult\",\"Adult\",\"Young Adult\",\"Adult\",\"Adult\",\"Senior\",\"Child\",\"Senior\",\"Adult\",\"Teen\",\"Child\",\"Adult\",\"Senior\",\"Adult\",\"Adult\",\"Teen\",\"Teen\",\"Adult\",\"Adult\",\"Senior\",\"Child\",\"Teen\",\"Adult\",\"Teen\",\"Adult\",\"Adult\",\"Adult\",\"Teen\",\"Senior\",\"Child\",\"Teen\",\"Young Adult\",\"Adult\",\"Child\",\"Adult\",\"Teen\",\"Adult\",\"Senior\",\"Adult\",\"Child\",\"Senior\",\"Young Adult\",\"Young Adult\",\"Adult\",\"Adult\",\"Senior\",\"Senior\",\"Senior\",\"Adult\",\"Senior\",\"Senior\",\"Young Adult\",\"Child\",\"Adult\",\"Senior\",\"Adult\",\"Adult\",\"Young Adult\",\"Senior\",\"Adult\",\"Adult\",\"Adult\",\"Child\",\"Adult\",\"Senior\",\"Young Adult\",\"Adult\",\"Child\",\"Teen\",\"Senior\",\"Adult\",\"Teen\",\"Teen\",\"Adult\",\"Adult\",\"Child\",\"Adult\",\"Adult\",\"Senior\",\"Senior\",\"Senior\",\"Senior\",\"Adult\",\"Child\",\"Adult\",\"Adult\",\"Child\",\"Adult\",\"Adult\",\"Young Adult\",\"Adult\",\"Child\",\"Adult\",\"Senior\",\"Senior\",\"Young Adult\",\"Senior\",\"Adult\",\"Senior\",\"Senior\",\"Senior\",\"Adult\",\"Child\",\"Senior\",\"Adult\",\"Young Adult\",\"Adult\",\"Senior\",\"Young Adult\",\"Senior\",\"Senior\",\"Adult\",\"Adult\",\"Adult\",\"Senior\",\"Young Adult\",\"Adult\",\"Child\",\"Senior\",\"Senior\",\"Senior\",\"Young Adult\",\"Adult\",\"Adult\",\"Adult\",\"Senior\",\"Adult\",\"Senior\",\"Senior\",\"Senior\",\"Senior\",\"Teen\",\"Child\",\"Senior\",\"Child\",\"Adult\",\"Adult\",\"Adult\",\"Child\",\"Teen\",\"Senior\",\"Adult\",\"Adult\",\"Child\",\"Senior\",\"Adult\",\"Adult\",\"Adult\",\"Child\",\"Adult\",\"Teen\",\"Adult\",\"Adult\",\"Adult\",\"Adult\",\"Adult\",\"Senior\",\"Adult\",\"Senior\",\"Adult\",\"Adult\",\"Child\",\"Young Adult\",\"Senior\",\"Adult\",\"Adult\",\"Adult\",\"Senior\",\"Child\",\"Adult\",\"Senior\",\"Young Adult\",\"Child\",\"Senior\",\"Senior\",\"Adult\",\"Young Adult\",\"Adult\",\"Child\",\"Senior\",\"Senior\",\"Child\",\"Senior\",\"Senior\",\"Adult\",\"Adult\",\"Senior\",\"Senior\",\"Senior\",\"Child\",\"Senior\",\"Teen\",\"Child\",\"Adult\",\"Adult\",\"Adult\",\"Adult\",\"Senior\",\"Senior\",\"Adult\",\"Adult\",\"Adult\",\"Senior\",\"Adult\",\"Child\",\"Young Adult\",\"Adult\",\"Child\",\"Senior\",\"Teen\",\"Adult\",\"Young Adult\",\"Young Adult\",\"Senior\",\"Child\",\"Child\",\"Adult\",\"Young Adult\",\"Adult\",\"Adult\",\"Child\",\"Adult\",\"Child\",\"Adult\",\"Senior\",\"Senior\",\"Adult\",\"Adult\",\"Senior\",\"Senior\",\"Teen\",\"Senior\",\"Senior\",\"Young Adult\",\"Child\",\"Child\",\"Adult\",\"Adult\",\"Teen\",\"Adult\",\"Adult\",\"Senior\",\"Adult\",\"Child\",\"Adult\",\"Adult\",\"Adult\",\"Adult\",\"Senior\",\"Adult\",\"Adult\",\"Senior\",\"Adult\",\"Adult\",\"Senior\",\"Child\",\"Senior\",\"Adult\",\"Teen\",\"Young Adult\",\"Senior\",\"Adult\",\"Senior\",\"Adult\",\"Child\",\"Senior\",\"Child\",\"Adult\",\"Senior\",\"Senior\",\"Adult\",\"Adult\",\"Adult\",\"Teen\",\"Adult\",\"Senior\",\"Senior\",\"Adult\",\"Adult\",\"Adult\",\"Adult\",\"Adult\",\"Senior\",\"Child\",\"Senior\",\"Adult\",\"Young Adult\",\"Adult\",\"Child\",\"Adult\",\"Adult\",\"Senior\",\"Senior\",\"Adult\",\"Child\",\"Teen\",\"Young Adult\",\"Teen\",\"Adult\",\"Adult\",\"Adult\",\"Child\",\"Young Adult\",\"Senior\",\"Adult\",\"Senior\",\"Adult\",\"Adult\",\"Senior\",\"Adult\",\"Adult\",\"Teen\",\"Senior\",\"Adult\",\"Adult\",\"Adult\",\"Young Adult\",\"Adult\",\"Young Adult\",\"Teen\",\"Young Adult\",\"Adult\",\"Teen\",\"Adult\",\"Adult\",\"Adult\",\"Senior\",\"Child\",\"Teen\",\"Senior\",\"Adult\",\"Adult\",\"Adult\",\"Senior\",\"Adult\",\"Adult\",\"Senior\",\"Adult\",\"Adult\",\"Young Adult\",\"Senior\",\"Senior\",\"Child\",\"Senior\",\"Senior\",\"Adult\",\"Child\",\"Senior\",\"Adult\",\"Senior\",\"Adult\",\"Adult\",\"Adult\",\"Adult\",\"Adult\",\"Adult\",\"Senior\",\"Senior\",\"Young Adult\",\"Child\",\"Senior\",\"Adult\",\"Adult\",\"Senior\",\"Adult\",\"Adult\",\"Adult\",\"Senior\",\"Child\",\"Child\",\"Teen\",\"Adult\",\"Child\",\"Young Adult\",\"Senior\",\"Adult\",\"Adult\",\"Senior\",\"Senior\",\"Adult\",\"Senior\",\"Adult\",\"Teen\",\"Child\",\"Adult\",\"Adult\",\"Adult\",\"Child\",\"Adult\",\"Teen\",\"Adult\",\"Adult\",\"Senior\",\"Adult\",\"Adult\",\"Adult\",\"Adult\",\"Adult\",\"Child\",\"Senior\",\"Adult\",\"Child\",\"Child\",\"Adult\",\"Adult\",\"Adult\",\"Young Adult\",\"Adult\",\"Adult\",\"Adult\",\"Teen\",\"Senior\",\"Adult\",\"Senior\",\"Senior\",\"Senior\",\"Senior\",\"Child\",\"Adult\",\"Child\",\"Adult\",\"Senior\",\"Senior\",\"Adult\",\"Adult\",\"Adult\",\"Adult\",\"Adult\",\"Senior\",\"Child\",\"Senior\",\"Adult\",\"Adult\",\"Adult\",\"Adult\",\"Senior\",\"Child\",\"Child\",\"Senior\",\"Adult\",\"Child\",\"Adult\",\"Adult\",\"Senior\",\"Adult\",\"Young Adult\",\"Child\",\"Adult\",\"Child\",\"Senior\",\"Senior\",\"Senior\",\"Senior\",\"Adult\",\"Senior\",\"Child\",\"Senior\",\"Adult\",\"Senior\",\"Senior\",\"Senior\",\"Adult\",\"Senior\",\"Senior\",\"Adult\",\"Adult\",\"Senior\",\"Adult\",\"Senior\",\"Senior\",\"Senior\",\"Adult\",\"Senior\",\"Young Adult\",\"Adult\",\"Adult\",\"Young Adult\",\"Senior\",\"Adult\",\"Child\",\"Senior\",\"Senior\",\"Adult\",\"Adult\",\"Adult\",\"Senior\",\"Adult\",\"Adult\",\"Child\",\"Adult\",\"Teen\",\"Adult\",\"Adult\",\"Senior\",\"Teen\",\"Adult\",\"Adult\",\"Adult\",\"Adult\",\"Child\",\"Adult\",\"Adult\",\"Adult\",\"Senior\",\"Adult\",\"Adult\",\"Senior\",\"Adult\",\"Young Adult\",\"Young Adult\",\"Adult\",\"Adult\",\"Adult\",\"Adult\",\"Adult\",\"Senior\",\"Adult\",\"Adult\",\"Child\",\"Child\",\"Young Adult\",\"Senior\",\"Senior\",\"Senior\",\"Adult\",\"Adult\",\"Adult\",\"Adult\",\"Child\",\"Child\",\"Senior\",\"Senior\",\"Senior\",\"Young Adult\",\"Adult\",\"Adult\",\"Senior\",\"Senior\",\"Senior\",\"Adult\",\"Senior\",\"Adult\",\"Adult\",\"Senior\",\"Adult\",\"Adult\",\"Adult\",\"Adult\",\"Young Adult\",\"Adult\",\"Teen\",\"Adult\",\"Adult\",\"Adult\",\"Adult\",\"Senior\",\"Young Adult\",\"Child\",\"Adult\",\"Adult\",\"Senior\",\"Teen\",\"Adult\",\"Young Adult\",\"Senior\",\"Child\",\"Young Adult\",\"Adult\",\"Young Adult\",\"Teen\",\"Adult\",\"Adult\",\"Young Adult\",\"Adult\",\"Adult\",\"Teen\",\"Adult\",\"Adult\",\"Adult\",\"Child\",\"Young Adult\",\"Adult\",\"Senior\",\"Child\",\"Teen\",\"Young Adult\",\"Child\",\"Senior\",\"Senior\",\"Adult\",\"Senior\",\"Adult\",\"Adult\",\"Young Adult\",\"Child\",\"Adult\",\"Adult\",\"Adult\",\"Adult\",\"Senior\",\"Adult\",\"Adult\",\"Teen\",\"Young Adult\",\"Child\",\"Senior\",\"Adult\",\"Senior\",\"Adult\",\"Adult\",\"Senior\",\"Child\",\"Adult\",\"Child\",\"Adult\",\"Adult\",\"Child\",\"Child\",\"Adult\",\"Adult\",\"Adult\",\"Adult\",\"Senior\",\"Adult\",\"Child\",\"Adult\",\"Adult\",\"Adult\",\"Young Adult\",\"Adult\",\"Child\",\"Young Adult\",\"Adult\",\"Senior\",\"Adult\",\"Adult\",\"Adult\",\"Senior\",\"Child\",\"Adult\",\"Senior\",\"Adult\",\"Child\",\"Adult\",\"Adult\",\"Young Adult\",\"Adult\",\"Teen\",\"Child\",\"Adult\",\"Senior\",\"Adult\",\"Adult\",\"Child\",\"Teen\",\"Senior\",\"Adult\",\"Adult\",\"Adult\",\"Adult\",\"Child\",\"Adult\",\"Adult\",\"Adult\",\"Child\",\"Adult\",\"Adult\",\"Child\",\"Child\",\"Senior\",\"Senior\",\"Child\",\"Senior\",\"Senior\",\"Senior\",\"Adult\",\"Adult\",\"Senior\",\"Adult\",\"Adult\",\"Young Adult\",\"Senior\",\"Adult\",\"Adult\",\"Child\",\"Senior\",\"Senior\",\"Adult\",\"Adult\",\"Senior\",\"Senior\",\"Adult\",\"Senior\",\"Senior\",\"Adult\",\"Young Adult\",\"Child\",\"Adult\",\"Senior\",\"Child\",\"Child\",\"Adult\",\"Senior\",\"Adult\",\"Adult\",\"Senior\",\"Adult\",\"Senior\",\"Adult\",\"Senior\",\"Senior\",\"Adult\",\"Adult\",\"Adult\",\"Adult\",\"Child\",\"Young Adult\",\"Adult\",\"Teen\",\"Senior\",\"Child\",\"Senior\",\"Adult\",\"Adult\",\"Teen\",\"Adult\",\"Adult\",\"Adult\",\"Senior\",\"Child\",\"Adult\",\"Adult\",\"Teen\",\"Adult\",\"Child\",\"Adult\",\"Senior\",\"Teen\",\"Senior\",\"Adult\",\"Child\",\"Adult\",\"Young Adult\",\"Teen\",\"Young Adult\",\"Teen\",\"Teen\",\"Adult\",\"Adult\",\"Young Adult\",\"Teen\",\"Senior\",\"Adult\",\"Child\",\"Adult\",\"Adult\",\"Senior\",\"Senior\",\"Young Adult\",\"Teen\",\"Child\",\"Adult\",\"Adult\",\"Adult\",\"Adult\",\"Senior\",\"Child\",\"Senior\",\"Adult\",\"Adult\",\"Adult\",\"Senior\",\"Adult\",\"Young Adult\",\"Child\",\"Adult\",\"Adult\",\"Senior\",\"Young Adult\",\"Child\",\"Adult\",\"Adult\",\"Young Adult\",\"Senior\",\"Adult\",\"Adult\",\"Young Adult\",\"Teen\",\"Adult\",\"Adult\",\"Child\",\"Child\",\"Young Adult\",\"Adult\",\"Senior\",\"Senior\",\"Senior\",\"Senior\",\"Senior\",\"Child\",\"Senior\",\"Child\",\"Adult\",\"Young Adult\",\"Senior\",\"Adult\",\"Adult\",\"Adult\",\"Senior\",\"Adult\",\"Adult\",\"Child\",\"Teen\",\"Adult\",\"Adult\",\"Adult\",\"Senior\",\"Senior\",\"Adult\",\"Adult\",\"Senior\",\"Teen\",\"Adult\",\"Adult\",\"Senior\",\"Senior\",\"Teen\",\"Senior\",\"Adult\",\"Adult\",\"Adult\",\"Adult\",\"Senior\",\"Child\",\"Senior\",\"Adult\",\"Senior\",\"Young Adult\",\"Young Adult\",\"Adult\",\"Child\",\"Child\",\"Child\",\"Young Adult\",\"Child\",\"Senior\",\"Senior\",\"Senior\",\"Adult\",\"Adult\",\"Adult\",\"Teen\",\"Child\",\"Adult\",\"Adult\",\"Young Adult\",\"Senior\",\"Child\",\"Adult\",\"Young Adult\",\"Adult\",\"Senior\",\"Adult\",\"Adult\",\"Adult\",\"Adult\",\"Adult\",\"Adult\",\"Senior\",\"Adult\",\"Senior\",\"Young Adult\",\"Young Adult\",\"Adult\",\"Adult\",\"Young Adult\",\"Senior\",\"Senior\",\"Child\",\"Young Adult\",\"Senior\",\"Senior\",\"Senior\",\"Senior\",\"Senior\",\"Young Adult\",\"Young Adult\",\"Adult\",\"Adult\",\"Adult\",\"Senior\",\"Adult\",\"Adult\",\"Teen\",\"Adult\",\"Adult\",\"Adult\",\"Senior\",\"Adult\",\"Senior\",\"Teen\",\"Senior\",\"Adult\",\"Senior\",\"Adult\",\"Adult\",\"Adult\",\"Adult\",\"Senior\",\"Adult\",\"Teen\",\"Teen\",\"Adult\",\"Adult\",\"Adult\",\"Adult\",\"Senior\",\"Adult\",\"Teen\",\"Senior\",\"Adult\",\"Adult\",\"Adult\",\"Adult\",\"Senior\",\"Teen\",\"Senior\",\"Adult\",\"Senior\",\"Adult\",\"Young Adult\",\"Adult\",\"Child\",\"Adult\",\"Teen\",\"Child\",\"Teen\",\"Child\",\"Senior\",\"Adult\",\"Adult\",\"Senior\",\"Adult\",\"Senior\",\"Child\",\"Adult\",\"Young Adult\",\"Child\",\"Adult\",\"Senior\",\"Adult\",\"Adult\",\"Child\",\"Young Adult\",\"Adult\",\"Adult\",\"Adult\",\"Adult\",\"Senior\",\"Senior\",\"Senior\",\"Senior\",\"Adult\",\"Adult\",\"Senior\",\"Adult\",\"Adult\",\"Senior\",\"Child\",\"Senior\",\"Adult\",\"Child\",\"Teen\",\"Young Adult\",\"Child\",\"Senior\",\"Senior\",\"Adult\",\"Adult\",\"Senior\",\"Adult\",\"Adult\",\"Adult\",\"Adult\",\"Adult\",\"Adult\",\"Adult\",\"Adult\",\"Teen\",\"Adult\",\"Teen\",\"Senior\",\"Teen\",\"Teen\",\"Senior\",\"Adult\",\"Adult\",\"Adult\",\"Adult\",\"Senior\",\"Senior\",\"Adult\",\"Adult\",\"Adult\",\"Young Adult\",\"Senior\",\"Senior\",\"Adult\",\"Senior\",\"Child\",\"Senior\",\"Adult\",\"Senior\",\"Senior\",\"Child\",\"Young Adult\",\"Senior\",\"Adult\",\"Adult\",\"Adult\",\"Adult\",\"Adult\",\"Adult\",\"Adult\",\"Senior\",\"Senior\",\"Senior\",\"Adult\",\"Adult\",\"Child\",\"Child\",\"Teen\",\"Senior\",\"Young Adult\",\"Senior\",\"Senior\",\"Adult\",\"Young Adult\",\"Senior\",\"Senior\",\"Young Adult\",\"Child\",\"Adult\",\"Young Adult\",\"Adult\",\"Adult\",\"Senior\",\"Child\",\"Adult\",\"Young Adult\",\"Adult\",\"Adult\",\"Senior\",\"Senior\",\"Senior\",\"Child\",\"Adult\",\"Child\",\"Senior\",\"Senior\",\"Adult\",\"Senior\",\"Senior\",\"Adult\",\"Teen\",\"Senior\",\"Senior\",\"Senior\",\"Senior\",\"Senior\",\"Senior\",\"Young Adult\",\"Adult\",\"Young Adult\",\"Senior\",\"Adult\",\"Senior\",\"Adult\",\"Senior\",\"Child\",\"Adult\",\"Child\",\"Senior\",\"Young Adult\",\"Adult\",\"Senior\",\"Young Adult\",\"Young Adult\",\"Teen\",\"Senior\",\"Senior\",\"Senior\",\"Adult\",\"Senior\",\"Senior\",\"Adult\",\"Senior\",\"Adult\",\"Adult\",\"Child\",\"Adult\",\"Young Adult\",\"Teen\",\"Child\",\"Adult\",\"Adult\",\"Senior\",\"Senior\",\"Senior\",\"Adult\",\"Young Adult\",\"Young Adult\",\"Senior\",\"Adult\",\"Adult\",\"Adult\",\"Senior\",\"Adult\",\"Adult\",\"Senior\",\"Senior\",\"Adult\",\"Young Adult\",\"Child\",\"Adult\",\"Adult\",\"Adult\",\"Adult\",\"Child\",\"Adult\",\"Senior\",\"Child\",\"Senior\",\"Senior\",\"Adult\",\"Young Adult\",\"Senior\",\"Senior\",\"Senior\",\"Child\",\"Senior\",\"Teen\",\"Adult\",\"Adult\",\"Adult\",\"Young Adult\",\"Teen\",\"Child\",\"Young Adult\",\"Adult\",\"Child\",\"Senior\",\"Senior\",\"Child\",\"Adult\",\"Adult\",\"Child\",\"Adult\",\"Child\",\"Adult\",\"Senior\",\"Adult\",\"Teen\",\"Adult\",\"Adult\",\"Senior\",\"Child\",\"Young Adult\",\"Young Adult\",\"Young Adult\",\"Senior\",\"Child\",\"Adult\",\"Adult\",\"Child\",\"Young Adult\",\"Adult\",\"Adult\",\"Teen\",\"Adult\",\"Adult\",\"Adult\",\"Senior\",\"Adult\",\"Adult\",\"Child\",\"Child\",\"Child\",\"Senior\",\"Adult\",\"Senior\",\"Adult\",\"Adult\",\"Child\",\"Adult\",\"Child\",\"Young Adult\",\"Adult\",\"Child\",\"Adult\",\"Senior\",\"Adult\",\"Adult\",\"Senior\",\"Young Adult\",\"Adult\",\"Adult\",\"Young Adult\",\"Adult\",\"Senior\",\"Young Adult\",\"Senior\",\"Adult\",\"Teen\",\"Senior\",\"Young Adult\",\"Adult\",\"Child\",\"Senior\",\"Senior\",\"Adult\",\"Senior\",\"Child\",\"Adult\",\"Senior\",\"Young Adult\",\"Child\",\"Teen\",\"Adult\",\"Child\",\"Child\",\"Senior\",\"Child\",\"Senior\",\"Adult\",\"Senior\",\"Adult\",\"Adult\",\"Young Adult\",\"Adult\",\"Child\",\"Adult\",\"Adult\",\"Senior\",\"Child\",\"Adult\",\"Child\",\"Adult\",\"Adult\",\"Senior\",\"Senior\",\"Adult\",\"Adult\",\"Adult\",\"Adult\",\"Senior\",\"Adult\",\"Senior\",\"Young Adult\",\"Senior\",\"Adult\",\"Child\",\"Senior\",\"Adult\",\"Child\",\"Adult\",\"Senior\",\"Child\",\"Senior\",\"Young Adult\",\"Senior\",\"Adult\",\"Adult\",\"Senior\",\"Adult\",\"Senior\",\"Young Adult\",\"Adult\",\"Adult\",\"Senior\",\"Young Adult\",\"Adult\",\"Adult\",\"Adult\",\"Adult\",\"Adult\",\"Adult\",\"Senior\",\"Adult\",\"Child\",\"Adult\",\"Senior\",\"Adult\",\"Adult\",\"Adult\",\"Senior\",\"Senior\",\"Adult\",\"Child\",\"Adult\",\"Senior\",\"Child\",\"Senior\",\"Adult\",\"Young Adult\",\"Teen\",\"Young Adult\",\"Senior\",\"Adult\",\"Child\",\"Adult\",\"Adult\",\"Child\",\"Adult\",\"Child\",\"Senior\",\"Adult\",\"Child\",\"Adult\",\"Child\",\"Senior\",\"Young Adult\",\"Child\",\"Senior\",\"Adult\",\"Adult\",\"Teen\",\"Young Adult\",\"Child\",\"Adult\",\"Adult\",\"Child\",\"Adult\",\"Senior\",\"Adult\",\"Senior\",\"Young Adult\",\"Senior\",\"Child\",\"Adult\",\"Teen\",\"Adult\",\"Adult\",\"Adult\",\"Senior\",\"Child\",\"Child\",\"Teen\",\"Senior\",\"Adult\",\"Adult\",\"Child\",\"Teen\",\"Adult\",\"Child\",\"Adult\",\"Teen\",\"Teen\",\"Adult\",\"Adult\",\"Adult\",\"Senior\",\"Child\",\"Senior\",\"Adult\",\"Young Adult\",\"Adult\",\"Senior\",\"Adult\",\"Adult\",\"Adult\",\"Senior\",\"Child\",\"Teen\",\"Young Adult\",\"Senior\",\"Child\",\"Adult\",\"Adult\",\"Adult\",\"Adult\",\"Senior\",\"Senior\",\"Adult\",\"Senior\",\"Senior\",\"Adult\",\"Senior\",\"Adult\",\"Adult\",\"Adult\",\"Adult\",\"Teen\",\"Adult\",\"Young Adult\",\"Senior\",\"Child\",\"Teen\",\"Senior\",\"Child\",\"Child\",\"Child\",\"Teen\",\"Child\",\"Senior\",\"Teen\",\"Adult\",\"Senior\",\"Senior\",\"Adult\",\"Child\",\"Senior\",\"Child\",\"Senior\",\"Child\",\"Child\",\"Adult\",\"Senior\",\"Adult\",\"Senior\",\"Senior\",\"Young Adult\",\"Senior\",\"Adult\",\"Adult\",\"Adult\",\"Teen\",\"Senior\",\"Adult\",\"Child\",\"Adult\",\"Child\",\"Child\",\"Adult\",\"Adult\",\"Adult\",\"Senior\",\"Senior\",\"Adult\",\"Adult\",\"Adult\",\"Adult\",\"Adult\",\"Young Adult\",\"Senior\",\"Adult\",\"Young Adult\",\"Senior\",\"Adult\",\"Adult\",\"Young Adult\",\"Child\",\"Adult\",\"Teen\",\"Child\",\"Senior\",\"Young Adult\",\"Child\",\"Adult\",\"Senior\",\"Child\",\"Adult\",\"Senior\",\"Adult\",\"Teen\",\"Adult\",\"Adult\",\"Senior\",\"Senior\",\"Senior\",\"Teen\",\"Young Adult\",\"Senior\",\"Young Adult\",\"Adult\",\"Teen\",\"Adult\",\"Senior\",\"Senior\",\"Senior\",\"Child\",\"Adult\",\"Young Adult\",\"Adult\",\"Adult\",\"Young Adult\",\"Adult\",\"Senior\",\"Senior\",\"Teen\",\"Senior\",\"Child\",\"Adult\",\"Senior\",\"Adult\",\"Adult\",\"Adult\",\"Child\"],\"xaxis\":\"x\",\"yaxis\":\"y\",\"type\":\"histogram\"}],                        {\"template\":{\"data\":{\"histogram2dcontour\":[{\"type\":\"histogram2dcontour\",\"colorbar\":{\"outlinewidth\":0,\"ticks\":\"\"},\"colorscale\":[[0.0,\"#0d0887\"],[0.1111111111111111,\"#46039f\"],[0.2222222222222222,\"#7201a8\"],[0.3333333333333333,\"#9c179e\"],[0.4444444444444444,\"#bd3786\"],[0.5555555555555556,\"#d8576b\"],[0.6666666666666666,\"#ed7953\"],[0.7777777777777778,\"#fb9f3a\"],[0.8888888888888888,\"#fdca26\"],[1.0,\"#f0f921\"]]}],\"choropleth\":[{\"type\":\"choropleth\",\"colorbar\":{\"outlinewidth\":0,\"ticks\":\"\"}}],\"histogram2d\":[{\"type\":\"histogram2d\",\"colorbar\":{\"outlinewidth\":0,\"ticks\":\"\"},\"colorscale\":[[0.0,\"#0d0887\"],[0.1111111111111111,\"#46039f\"],[0.2222222222222222,\"#7201a8\"],[0.3333333333333333,\"#9c179e\"],[0.4444444444444444,\"#bd3786\"],[0.5555555555555556,\"#d8576b\"],[0.6666666666666666,\"#ed7953\"],[0.7777777777777778,\"#fb9f3a\"],[0.8888888888888888,\"#fdca26\"],[1.0,\"#f0f921\"]]}],\"heatmap\":[{\"type\":\"heatmap\",\"colorbar\":{\"outlinewidth\":0,\"ticks\":\"\"},\"colorscale\":[[0.0,\"#0d0887\"],[0.1111111111111111,\"#46039f\"],[0.2222222222222222,\"#7201a8\"],[0.3333333333333333,\"#9c179e\"],[0.4444444444444444,\"#bd3786\"],[0.5555555555555556,\"#d8576b\"],[0.6666666666666666,\"#ed7953\"],[0.7777777777777778,\"#fb9f3a\"],[0.8888888888888888,\"#fdca26\"],[1.0,\"#f0f921\"]]}],\"heatmapgl\":[{\"type\":\"heatmapgl\",\"colorbar\":{\"outlinewidth\":0,\"ticks\":\"\"},\"colorscale\":[[0.0,\"#0d0887\"],[0.1111111111111111,\"#46039f\"],[0.2222222222222222,\"#7201a8\"],[0.3333333333333333,\"#9c179e\"],[0.4444444444444444,\"#bd3786\"],[0.5555555555555556,\"#d8576b\"],[0.6666666666666666,\"#ed7953\"],[0.7777777777777778,\"#fb9f3a\"],[0.8888888888888888,\"#fdca26\"],[1.0,\"#f0f921\"]]}],\"contourcarpet\":[{\"type\":\"contourcarpet\",\"colorbar\":{\"outlinewidth\":0,\"ticks\":\"\"}}],\"contour\":[{\"type\":\"contour\",\"colorbar\":{\"outlinewidth\":0,\"ticks\":\"\"},\"colorscale\":[[0.0,\"#0d0887\"],[0.1111111111111111,\"#46039f\"],[0.2222222222222222,\"#7201a8\"],[0.3333333333333333,\"#9c179e\"],[0.4444444444444444,\"#bd3786\"],[0.5555555555555556,\"#d8576b\"],[0.6666666666666666,\"#ed7953\"],[0.7777777777777778,\"#fb9f3a\"],[0.8888888888888888,\"#fdca26\"],[1.0,\"#f0f921\"]]}],\"surface\":[{\"type\":\"surface\",\"colorbar\":{\"outlinewidth\":0,\"ticks\":\"\"},\"colorscale\":[[0.0,\"#0d0887\"],[0.1111111111111111,\"#46039f\"],[0.2222222222222222,\"#7201a8\"],[0.3333333333333333,\"#9c179e\"],[0.4444444444444444,\"#bd3786\"],[0.5555555555555556,\"#d8576b\"],[0.6666666666666666,\"#ed7953\"],[0.7777777777777778,\"#fb9f3a\"],[0.8888888888888888,\"#fdca26\"],[1.0,\"#f0f921\"]]}],\"mesh3d\":[{\"type\":\"mesh3d\",\"colorbar\":{\"outlinewidth\":0,\"ticks\":\"\"}}],\"scatter\":[{\"fillpattern\":{\"fillmode\":\"overlay\",\"size\":10,\"solidity\":0.2},\"type\":\"scatter\"}],\"parcoords\":[{\"type\":\"parcoords\",\"line\":{\"colorbar\":{\"outlinewidth\":0,\"ticks\":\"\"}}}],\"scatterpolargl\":[{\"type\":\"scatterpolargl\",\"marker\":{\"colorbar\":{\"outlinewidth\":0,\"ticks\":\"\"}}}],\"bar\":[{\"error_x\":{\"color\":\"#2a3f5f\"},\"error_y\":{\"color\":\"#2a3f5f\"},\"marker\":{\"line\":{\"color\":\"#E5ECF6\",\"width\":0.5},\"pattern\":{\"fillmode\":\"overlay\",\"size\":10,\"solidity\":0.2}},\"type\":\"bar\"}],\"scattergeo\":[{\"type\":\"scattergeo\",\"marker\":{\"colorbar\":{\"outlinewidth\":0,\"ticks\":\"\"}}}],\"scatterpolar\":[{\"type\":\"scatterpolar\",\"marker\":{\"colorbar\":{\"outlinewidth\":0,\"ticks\":\"\"}}}],\"histogram\":[{\"marker\":{\"pattern\":{\"fillmode\":\"overlay\",\"size\":10,\"solidity\":0.2}},\"type\":\"histogram\"}],\"scattergl\":[{\"type\":\"scattergl\",\"marker\":{\"colorbar\":{\"outlinewidth\":0,\"ticks\":\"\"}}}],\"scatter3d\":[{\"type\":\"scatter3d\",\"line\":{\"colorbar\":{\"outlinewidth\":0,\"ticks\":\"\"}},\"marker\":{\"colorbar\":{\"outlinewidth\":0,\"ticks\":\"\"}}}],\"scattermapbox\":[{\"type\":\"scattermapbox\",\"marker\":{\"colorbar\":{\"outlinewidth\":0,\"ticks\":\"\"}}}],\"scatterternary\":[{\"type\":\"scatterternary\",\"marker\":{\"colorbar\":{\"outlinewidth\":0,\"ticks\":\"\"}}}],\"scattercarpet\":[{\"type\":\"scattercarpet\",\"marker\":{\"colorbar\":{\"outlinewidth\":0,\"ticks\":\"\"}}}],\"carpet\":[{\"aaxis\":{\"endlinecolor\":\"#2a3f5f\",\"gridcolor\":\"white\",\"linecolor\":\"white\",\"minorgridcolor\":\"white\",\"startlinecolor\":\"#2a3f5f\"},\"baxis\":{\"endlinecolor\":\"#2a3f5f\",\"gridcolor\":\"white\",\"linecolor\":\"white\",\"minorgridcolor\":\"white\",\"startlinecolor\":\"#2a3f5f\"},\"type\":\"carpet\"}],\"table\":[{\"cells\":{\"fill\":{\"color\":\"#EBF0F8\"},\"line\":{\"color\":\"white\"}},\"header\":{\"fill\":{\"color\":\"#C8D4E3\"},\"line\":{\"color\":\"white\"}},\"type\":\"table\"}],\"barpolar\":[{\"marker\":{\"line\":{\"color\":\"#E5ECF6\",\"width\":0.5},\"pattern\":{\"fillmode\":\"overlay\",\"size\":10,\"solidity\":0.2}},\"type\":\"barpolar\"}],\"pie\":[{\"automargin\":true,\"type\":\"pie\"}]},\"layout\":{\"autotypenumbers\":\"strict\",\"colorway\":[\"#636efa\",\"#EF553B\",\"#00cc96\",\"#ab63fa\",\"#FFA15A\",\"#19d3f3\",\"#FF6692\",\"#B6E880\",\"#FF97FF\",\"#FECB52\"],\"font\":{\"color\":\"#2a3f5f\"},\"hovermode\":\"closest\",\"hoverlabel\":{\"align\":\"left\"},\"paper_bgcolor\":\"white\",\"plot_bgcolor\":\"#E5ECF6\",\"polar\":{\"bgcolor\":\"#E5ECF6\",\"angularaxis\":{\"gridcolor\":\"white\",\"linecolor\":\"white\",\"ticks\":\"\"},\"radialaxis\":{\"gridcolor\":\"white\",\"linecolor\":\"white\",\"ticks\":\"\"}},\"ternary\":{\"bgcolor\":\"#E5ECF6\",\"aaxis\":{\"gridcolor\":\"white\",\"linecolor\":\"white\",\"ticks\":\"\"},\"baxis\":{\"gridcolor\":\"white\",\"linecolor\":\"white\",\"ticks\":\"\"},\"caxis\":{\"gridcolor\":\"white\",\"linecolor\":\"white\",\"ticks\":\"\"}},\"coloraxis\":{\"colorbar\":{\"outlinewidth\":0,\"ticks\":\"\"}},\"colorscale\":{\"sequential\":[[0.0,\"#0d0887\"],[0.1111111111111111,\"#46039f\"],[0.2222222222222222,\"#7201a8\"],[0.3333333333333333,\"#9c179e\"],[0.4444444444444444,\"#bd3786\"],[0.5555555555555556,\"#d8576b\"],[0.6666666666666666,\"#ed7953\"],[0.7777777777777778,\"#fb9f3a\"],[0.8888888888888888,\"#fdca26\"],[1.0,\"#f0f921\"]],\"sequentialminus\":[[0.0,\"#0d0887\"],[0.1111111111111111,\"#46039f\"],[0.2222222222222222,\"#7201a8\"],[0.3333333333333333,\"#9c179e\"],[0.4444444444444444,\"#bd3786\"],[0.5555555555555556,\"#d8576b\"],[0.6666666666666666,\"#ed7953\"],[0.7777777777777778,\"#fb9f3a\"],[0.8888888888888888,\"#fdca26\"],[1.0,\"#f0f921\"]],\"diverging\":[[0,\"#8e0152\"],[0.1,\"#c51b7d\"],[0.2,\"#de77ae\"],[0.3,\"#f1b6da\"],[0.4,\"#fde0ef\"],[0.5,\"#f7f7f7\"],[0.6,\"#e6f5d0\"],[0.7,\"#b8e186\"],[0.8,\"#7fbc41\"],[0.9,\"#4d9221\"],[1,\"#276419\"]]},\"xaxis\":{\"gridcolor\":\"white\",\"linecolor\":\"white\",\"ticks\":\"\",\"title\":{\"standoff\":15},\"zerolinecolor\":\"white\",\"automargin\":true,\"zerolinewidth\":2},\"yaxis\":{\"gridcolor\":\"white\",\"linecolor\":\"white\",\"ticks\":\"\",\"title\":{\"standoff\":15},\"zerolinecolor\":\"white\",\"automargin\":true,\"zerolinewidth\":2},\"scene\":{\"xaxis\":{\"backgroundcolor\":\"#E5ECF6\",\"gridcolor\":\"white\",\"linecolor\":\"white\",\"showbackground\":true,\"ticks\":\"\",\"zerolinecolor\":\"white\",\"gridwidth\":2},\"yaxis\":{\"backgroundcolor\":\"#E5ECF6\",\"gridcolor\":\"white\",\"linecolor\":\"white\",\"showbackground\":true,\"ticks\":\"\",\"zerolinecolor\":\"white\",\"gridwidth\":2},\"zaxis\":{\"backgroundcolor\":\"#E5ECF6\",\"gridcolor\":\"white\",\"linecolor\":\"white\",\"showbackground\":true,\"ticks\":\"\",\"zerolinecolor\":\"white\",\"gridwidth\":2}},\"shapedefaults\":{\"line\":{\"color\":\"#2a3f5f\"}},\"annotationdefaults\":{\"arrowcolor\":\"#2a3f5f\",\"arrowhead\":0,\"arrowwidth\":1},\"geo\":{\"bgcolor\":\"white\",\"landcolor\":\"#E5ECF6\",\"subunitcolor\":\"white\",\"showland\":true,\"showlakes\":true,\"lakecolor\":\"white\"},\"title\":{\"x\":0.05},\"mapbox\":{\"style\":\"light\"}}},\"xaxis\":{\"anchor\":\"y\",\"domain\":[0.0,1.0],\"title\":{\"text\":\"Age Group\"}},\"yaxis\":{\"anchor\":\"x\",\"domain\":[0.0,1.0],\"title\":{\"text\":\"User Count\"}},\"legend\":{\"title\":{\"text\":\"Ticket Source\"},\"tracegroupgap\":0},\"margin\":{\"t\":60},\"barmode\":\"group\",\"title\":{\"text\":\"Payment Method by Age Group\",\"x\":0.5}},                        {\"responsive\": true}                    ).then(function(){\n",
              "                            \n",
              "var gd = document.getElementById('2ea63942-a5dc-45c8-9f3c-d0f3ed10396b');\n",
              "var x = new MutationObserver(function (mutations, observer) {{\n",
              "        var display = window.getComputedStyle(gd).display;\n",
              "        if (!display || display === 'none') {{\n",
              "            console.log([gd, 'removed!']);\n",
              "            Plotly.purge(gd);\n",
              "            observer.disconnect();\n",
              "        }}\n",
              "}});\n",
              "\n",
              "// Listen for the removal of the full notebook cells\n",
              "var notebookContainer = gd.closest('#notebook-container');\n",
              "if (notebookContainer) {{\n",
              "    x.observe(notebookContainer, {childList: true});\n",
              "}}\n",
              "\n",
              "// Listen for the clearing of the current output cell\n",
              "var outputEl = gd.closest('.output');\n",
              "if (outputEl) {{\n",
              "    x.observe(outputEl, {childList: true});\n",
              "}}\n",
              "\n",
              "                        })                };                            </script>        </div>\n",
              "</body>\n",
              "</html>"
            ]
          },
          "metadata": {}
        }
      ]
    },
    {
      "cell_type": "markdown",
      "source": [
        "## **5.Journeys Analysis:**"
      ],
      "metadata": {
        "id": "Fzzxa0aivhF8"
      }
    },
    {
      "cell_type": "markdown",
      "source": [
        "###What is the percentage of journeys that arrived on time compared to delayed or canceled journeys?"
      ],
      "metadata": {
        "id": "D3JsJYXlIlHx"
      }
    },
    {
      "cell_type": "code",
      "source": [
        "# Calculating the distribution of different journey statuses (e.g., completed, cancelled).\n",
        "# This helps understand the overall success or failure rate of metro trips.\n",
        "journey_per = df['Journey Status'].value_counts()\n",
        "journey_per = journey_per.to_dict()\n",
        "journey_per"
      ],
      "metadata": {
        "colab": {
          "base_uri": "https://localhost:8080/"
        },
        "id": "YVHvxCw-96wC",
        "outputId": "4aaf2a6e-ab6e-491b-9274-04716ba874ae"
      },
      "execution_count": null,
      "outputs": [
        {
          "output_type": "execute_result",
          "data": {
            "text/plain": [
              "{'Delayed': 3348, 'On Time': 3332, 'Cancelled': 3320}"
            ]
          },
          "metadata": {},
          "execution_count": 51
        }
      ]
    },
    {
      "cell_type": "code",
      "source": [
        "labels = journey_per.keys()\n",
        "values = journey_per.values()\n",
        "colors = ['#533B4D','#FAA4BD','#F564A9']\n",
        "sizes = [215, 130, 245]\n",
        "explode = [0, 0.1, 0]\n",
        "# Create a pie chart\n",
        "plt.pie(values, labels=labels, autopct='%1.2f%%',explode=explode,colors=colors,shadow=True, startangle=140)\n",
        "\n",
        "plt.axis('equal')\n",
        "\n",
        "# Add a title\n",
        "plt.title('Journey Status Distribution')\n",
        "\n",
        "plt.show()"
      ],
      "metadata": {
        "colab": {
          "base_uri": "https://localhost:8080/",
          "height": 428
        },
        "id": "mwE3jQkF-CNJ",
        "outputId": "40ecc59b-7305-4279-b4fc-b485b3df2417"
      },
      "execution_count": null,
      "outputs": [
        {
          "output_type": "display_data",
          "data": {
            "text/plain": [
              "<Figure size 640x480 with 1 Axes>"
            ],
            "image/png": "[encoded data removed]"
          },
          "metadata": {}
        }
      ]
    },
    {
      "cell_type": "markdown",
      "source": [
        "### What is the most common cause of journey delays?"
      ],
      "metadata": {
        "id": "ThKTWYNav6uU"
      }
    },
    {
      "cell_type": "code",
      "source": [
        "# Filtering the dataset to include only delayed trips and\n",
        "# counting the frequency of each delay reason to identify the most common causes of delay.\n",
        "delay_res=df[df['Delay Reason'] != 'No Delay']\n",
        "delay_res['Delay Reason'].value_counts()"
      ],
      "metadata": {
        "colab": {
          "base_uri": "https://localhost:8080/",
          "height": 178
        },
        "id": "5XGvpBzQv_I7",
        "outputId": "a35739eb-e9c8-478b-dd68-1c6aa385e75c"
      },
      "execution_count": null,
      "outputs": [
        {
          "output_type": "execute_result",
          "data": {
            "text/plain": [
              "Delay Reason\n",
              "Maintenance        1682\n",
              "Technical Issue    1666\n",
              "Name: count, dtype: int64"
            ],
            "text/html": [
              "<div>\n",
              "<style scoped>\n",
              "    .dataframe tbody tr th:only-of-type {\n",
              "        vertical-align: middle;\n",
              "    }\n",
              "\n",
              "    .dataframe tbody tr th {\n",
              "        vertical-align: top;\n",
              "    }\n",
              "\n",
              "    .dataframe thead th {\n",
              "        text-align: right;\n",
              "    }\n",
              "</style>\n",
              "<table border=\"1\" class=\"dataframe\">\n",
              "  <thead>\n",
              "    <tr style=\"text-align: right;\">\n",
              "      <th></th>\n",
              "      <th>count</th>\n",
              "    </tr>\n",
              "    <tr>\n",
              "      <th>Delay Reason</th>\n",
              "      <th></th>\n",
              "    </tr>\n",
              "  </thead>\n",
              "  <tbody>\n",
              "    <tr>\n",
              "      <th>Maintenance</th>\n",
              "      <td>1682</td>\n",
              "    </tr>\n",
              "    <tr>\n",
              "      <th>Technical Issue</th>\n",
              "      <td>1666</td>\n",
              "    </tr>\n",
              "  </tbody>\n",
              "</table>\n",
              "</div><br><label><b>dtype:</b> int64</label>"
            ]
          },
          "metadata": {},
          "execution_count": 53
        }
      ]
    },
    {
      "cell_type": "markdown",
      "source": [
        "###What is the percentage of journeys for which a refund has been requested?"
      ],
      "metadata": {
        "id": "d26_hm9UwFVu"
      }
    },
    {
      "cell_type": "code",
      "source": [
        "df['Refund Request'].value_counts(normalize=True)*100"
      ],
      "metadata": {
        "colab": {
          "base_uri": "https://localhost:8080/",
          "height": 178
        },
        "id": "QhF6UgjkT-qH",
        "outputId": "0ae7f1e3-adf6-48d7-c57f-cdc407d6a476"
      },
      "execution_count": null,
      "outputs": [
        {
          "output_type": "execute_result",
          "data": {
            "text/plain": [
              "Refund Request\n",
              "No     66.8\n",
              "Yes    33.2\n",
              "Name: proportion, dtype: float64"
            ],
            "text/html": [
              "<div>\n",
              "<style scoped>\n",
              "    .dataframe tbody tr th:only-of-type {\n",
              "        vertical-align: middle;\n",
              "    }\n",
              "\n",
              "    .dataframe tbody tr th {\n",
              "        vertical-align: top;\n",
              "    }\n",
              "\n",
              "    .dataframe thead th {\n",
              "        text-align: right;\n",
              "    }\n",
              "</style>\n",
              "<table border=\"1\" class=\"dataframe\">\n",
              "  <thead>\n",
              "    <tr style=\"text-align: right;\">\n",
              "      <th></th>\n",
              "      <th>proportion</th>\n",
              "    </tr>\n",
              "    <tr>\n",
              "      <th>Refund Request</th>\n",
              "      <th></th>\n",
              "    </tr>\n",
              "  </thead>\n",
              "  <tbody>\n",
              "    <tr>\n",
              "      <th>No</th>\n",
              "      <td>66.8</td>\n",
              "    </tr>\n",
              "    <tr>\n",
              "      <th>Yes</th>\n",
              "      <td>33.2</td>\n",
              "    </tr>\n",
              "  </tbody>\n",
              "</table>\n",
              "</div><br><label><b>dtype:</b> float64</label>"
            ]
          },
          "metadata": {},
          "execution_count": 54
        }
      ]
    },
    {
      "cell_type": "code",
      "source": [
        "# create a bar chart\n",
        "a,b=df['Refund Request'].value_counts().index,df['Refund Request'].value_counts().values\n",
        "plt.figure(figsize=(6, 4))\n",
        "plt.bar(a,b,color=['#66b3ff', '#ff9999'])\n",
        "plt.title(\"Refund Request\")\n",
        "plt.show()"
      ],
      "metadata": {
        "colab": {
          "base_uri": "https://localhost:8080/",
          "height": 391
        },
        "id": "koVGYEXQVwej",
        "outputId": "cde54177-51ce-458e-b09c-9ed20f7bfe13"
      },
      "execution_count": null,
      "outputs": [
        {
          "output_type": "display_data",
          "data": {
            "text/plain": [
              "<Figure size 600x400 with 1 Axes>"
            ],
            "image/png": "[encoded data removed]"
          },
          "metadata": {}
        }
      ]
    }
  ]
}